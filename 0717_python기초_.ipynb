{
  "cells": [
    {
      "cell_type": "markdown",
      "metadata": {
        "id": "view-in-github",
        "colab_type": "text"
      },
      "source": [
        "<a href=\"https://colab.research.google.com/github/youngjinjae/pythontest/blob/main/0717_python%EA%B8%B0%EC%B4%88_.ipynb\" target=\"_parent\"><img src=\"https://colab.research.google.com/assets/colab-badge.svg\" alt=\"Open In Colab\"/></a>"
      ]
    },
    {
      "cell_type": "code",
      "source": [
        "from google.colab import drive\n",
        "drive.mount('/content/drive')"
      ],
      "metadata": {
        "colab": {
          "base_uri": "https://localhost:8080/"
        },
        "id": "b6_CNMhDp2pr",
        "outputId": "b8d52331-7bbf-499a-de4d-bc5084d479be"
      },
      "id": "b6_CNMhDp2pr",
      "execution_count": null,
      "outputs": [
        {
          "output_type": "stream",
          "name": "stdout",
          "text": [
            "Mounted at /content/drive\n"
          ]
        }
      ]
    },
    {
      "cell_type": "code",
      "source": [
        "cd /content/drive/"
      ],
      "metadata": {
        "id": "YYYrDEGFqCz7"
      },
      "id": "YYYrDEGFqCz7",
      "execution_count": null,
      "outputs": []
    },
    {
      "cell_type": "code",
      "execution_count": null,
      "id": "4ebf4f99",
      "metadata": {
        "id": "4ebf4f99",
        "outputId": "090d0494-dd2c-4ee2-86d4-17447e329157"
      },
      "outputs": [
        {
          "name": "stdout",
          "output_type": "stream",
          "text": [
            "소리없는 아우성 \n"
          ]
        }
      ],
      "source": [
        "# 이렇게 코드를 입력 할 수 있는 공간을 cell 이라고 합니다\n",
        "# 이 셀안에 코드를입력하고 실행 할 수 있어요. 셀 단위로 실행이 가능\n",
        "print (\"소리없는 아우성 \")\n",
        "# 실행은 ctrl + enter 하면 실행\n",
        "# 만약 셀 추가로 생성하려면 b(below) 키를 아래\n",
        "# 만약 셀 추가로 생성하려면 a(above) 키를 위\n",
        "# 만약 셀 지우려면 d d 하면 되요. 파란 색 나오게 앞에 눌러서\n",
        "\n",
        "a = 100\n"
      ]
    },
    {
      "cell_type": "code",
      "execution_count": null,
      "id": "3bd57036",
      "metadata": {
        "id": "3bd57036",
        "outputId": "af405bb6-64b2-4eae-e42a-d5b5ff338be0"
      },
      "outputs": [
        {
          "name": "stdout",
          "output_type": "stream",
          "text": [
            "100\n"
          ]
        }
      ],
      "source": [
        "print(a)"
      ]
    },
    {
      "cell_type": "code",
      "execution_count": null,
      "id": "0f179a41",
      "metadata": {
        "id": "0f179a41"
      },
      "outputs": [],
      "source": [
        "# 메모리 공유로 인해 위에 신경 써야한다. 독립적인 공간은 아니다. 메모리 공유\n",
        "# 코드 나누어서 실행 가능함 b는 아래로\n",
        "\n",
        "# 1. 주석은\n",
        "# 주석은 # 이다.\n",
        "# 여러줄 주석은 ''' 여기 내용은 전부 주석'''\n",
        "'''\n",
        "여기 내용은 주석 처리여서\n",
        "모두 주석이빈다.\n",
        "\n",
        "\n",
        "'''\n",
        "# 컨트롤\n",
        "# 눌르고\n",
        "# /\n",
        "# 눌르면 이 가능하다.\n"
      ]
    },
    {
      "cell_type": "code",
      "execution_count": null,
      "id": "7a3e1e77",
      "metadata": {
        "id": "7a3e1e77"
      },
      "outputs": [],
      "source": [
        "# 2. 변수 선언\n",
        "# python은 다른 언어와 약간 다르게 변수 선언할때\n",
        "# 키워드 사용한다던지 데이터 타입을 명시하지 않아요.\n",
        "# javaScript = let mydata = 100 변수선언 후 사용\n",
        "\n",
        "# java = string mystr = '홍길동'\n",
        "\n",
        "# python 변수 선언 없이 그냥 바로 생성해서 사용 가능 문자열 구분 안함\n",
        "# myStr = '홍길동'  # 변수 성공\n",
        "# myStr = 100 # type에 구분 없이 파일 추천에 의한 타입의 결정 되기 때문에 변수에 값을\n",
        "# # 막 넣을 수 있다.\n",
        "# # python 변수를 삭제 할 수 있다.\n",
        "del mystr\n",
        "# 변수를 지울수 있다. 그러면 현재 100이 삭제되고 메모리에 없다.\n",
        "# 사용하지않는다 ."
      ]
    },
    {
      "cell_type": "code",
      "execution_count": null,
      "id": "aab07b30",
      "metadata": {
        "id": "aab07b30",
        "outputId": "561a8389-f4d2-4778-af11-658d11d01557"
      },
      "outputs": [
        {
          "name": "stdout",
          "output_type": "stream",
          "text": [
            "{10, '홍길동', '서울'}\n"
          ]
        }
      ],
      "source": [
        "# 3. 데이터 타입 data type\n",
        "# python의 데이터 타입은 크게 6가지로 나눌수 있다.\n",
        "# java 타입 크게 primitive - 8개 , Referemce type- 모든 class\n",
        "\n",
        "#python 의 데이터 타입은 크게 6가지\n",
        "#1. numeric - int float double 클래스 포함\n",
        "# primitive 이라는 게있음\n",
        "# python 들어오면서 모두 객체\n",
        "\n",
        "# data1 = 1000\n",
        "# dataa2 = 3.1456920415\n",
        "\n",
        "# # 해당 객체가 팡생된 class를 알아내려면 어떻게 해야하나요.\n",
        "# print(type(data1)) # <class 'int'>\n",
        "# print(type(data2))# <class 'float'>\n",
        "\n",
        "#2. sequence\n",
        "#순서를 나타내는 데이터 타입 (범주)\n",
        "# listm, tuple, range = 3개의 class 모아서 sequence 라고 해요\n",
        "# list 알아보다가 python 가장 대표적인 자료구조\n",
        "\n",
        "\n",
        "\n",
        "\n",
        "\n",
        "# # a = [10,5,7,9,1,2]\n",
        "\n",
        "# # result = a.sort()\n",
        "# print(a) # none 왜 정렬된 결과가 나오죠\n",
        "# print(result) # [1,2,5,7,9,10]\n",
        "\n",
        "# #tuple\n",
        "# #list 와 거의 유사하나 tuple 은 read only다르다.\n",
        "# # 그리고 list [] tuple() 대가로 소가로 차이\n",
        "\n",
        "# # a = tuple() # class 를 이용해서 tuple 을 만듬\n",
        "# # a=[]\n",
        "# # a = ()\n",
        "# print(type(a)) # tuple 이다. <class(tuple)>\n",
        "# # a = (1,2,3,4) # 4개의 요소가 있는 tuple\n",
        "# print(a[0]) # indexing [] 로 표현 1의 출력\n",
        "# # a[0] = 100  # 이러면 오류 난다. 값을 변경이 불가능하다. list 변경 가능\n",
        "# # a = (1,2,[100,200,300],3)\n",
        "# # print(a)\n",
        "# # a[2][1] = 2000\n",
        "# # print(a) # 고정된 값은 안되지 않다. 새롭게 지정하는거 안되는데\n",
        "#         # 이미 있는거 [] list는 변경이 가능하다. (~ ) 수는 고정이지만 [안에 있는값을 변경]\n",
        "#         # 핳당이 안되지만 이미 할당된거는 변경이가능하다.\n",
        "#         # indexing 과 slicing은 list 와 같아요.\n",
        "#         # tuple 주의해야하는 것은?\n",
        "\n",
        "# a = () # 문제없다.\n",
        "# a = (1) # 문제가 일어난다. tuple 인가\n",
        "# (3+4)*5 # 이때 괄호는 연산자이다.\n",
        "# a = (1,) #tuple 은 하나만 접하기 위해 요소 1개\n",
        "# a = (1) # 당연히 이놈은 tuple 아니다. 숫자 1이다. 하나만 쓰면 tuple 아니다.\n",
        "# a = (1,2,3,4,5)\n",
        "# a = 1,2,3,4,5 # tuple 은 소괄호를 생략할 수 있다.\n",
        "\n",
        "# # (data1 , data2) = (10,20) 2\n",
        "\n",
        "# # range\n",
        "# # range는, literal 이 없다 . 클래스 자체를 만들어야한다.\n",
        "\n",
        "# myRange = range(10) # 0~9  = 0,1,2,3,4,5,6,7,8,9\n",
        "# # 의미상 갑지만 실제는 다르다.\n",
        "# # list 는 요소자체가 메모리에 저장되는 구조 특수형태로 표현\n",
        "# # range는 숫자범위를 나타내는 의미를 지칭 진짜 데이터를 가지고 있지 않아요.!\n",
        "# # 아주 큰 범위의 수를 표현하기 위해서 사용\n",
        "# range(10000) #0~9999 까지 표현  list 는 a=[0,1,2,3,~ 10000] 까지 쳐야한다. 손아파\n",
        "# # range 범위를 나타내면 크게 표현\n",
        "# data = range(1,11,2) # 일반형 1. 초기값 11. 마지막값 2. 증감시\n",
        "# print(data) # 안의 데이터를 가지고 있지 않아 표현을 (1,11,2) 로 표현\n",
        "\n",
        "# print(data[2]) # indexing 은 되나 ? 5 정도 나온다.\n",
        "# # 1+2+2\n",
        "# # 0 1 2 세번째 자리 여서 5\n",
        "# # slicing 은 되나 원본과 결과 데이터의 타입은 같다\n",
        "# # range를 슬라이싱 하면 range\n",
        "# print(data[2:])\n",
        "# ##################################################\n",
        "# # sequence type 에 대해 알아보시오.\n",
        "# # list - list() - [] indexing, slicing 가능\n",
        "# # tuple - tuple() - () indexing, slicing 가능\n",
        "# # range - range() - x  indexing, slicing 가능\n",
        "\n",
        "# #################################################\n",
        "\n",
        "# #3. text sequence\n",
        "# # text sequence type 는 class 1개 있어요. str class 라는 클래스 파생 입니다.\n",
        "# # 그리고 python은 문자 개념이 없어요. character 가 없어요. 문자열\n",
        "# # '' 문자 ,\" \"문자열  차이가 없다.\n",
        "# # '홍길동' , \"홍길동 \" - 두개는 같다. default single\n",
        "# a = 'hello'\n",
        "# b = 'world'\n",
        "# print(a+ b) # 연결 hello world 이다.\n",
        "# print(a[0]) #  h 만 출력 0 1 2 3 4 0 번째 자리 h\n",
        "#             # indexing, slicing 둘다 가능해요.\n",
        "# data1= 3\n",
        "# data2= 5\n",
        "# # print 는 바나나는 문자열 data1 는 실수  문자형 치환 필요하다.\n",
        "# # str(data1) 문자열로 변환 d이거 없으면 오류가 난다. 문자열 실수는 합치기 못한 객체지향은 변환 있는데\n",
        "# print(\"바나나는 \"+ str(data1) + \"개, 딸기는\"+ str(data2) +  \"입니다. \")\n",
        "\n",
        "# print(\"바나나는 {}개, 딸기는{}개입니다.\".format(data1,data2))\n",
        "\n",
        "\n",
        "# #4. mapping\n",
        "# # mapping이라는 data type범주에는 class 가 dict 라는 class 가 포함\n",
        "# # dicts는 dictionary 의 약자\n",
        "# # literal로 표현할 때는 {}중 괄호로 표현 해요.\n",
        "# # {}로 표현하면서 mapping은 java의 hashmap과 동일한 놈이 기 때문에 key와 value의 쌍으로 표현\n",
        "\n",
        "# a = {\"name\":'홍길동',\"age\":30} # 표현 방식은 중괄호로 표현합니다.\n",
        "# print(type(a)) # <class(dict)>\n",
        "# #python의 dict는 동적으로 요소를 추가하거나 삭제 가능\n",
        "# a['address']=\"서울\"\n",
        "# print(a) # {'name':'홍길동','age':30,'address':'서울'}\n",
        "\n",
        "\n",
        "\n",
        "#5. set\n",
        "# java의 hashset의미\n",
        "# literal로는 {} 이것도 중괄호를 이용해요\n",
        "# set 같은 경우에는 key 값이 없으니 { }안에 값만 명시해서 표현\n",
        "# set의 가장큰 특징은 중복을 배제\n",
        "a = {'홍길동',10,'서울','홍길동'}\n",
        "print(a) # 중복을 지운다.\n",
        "\n",
        "#6. bool\n",
        "# True , False 첫글자는 대소문자 구별한다. 대문자\n",
        "# 여기까지가 기본적인 python의 데이터 타입이에요\n",
        "# 총 6개 범주의 구성 각 범주에는 각각의 class 들이 포함 되어 있음\n",
        "# [],리스트 (),tuple {} mapping 혹은 set 로 있다.\n",
        "# 3개의 구분이다.\n",
        "\n",
        "\n"
      ]
    },
    {
      "cell_type": "code",
      "execution_count": null,
      "id": "2bfc7eba",
      "metadata": {
        "id": "2bfc7eba",
        "outputId": "2c181886-78f7-40f0-8798-8e29500625ab"
      },
      "outputs": [
        {
          "name": "stdout",
          "output_type": "stream",
          "text": [
            "a값이 200미만  \n",
            "현재 누적된 값은 0\n",
            "현재 누적된 값은 1\n",
            "현재 누적된 값은 3\n",
            "현재 누적된 값은 6\n",
            "현재 누적된 값은 10\n",
            "현재 누적된 값은 15\n",
            "현재 누적된 값은 21\n",
            "현재 누적된 값은 28\n",
            "현재 누적된 값은 36\n",
            "현재 누적된 값은 45\n",
            "최종합은:45\n",
            "15\n"
          ]
        }
      ],
      "source": [
        "# control statement(제어문)\n",
        "# if,for,while, 비슷함\n",
        "# code block은 중괄호로 이용하지 않고identation 들여쓰기로 이용하여 사용\n",
        "\n",
        "a = 100\n",
        "#if (a>200) {\n",
        "#}else {\n",
        "#} java 스타일\n",
        "\n",
        "if a > 200:\n",
        "    print(\"a값이 200초과 \")\n",
        "    print('소리없는 아우성')\n",
        "else:\n",
        "    print (\"a값이 200미만  \")\n",
        "# : 써야한다. 중괄호 없다 들여쓰기로 써야한다.\n",
        "\n",
        "\n",
        "# for문도 알아보자.\n",
        "# for ~ in 구문을 이용한다.\n",
        "# for - ing range(10) 반복횟수를 알고 있을때,\n",
        "mySum = 0\n",
        "for tmp in range(10):\n",
        "    mySum += tmp\n",
        "    print ('현재 누적된 값은 {}'.format(mySum))\n",
        "\n",
        "print('최종합은:{}'.format(mySum)) # 최종합은     45\n",
        "# for~ in list, dict 형태로 사용\n",
        "myList =[1,2,3,4,5]\n",
        "mySum=0\n",
        "for tmp in myList:\n",
        "    mySum +=tmp\n",
        "\n",
        "print(mySum) # 15\n",
        "\n",
        "# 여기까지가 language의 기본\n",
        "# data type 자료구조 control statement 제어문\n",
        "# 코딩테스트 3개월 ~ 6개월 정도 6개월 알고리즘\n",
        "# 매일매일 하셔야합니다. 계속해서 코딩하기 자꾸 할 수 있는 만큼\n",
        "# 최소한 2~4문제 정도\n",
        "# 백준 사이트 python 하면 좋을 거 같습니다.\n",
        "\n",
        "# python 환경 구축\n",
        "# 기본 문법 공부 함 그냥 이렇구나 보기 자료구조, 데이터타입, 제어문\n",
        "# 그날 배운거 정리하고 과제하고 인강듣기 코딩테스트\n",
        "\n",
        "\n",
        "\n"
      ]
    },
    {
      "cell_type": "code",
      "execution_count": null,
      "id": "ac9fc2cd",
      "metadata": {
        "id": "ac9fc2cd"
      },
      "outputs": [],
      "source": []
    }
  ],
  "metadata": {
    "kernelspec": {
      "display_name": "Python 3 (ipykernel)",
      "language": "python",
      "name": "python3"
    },
    "language_info": {
      "codemirror_mode": {
        "name": "ipython",
        "version": 3
      },
      "file_extension": ".py",
      "mimetype": "text/x-python",
      "name": "python",
      "nbconvert_exporter": "python",
      "pygments_lexer": "ipython3",
      "version": "3.8.17"
    },
    "colab": {
      "provenance": [],
      "include_colab_link": true
    }
  },
  "nbformat": 4,
  "nbformat_minor": 5
}