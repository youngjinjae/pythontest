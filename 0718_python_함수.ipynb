{
  "cells": [
    {
      "cell_type": "markdown",
      "metadata": {
        "id": "view-in-github",
        "colab_type": "text"
      },
      "source": [
        "<a href=\"https://colab.research.google.com/github/youngjinjae/pythontest/blob/main/0718_python_%ED%95%A8%EC%88%98.ipynb\" target=\"_parent\"><img src=\"https://colab.research.google.com/assets/colab-badge.svg\" alt=\"Open In Colab\"/></a>"
      ]
    },
    {
      "cell_type": "code",
      "execution_count": null,
      "id": "4c177299",
      "metadata": {
        "id": "4c177299",
        "outputId": "a19cfecc-0420-44cd-80cf-6ee1fa8058b7"
      },
      "outputs": [
        {
          "name": "stdout",
          "output_type": "stream",
          "text": [
            "200\n"
          ]
        }
      ],
      "source": [
        "# python의 함수는 ??\n",
        "# 일단 함수명은 가독성을 높이기 위해 소문자로 다수 사용\n",
        "# JAVA 같은 경우 camel case,\n",
        "# python은 분리된 단어는 밑줄로 표현 snake case\n",
        "# myFunc - java, my_func - python\n",
        "\n",
        "# 사용자 정의 함수를 만들자.\n",
        "# 사용자 함수 정의 def\n",
        "# def my_sum(a,b,c):\n",
        "#     return a + b + c\n",
        "\n",
        "# result = my_sum(1,2,3)\n",
        "# print(result)\n",
        "\n",
        "#함수의 body 없는 경우 사용 방법\n",
        "# def my_sum(a,b,c):\n",
        "#     pass\n",
        "# pass 사용시 무시한다 .실행을 하지않는다.\n",
        "# python은 여러개의 값을 리턴\n",
        "\n",
        "# def my_sum(a,b,c):\n",
        "#     result1 = a + b  + c\n",
        "#     result2 = a * b * c\n",
        "#     return result1, result2\n",
        "\n",
        "# result = my_sum (1,2,3)\n",
        "# print(result) #(6,6)\n",
        "\n",
        "# return 여러개 값을 리턴을 잘못된 표현이고\n",
        "# 실제로는 tuple를 리턴\n",
        "\n",
        "# tmp = 100 # 값을 넣어줌\n",
        "\n",
        "# def my_func(x):  # 함숮정의\n",
        "#     tmp += x\n",
        "#     return tmp\n",
        "# # 여기서 지역 변수가 아닌 전역 변수를 사용 할수 있다.\n",
        "# # global 의 변수 사용시 tmp 밖에 내용을 가지고온다.\n",
        "# result = my_func(100) # print 하기위한 값 넣김\n",
        "# print(result)\n",
        "# # error 밖에 있는 tmp100 은 def 정의한 tmp의 값을 대입못함\n",
        "# tmp = 100 # 값을 넣어줌\n",
        "\n",
        "# def my_func(x):  # 함숮정의\n",
        "#     global tmp\n",
        "#     tmp += x\n",
        "#     return tmp\n",
        "# # 여기서 지역 변수가 아닌 전역 변수를 사용 할수 있다.\n",
        "# # global 의 변수 사용시 tmp 밖에 내용을 가지고온다.\n",
        "# result = my_func(100) # print 하기위한 값 넣김\n",
        "# print(result)\n",
        "# # 전역 변수를 사용하면 코드가 tightly coupled 됨\n",
        "\n",
        "\n",
        "\n",
        "\n",
        "\n"
      ]
    },
    {
      "cell_type": "code",
      "execution_count": null,
      "id": "8a952d55",
      "metadata": {
        "id": "8a952d55",
        "outputId": "c93261e7-dd2f-4429-9f60-d3be13142f28"
      },
      "outputs": [
        {
          "name": "stdout",
          "output_type": "stream",
          "text": [
            "12\n"
          ]
        }
      ],
      "source": [
        "# 내장 함수\n",
        "# 너무 많다. 나오는대로 보자.\n",
        "\n",
        "# a = int(100)\n",
        "# pritn(a)\n",
        "# a = int ('100')\n",
        "# print(a)\n",
        "\n",
        "result = len('이것은 소리없는 아웅성')\n",
        "print(result) # 12 해당 문자열의 길이 갯수 샐때도 len도 가능하다\n",
        "# type, list, dic, tuple, set,\n"
      ]
    },
    {
      "cell_type": "code",
      "execution_count": null,
      "id": "f1e18b57",
      "metadata": {
        "id": "f1e18b57"
      },
      "outputs": [],
      "source": [
        "# 함수 사용 시 찾아보기\n",
        "\n",
        "# 이제 python 에 대해 알아보자.\n",
        "# python 객체지향은\n",
        "# class 나옴 상속 기타 객체 지향\n",
        "# 파이썬 익숙하고 나서 공부\n",
        "\n",
        "# python 언어에 대한 기본적인 내용을 이해\n",
        "# 데이터 처리쪽으로\n",
        "\n",
        "# 1, 순위 공부 numpy 라는 module임\n",
        "\n",
        "# numpy는 numerical Python 약자이다.\n",
        "\n",
        "# numpy는 module 라이브러리이다.\n",
        "# 수학적 처리를 쉽게 할 수 있도록 도와주는 역활이다.\n",
        "# numpy 는 대규모의 다차원 배열과 행렬처리를 편하게 처리\n",
        "# 다차원 배열 ~\n",
        "# 머신러닝과 딥러닝은 수학계산 행렬 계산 수치계산\n",
        "# 그래서 ML, DL 기본 자료구조를 NUMPY의 자료구조기본\n",
        "# numpy 딱 1개의 ndarray 라는\n",
        "# ndarray 다차원 배열로 진행 - (n-dimensional array)만듬\n",
        "# 자료구조 만들어줌 기본 자료구조 제공\n",
        "\n"
      ]
    },
    {
      "cell_type": "code",
      "execution_count": null,
      "id": "3a7f32c8",
      "metadata": {
        "id": "3a7f32c8",
        "outputId": "a0508dee-56e3-4975-d0c4-94b673169036"
      },
      "outputs": [
        {
          "name": "stdout",
          "output_type": "stream",
          "text": [
            "1.24.3\n"
          ]
        }
      ],
      "source": [
        "# numpy 는 외부 module이라서 사용하면 설치 필요\n",
        "# 우리 가상환경에 설치\n",
        "# conda install numpy 내 코드내로 사용한다.\n",
        "\n",
        "import  numpy as np\n",
        "print (numpy.__version__)"
      ]
    },
    {
      "cell_type": "code",
      "execution_count": null,
      "id": "c4482f34",
      "metadata": {
        "id": "c4482f34",
        "outputId": "e83f4536-3e9c-4478-c743-2ba86a7af8c5"
      },
      "outputs": [
        {
          "name": "stdout",
          "output_type": "stream",
          "text": [
            "[1, 2, 3, 4]\n",
            "<class 'list'>\n",
            "[1 2 3 4]\n",
            "<class 'numpy.ndarray'>\n"
          ]
        }
      ],
      "source": [
        "# ndarray 생성 및 확인\n",
        "\n",
        "# 쉬운 방법 ndarray 를 list 로 이용\n",
        "a = [1,2,3,4]\n",
        "print(a) #[1,2,3,4] 1 차원\n",
        "print (type(a)) # <class'list'>\n",
        "\n",
        "b = np.array([1,2,3,4]) # numpy 기능 중에 ndarray를 만들어봐라\n",
        "print(b) #1 차원 vector [1 2 3 4] , 이 없다~\n",
        "print(type(b)) # <class 'numpy.ndarray'>\n"
      ]
    },
    {
      "cell_type": "code",
      "execution_count": null,
      "id": "581a4da2",
      "metadata": {
        "scrolled": true,
        "id": "581a4da2",
        "outputId": "eb6fbaf6-4700-4f7d-e9f8-025aac270475"
      },
      "outputs": [
        {
          "name": "stdout",
          "output_type": "stream",
          "text": [
            "[[1 2 3]\n",
            " [4 5 6]]\n",
            "5\n",
            "[4 5 6]\n",
            "6\n"
          ]
        }
      ],
      "source": [
        "# 2차원 형태의 ndarray\n",
        "\n",
        "my_list = [[1,2,3],[4,5,6]] # 중첩 list\n",
        "arr = np.array(my_list)\n",
        "\n",
        "print(arr) # 2ckdnjs ndarray를 만듬 2행 3열\n",
        "            # [[1,2,3]\n",
        "            # [4,5,6]]\n",
        "print(arr[1,1]) #5 python은 이렇게 표현할 시에는 오류 #ndarray만 가능\n",
        "print(arr[1]) #[4,5,6] 1c차원 ndarray\n",
        "print(arr[1][2]) #6\n",
        "\n"
      ]
    },
    {
      "cell_type": "code",
      "execution_count": null,
      "id": "440e267a",
      "metadata": {
        "id": "440e267a",
        "outputId": "148eda5c-762e-408b-c220-d3d3859d0164"
      },
      "outputs": [
        {
          "name": "stdout",
          "output_type": "stream",
          "text": [
            "[[1. 2. 3.]\n",
            " [4. 5. 6.]]\n"
          ]
        }
      ],
      "source": [
        "my_list = [[1,2,3],[4,5,6]] # 중첩 list\n",
        "# 일반적으로 ndarray 사용 할 때는 모두 실수 사용해야함\n",
        "arr = np.array(my_list, dtype=np.float64) #np안에 float64 가진 값을 데이터 타입 지정\n",
        "print(arr) #뒤에 보면 이제 실수형으로 변환\n",
        "#             [[1. 2. 3.]\n",
        "#             [4. 5. 6.]]\n",
        "\n"
      ]
    },
    {
      "cell_type": "code",
      "execution_count": null,
      "id": "7b821121",
      "metadata": {
        "id": "7b821121",
        "outputId": "ff59a7c0-f42c-4f8d-8833-e9d9d7634c48"
      },
      "outputs": [
        {
          "name": "stdout",
          "output_type": "stream",
          "text": [
            "[[1. 2. 3.]\n",
            " [4. 5. 6.]]\n"
          ]
        }
      ],
      "source": [
        "my_list = [[1,2,3],[4,5,6.0]] # 중첩 list\n",
        "arr = np.array(my_list)\n",
        "print(arr)\n",
        "\n",
        "# 일반적으로 ndarray 사용 할 때는 모두 실수 사용\n",
        "# array의 특징 일단 사이즈가 결정되면 변경할 수 없다.\n",
        "#              모든 칸에 데이터 타입이 들어간다.\n",
        "\n",
        "# 결과값이 전부 실수로 float 변경 6.0 으로 인해 나머지가 0.0 으로 표현"
      ]
    },
    {
      "cell_type": "code",
      "execution_count": null,
      "id": "9b74dd81",
      "metadata": {
        "id": "9b74dd81",
        "outputId": "13f2cbfc-f1e6-4da1-cb36-53ebe5db4630"
      },
      "outputs": [
        {
          "name": "stdout",
          "output_type": "stream",
          "text": [
            "[1 2 3 4]\n",
            "1\n",
            "(4,)\n",
            "[[1 2 3]\n",
            " [4 5 6]]\n",
            "2\n",
            "(2, 3)\n",
            "[[[1 2 3]\n",
            "  [4 5 6]]\n",
            "\n",
            " [[1 2 3]\n",
            "  [4 5 6]]]\n",
            "3\n",
            "(2, 2, 3)\n"
          ]
        }
      ],
      "source": [
        "my_list = [1,2,3,4]\n",
        "arr = np.array(my_list) # 1차원 ndarray 이 만듬\n",
        "print(arr)\n",
        "# ndarray 두가지 속성\n",
        "print(arr.ndim) #ndim 속성 몇 차원이여? 1 차원~ 차원값 알려줌\n",
        "print(arr.shape) # 결과값은 tuple로 표현\n",
        "                #(3,) 1차원  3개\n",
        "                #(4,5) 2차원 4*5 20개 정도\n",
        "                #(1,5,3) 3차원\n",
        "                # 그리고 숫자는 해당 차원의 요소수를 표현\n",
        "                #(4,) 몇차원인지 알려줌\n",
        "\n",
        "my_list = [[1,2,3],[4,5,6]]\n",
        "arr = np.array(my_list) # 2차원 ndarray 이 만듬\n",
        "print(arr)\n",
        "print(arr.ndim)  # 2차원\n",
        "print(arr.shape) # 2행 3열 입니다. 6개\n",
        "\n",
        "my_list = [[1,2,3],[4,5,6]],[[1,2,3],[4,5,6]]\n",
        "arr = np.array(my_list) # 3차원 ndarray 이 만듬\n",
        "print(arr)\n",
        "print(arr.ndim)  # 3차원\n",
        "print(arr.shape) # 2행 3열 3개\n",
        "\n",
        "# ndim 는 shape 으로 다 나옴 차우너 설명 몇개 까지 나옴\n"
      ]
    },
    {
      "cell_type": "code",
      "execution_count": null,
      "id": "3cc85faf",
      "metadata": {
        "id": "3cc85faf",
        "outputId": "0ebede32-6e3c-4603-8661-b9607eca079c"
      },
      "outputs": [
        {
          "name": "stdout",
          "output_type": "stream",
          "text": [
            "[[1 2 3]\n",
            " [4 5 6]]\n",
            "6\n"
          ]
        }
      ],
      "source": [
        "my_list = [[1,2,3],[4,5,6]]\n",
        "arr = np.array(my_list) # 2차원 ndarray 이 만듬\n",
        "print(arr)\n",
        "print(arr.size) #요소의 갯수 6개\n",
        "print(len(arr)) # 일반적으로 사용x 전체사이즈 안함 상위 차원요소 개수"
      ]
    },
    {
      "cell_type": "code",
      "execution_count": null,
      "id": "b1444141",
      "metadata": {
        "id": "b1444141"
      },
      "outputs": [],
      "source": [
        "my_list = [[1,2,3],[4,5,6]]\n",
        "arr = np.array(my_list) # 2차원 ndarray\n",
        "#내가 가지고 있는 ndarry의 데이터 타입을 변환\n",
        "# 정수 - 실수로 변경 또는 실수에서 정수 변경\n",
        "arr = arr.astype(np.float64) 실수로\n",
        "\n",
        "print(arr)"
      ]
    },
    {
      "cell_type": "code",
      "execution_count": null,
      "id": "0fce8657",
      "metadata": {
        "id": "0fce8657",
        "outputId": "3915ed5f-de73-45b4-d3e6-47d1e632ad5a"
      },
      "outputs": [
        {
          "name": "stdout",
          "output_type": "stream",
          "text": [
            "<built-in function zeros>\n",
            "[[0. 0. 0. 0.]\n",
            " [0. 0. 0. 0.]\n",
            " [0. 0. 0. 0.]]\n",
            "[[1. 1. 1. 1.]\n",
            " [1. 1. 1. 1.]\n",
            " [1. 1. 1. 1.]]\n",
            "[[6.23042070e-307 4.67296746e-307 1.69121096e-306 1.69120688e-306\n",
            "  1.33511018e-306]\n",
            " [1.33511969e-306 6.23037996e-307 1.69121639e-306 1.78019082e-306\n",
            "  1.33511290e-306]\n",
            " [1.11261027e-306 1.11261502e-306 1.42410839e-306 7.56597770e-307\n",
            "  6.23059726e-307]\n",
            " [1.42419530e-306 1.78019354e-306 1.69119330e-306 8.34444289e-308\n",
            "  8.34402698e-308]]\n",
            "[[7 7 7 7 7]\n",
            " [7 7 7 7 7]\n",
            " [7 7 7 7 7]\n",
            " [7 7 7 7 7]]\n"
          ]
        }
      ],
      "source": [
        "# 그러면 np.array() 이렇게 만드는 방법 말고 다른 방법은 없나요.\n",
        "# 지금까지 list 를 가지고 해당 list 데이터를 이용 ndarray\n",
        "# 다르게 만드는 방법\n",
        "\n",
        "# shape을 tuple로 표현\n",
        "arr = np.zeros\n",
        "print(arr)\n",
        "\n",
        "arr = np.zeros((3,4)) # 인자로 들어온 shape 형태로 0으로 표현 ndarray\n",
        "print(arr)\n",
        "\n",
        "arr = np.ones((3,4)) # shape 형태로 1로 초기화 표현 ndarray\n",
        "print(arr)\n",
        "\n",
        "arr = np.empty((4,5)) # shape 형태로 초기화가 안된 ndarray 생성\n",
        "print(arr)                 # 쓰레기 값을 있음 그러니 주의해서 사용\n",
        "\n",
        "arr = np.full((4,5),7) # shape 형태로 내가 결정한 초기값으로 ndarray 표현\n",
        "print(arr)             # 값 7\n"
      ]
    },
    {
      "cell_type": "code",
      "execution_count": null,
      "id": "7bd2f71a",
      "metadata": {
        "id": "7bd2f71a",
        "outputId": "abc970a2-737e-4ccb-e92c-034c393f84ef"
      },
      "outputs": [
        {
          "name": "stdout",
          "output_type": "stream",
          "text": [
            "[0 1 2 3 4 5 6 7 8 9]\n"
          ]
        }
      ],
      "source": [
        "# numpy array 생성하는 또 다른 방법\n",
        "# arr = np.zeros((3,4))\n",
        "arr = np.arange(10)\n",
        "print(arr)\n",
        "# arange() 함수가 있음 python의 range() 유사하다.\n",
        "# python의 ragne() 데이터를 가지고 있지않아요. 범위를 지칭하는 자료구조\n",
        "# numpy의 arange() 이용하면 실제 데이터를 가지는 ndarray를 생성"
      ]
    },
    {
      "cell_type": "code",
      "execution_count": null,
      "id": "404836a2",
      "metadata": {
        "id": "404836a2",
        "outputId": "6e6ab47c-e580-4d3b-c32d-66fa62c55a5d"
      },
      "outputs": [
        {
          "name": "stdout",
          "output_type": "stream",
          "text": [
            "[[40 79 72 27]\n",
            " [71 92 62 58]\n",
            " [82 17 74 93]]\n"
          ]
        }
      ],
      "source": [
        "# numpy array 생성하는 또 다른 방법\n",
        "# random 기반으로 생성하는 방법\n",
        "\n",
        "# 방식이 총5개 정도\n",
        "# 가장 대표적인 2개의 함수 사용 나머지는 예제로 나올때 정리 암기\n",
        "\n",
        "# np.random.normal() # 이거 이용하면 랜덤값을 채워짐 ndarray를 만들어낸다.\n",
        "\n",
        "# 일반 정규분포는 평균과 표준 편차를 이해해야함\n",
        "# mean = 50 # ex) 50 잡음 평균\n",
        "# std = 2  # ex) 표준편차 2 로 잡음\n",
        "\n",
        "# arr = np.random.normal(mean,std,(3,4)) # 값을 대입하고, 난수를 발생 시켜야함\n",
        "# print(arr)                             #shape (3,4)\n",
        "                                        #normal 정규분포 이다 .\n",
        "\n",
        "\n",
        "##################################################################\n",
        "# 주어진 범위 내에서 정수형 난수를 균등분포로 도출해주는 함수\n",
        "# arr = np.random.randint(1,45,(5,6))\n",
        "# print(arr)\n",
        "\n",
        "arr = np.random.randint(0,100,(3,4))\n",
        "print(arr)\n",
        "# 균등분포를 출력하다.\n",
        "# 정수형 난수를 원하고 랜덤값으로 균등하게 나온다.\n",
        "# 계속해서 출력 시에는 변경되다.\n",
        "\n",
        "# 랜덤값은 난수라고 표현하는것은\n",
        "# 컴퓨터는 난수를 도출 할대 특정 알고리즘 사용\n",
        "\n",
        "#np.ramdom.seed(1) 결과값이 고정한다.\n",
        "# arr = np.random.randint(0,100,(3,4))\n",
        "# print(arr)\n",
        "# seed 값은 고정해준다. 항상 같은 값을 만들어준다.\n"
      ]
    },
    {
      "cell_type": "code",
      "execution_count": null,
      "id": "9f28add6",
      "metadata": {
        "scrolled": true,
        "id": "9f28add6",
        "outputId": "ff5960c9-d2d1-4363-a7f5-56daa3b14a42"
      },
      "outputs": [
        {
          "name": "stdout",
          "output_type": "stream",
          "text": [
            "[[1 2 3]\n",
            " [4 5 6]]\n",
            "(2, 3)\n",
            "[[1 2]\n",
            " [3 4]\n",
            " [5 6]]\n",
            "1\n",
            "[[100   2]\n",
            " [  3   4]\n",
            " [  5   6]]\n",
            "[[100   2   3]\n",
            " [  4   5   6]]\n"
          ]
        }
      ],
      "source": [
        "# shape\n",
        "# 이 shape d을 우리가 원하는대로 변경\n",
        "my_list = [[1,2,3],[4,5,6]]\n",
        "arr = np.array(my_list) # 2차원\n",
        "print(arr)\n",
        "print(arr.shape) #(2,3) 6개\n",
        "\n",
        "# newArr = arr.reshape(3,5) # 다시 오류난다. 6개졌다\n",
        "newArr=arr.reshape(3,2)\n",
        "print(newArr)\n",
        "\n",
        "print(newArr[0,0]) # 1 이 나온다.\n",
        "newArr[0,0] = 100 # 0,0 자리에 1에 자리를 변경한다.\n",
        "print(newArr)\n",
        "print(arr) # 실제 데이터는 원본에서 데리고 온다.\n",
        "            #reshape 하면 새로운 ndarray가 만들어지는게 아니다.\n",
        "    # view 가 원본이 만들어진다.\n",
        "    # shape만 바꿔서 표현 데이터는 원본으로 직접 가져와서 모양 바껴서 표현"
      ]
    },
    {
      "cell_type": "code",
      "execution_count": null,
      "id": "2d17a38e",
      "metadata": {
        "id": "2d17a38e",
        "outputId": "f012112d-83be-42c0-fb74-1e6bdfba9d63"
      },
      "outputs": [
        {
          "name": "stdout",
          "output_type": "stream",
          "text": [
            "[[1 2 3]\n",
            " [4 5 6]]\n",
            "[[1 2 3 4 5 6]]\n",
            "[[1 2 3 4 5 6]]\n",
            "[[[1 2 3]\n",
            "  [4 5 6]]]\n",
            "[[[1 2 3]]\n",
            "\n",
            " [[4 5 6]]]\n"
          ]
        }
      ],
      "source": [
        "my_list = [[1,2,3],[4,5,6]]\n",
        "arr = np.array(my_list) # 2차원\n",
        "\n",
        "print(arr) # 2x 3\n",
        "# 이번에 약간 다르게 표현\n",
        "# -1 의미를 이해 위주\n",
        "\n",
        "newArr = arr.reshape(1,6) #1행 6열로 6개 갯수만 잡으면 된다.\n",
        "print(newArr)\n",
        "\n",
        "newArr = arr.reshape(-1,6) # (-1,2) 2개의 열로 하고 나머지는 알아서\n",
        "print(newArr)\n",
        "\n",
        "newArr = arr.reshape(-1,2,3) # 남는 면 나오나\n",
        "print(newArr)\n",
        "\n",
        "newArr = arr.reshape(-1,1,3) # 이렇게 (-1,-1,3) x -1 안된다 가운데는\n",
        "print(newArr)\n"
      ]
    },
    {
      "cell_type": "code",
      "execution_count": null,
      "id": "ee563e5e",
      "metadata": {
        "id": "ee563e5e",
        "outputId": "dba0ec7d-1dbe-4c4f-8be7-6f2355875bbf"
      },
      "outputs": [
        {
          "name": "stdout",
          "output_type": "stream",
          "text": [
            "[[ 0  1  2  3]\n",
            " [ 4  5  6  7]\n",
            " [ 8  9 10 11]]\n",
            "[ 0  1  2  3  4  5  6  7  8  9 10 11]\n"
          ]
        }
      ],
      "source": [
        "# ndarray를 하나 만들기\n",
        "# copy( ) 이용하면 진짜 ndarray 메모리상\n",
        "\n",
        "arr = np.arange(12).reshape(3,4).copy()\n",
        "print(arr)\n",
        "\n",
        "# 많이 사용하는 함수 중에 reshape() 있고 ravel()\n",
        "# reshape()은 내가 원하는 형태에 view 만들어 주는 함수\n",
        "# ravel() 무조건 1차원 view 생성\n",
        "print(arr.ravel())"
      ]
    },
    {
      "cell_type": "code",
      "execution_count": null,
      "id": "e9719af5",
      "metadata": {
        "scrolled": true,
        "id": "e9719af5",
        "outputId": "bdae4400-1bbf-4768-a659-0480396a131d"
      },
      "outputs": [
        {
          "name": "stdout",
          "output_type": "stream",
          "text": [
            "[[ 0  1  2  3]\n",
            " [ 4  5  6  7]\n",
            " [ 8  9 10 11]]\n",
            "[[ 0  1  2  3  4]\n",
            " [ 5  6  7  8  9]\n",
            " [10 11  0  1  2]]\n",
            "[[0 1]\n",
            " [2 3]]\n"
          ]
        }
      ],
      "source": [
        "# 이방싟은 많이 사용 안함\n",
        "# 기본적인 방법\n",
        "\n",
        "arr = np.arange(12).reshape(3,4).copy()\n",
        "print(arr)\n",
        "newArr = np.resize(arr,(3,5)) # 원소의 수가 맞지않아도 변경 가능\n",
        "                            # 당연히 view가 아닌 다른 ndarray를 생성\n",
        "print(newArr) # 원래 데이터를 다시 처음부터 깔라~ 012 다시 마지막\n",
        "newArr = np.resize(arr,(2,2)) # resize는 데이터값이 짤리고 다시 생성시\n",
        "print(newArr)                # 랜덤값이 들어간다."
      ]
    },
    {
      "cell_type": "code",
      "execution_count": null,
      "id": "4780b8f8",
      "metadata": {
        "id": "4780b8f8",
        "outputId": "7ee569c3-86f9-43ea-c88d-229703cffafe"
      },
      "outputs": [
        {
          "name": "stdout",
          "output_type": "stream",
          "text": [
            "[10 11 12 13 14 15 16 17 18 19]\n",
            "12\n",
            "[10 11 12 13 14 15 16 17 18 19]\n",
            "[15 16 17 18]\n",
            "[[10 11 12 13]\n",
            " [14 15 16 17]\n",
            " [18 19 20 21]]\n",
            "17\n",
            "[18 19 20 21]\n",
            "[[14 15]]\n"
          ]
        }
      ],
      "source": [
        "# 이제 ndarray 에 대해서 알기\n",
        "# indexing, slicing를 이해\n",
        "arr = np.arange(10,20,1) #10~19 까지 1차원\n",
        "print(arr)\n",
        "print(arr[2]) # 12\n",
        "print(arr[:]) # 12\n",
        "print(arr[5:-1]) # 15~18 까지 표현 slicing의 결과는 1차원 원본가 같은 구조\n",
        "\n",
        "\n",
        "arr = np.arange(10,22,1).reshape(3,4) #3,4 까지 1차원\n",
        "print(arr)\n",
        "\n",
        "print(arr[1,3]) # indexing = 17\n",
        "\n",
        "print(arr[2,:]) # 열은 처음부터 끝까지 앞에는 indexing, slicing 이다\n",
        "\n",
        "print(arr[1:2,0:2]) # [14,15]\n",
        "\n",
        "\n"
      ]
    },
    {
      "cell_type": "code",
      "execution_count": null,
      "id": "a652710c",
      "metadata": {
        "scrolled": true,
        "id": "a652710c",
        "outputId": "03167b14-0bde-4189-ab25-6a808d41cbcb"
      },
      "outputs": [
        {
          "name": "stdout",
          "output_type": "stream",
          "text": [
            "[5 8 9 5 0 0 1 7 6 9]\n",
            "[False  True False False  True  True False False  True False]\n",
            "[8 0 0 6]\n",
            "[[5 8 9 5]\n",
            " [0 0 1 7]\n",
            " [6 9 2 4]]\n",
            "[[False  True False False]\n",
            " [ True  True False False]\n",
            " [ True False  True  True]]\n",
            "[8 0 0 6 2 4]\n"
          ]
        }
      ],
      "source": [
        "# indexing은 위에서 햇던 것처럼 기본적인 infexi$ng\n",
        "\n",
        "# 1.Boolean indexing\n",
        "# 2.fancyindoein\n",
        "\n",
        "# 3.1boolean indexing 부터 알아보기\n",
        "# 배열의 각 요소의 indexing 선택여부\n",
        "# true/fasle 구성된 boolean mask 를 이용\n",
        "# 지정하는 방식의미\n",
        "# boolean mask 에서 true 지정된 요소 대해서\n",
        "#indexing 데이터 정제나 모델링핸들링\n",
        "np.random.seed(1)\n",
        "arr = np.random.randint(0,10,(10,)) #난수 추출\n",
        "print(arr)\n",
        "\n",
        "# 구하고 싶은거 이 중에 짝수만 구하시오.\n",
        "# 당연히 boolean mask 만들기\n",
        "# ndarray에 대해서 연산을 수행하면 broadcasting과 각 위치에 관한 연산 수행\n",
        "# arr % 2 == 0\n",
        "# [5 8 9 5 0 0 1 7 6 9] % 2 이러면 값 형식 계산이 힘듬\n",
        "# [5 8 9 5 0 0 1 7 6 9] % [5 8 9 5 0 0 1 7 6 9] 여기서\n",
        "# [5 8 9 5 0 0 1 7 6 9] % [2 2 2 2 2 2 2 2 2 2] 변경이 되고 브로드캐스팅 된다.\n",
        "# [1 0 1 1 0 0 1 1 0 1] 으로 값이 나온다.\n",
        "# [false true false false true true fasle false true false] 으로 변경\n",
        "\n",
        "print(arr%2 == 0) # boolean mask\n",
        "print(arr[arr%2 == 0]) # mask 자체를 넣어버림 저 false true 넣어버림 계산\n",
        "                    # [8 0 0 6] mask 자체 계산식을 넣어서\n",
        "\n",
        "\n",
        "np.random.seed(1)\n",
        "arr = np.random.randint(0,10,(3,4)) #2차원으로 만듬\n",
        "print(arr)\n",
        "\n",
        "print(arr % 2 == 0) # boolean mask\n",
        "print(arr[arr % 2 == 0])\n",
        "\n",
        "# boolean indexing은 조건을 통해서 원하는 데어터를 추출하기 위해 사용"
      ]
    },
    {
      "cell_type": "code",
      "execution_count": null,
      "id": "6a2dd28e",
      "metadata": {
        "scrolled": false,
        "id": "6a2dd28e",
        "outputId": "1a78965a-9154-4933-a0d7-7d87fd5a0d2e"
      },
      "outputs": [
        {
          "name": "stdout",
          "output_type": "stream",
          "text": [
            "[[5 8 9 5]\n",
            " [0 0 1 7]\n",
            " [6 9 2 4]]\n",
            "[8 4]\n",
            "[[8 5]\n",
            " [9 4]]\n"
          ]
        }
      ],
      "source": [
        "# fancy indexing\n",
        "# 배열에 index배열 전달 요소 참조하는 방식\n",
        "np.random.seed(1)\n",
        "arr = np.random.randint(0,10,(3,4)) #2차원으로 만듬\n",
        "print(arr)\n",
        "\n",
        "\n",
        "# print(arr[2,0])\n",
        "# print(arr[2,[0,2]]) #배열 6추출  [0,2] 2라는 숫자 가지고 와라\n",
        "\n",
        "#배열에 indexing 배열 전달하여 배열 요소를 참조하라\n",
        "# 다른 방법\n",
        "\n",
        "# 8 ,5 ,9 ,4 를 추출한다.\n",
        "print(arr[[0,2],[1,3]]) # 틀리다.[8,4]만 추출\n",
        "                        # 여러차원 fancy indexing 있음\n",
        "                        # 우리가 원하는 값이 안나옴\n",
        "                        # 함수 제공\n",
        "np.ix_([0,2],[1,3])     # 문제를 해결하기위해 쓰는 함수 numpy함수\n",
        "print(arr[np.ix_([0,2],[1,3])]) # 여러개 slicing 안될때 fancy 할때 근데 위에처럼 값이\n",
        "                               #값이 안나와서 수식이 필요하다.\n"
      ]
    },
    {
      "cell_type": "code",
      "execution_count": null,
      "id": "d6a12516",
      "metadata": {
        "scrolled": false,
        "id": "d6a12516",
        "outputId": "0fc743bf-7532-4725-d079-dd64394385d6"
      },
      "outputs": [
        {
          "name": "stdout",
          "output_type": "stream",
          "text": [
            "[[1 2 3]\n",
            " [4 5 6]]\n",
            "[[10 11 12]\n",
            " [13 14 15]]\n",
            "[[11 13 15]\n",
            " [17 19 21]]\n",
            "[[ 76  82]\n",
            " [184 199]]\n"
          ]
        }
      ],
      "source": [
        "# 간단한 문제\n",
        "arr1 = np.array([[1,2,3],[4,5,6]]) # 2행 3열 짜리 2차원\n",
        "arr2 = np.array([[10,11,12],[13,14,15]]) # 2행 3열 짜리 2차원\n",
        "\n",
        "print(arr1)\n",
        "print(arr2)\n",
        "\n",
        "# 4칙 연산을 수행\n",
        "print(arr1+arr2)\n",
        "# 사칙 연산을 할 경우 같은 위치에 직접 연산수행\n",
        "# python은 list는 + 연산하면 연결\n",
        "# arr1 arr2.reshape(3,2) # arr2 (2,3에서 3행 2열로 변경)\n",
        "\n",
        "print(np.matmul(arr1,arr2.reshape(3,2))) #결과 2*3 3*2 은 ? 2*2\n"
      ]
    },
    {
      "cell_type": "code",
      "execution_count": null,
      "id": "5e3cf61c",
      "metadata": {
        "scrolled": false,
        "id": "5e3cf61c",
        "outputId": "e2d8e5b9-d9ba-4d7c-96a3-f04d6a170979"
      },
      "outputs": [
        {
          "name": "stdout",
          "output_type": "stream",
          "text": [
            "[[1 2 3]\n",
            " [4 5 6]]\n",
            "21\n",
            "21\n",
            "3.5\n",
            "6\n",
            "1\n",
            "5\n",
            "1.707825127659933\n"
          ]
        }
      ],
      "source": [
        "# numpy는 수치 연산에 특화된 라이브러리\n",
        "# 집계 함수를 제공\n",
        "# 합, 평균,\n",
        "\n",
        "arr = np.arange(1,7,1).reshape(2,3).copy() # 1차원 1씩 증가 시키고 2차원 만들고 다시 2차원 numpy 만들기\n",
        "print(arr)\n",
        "\n",
        "print(np.sum(arr)) # 21 값 전부안의 값 합치기 이 배열의 합\n",
        "print(arr.sum())   # 21 배열 값 더하기\n",
        "print(arr.mean()) #21 일반 세상에서는 평균 => average, 수학적 계산 평균= mean\n",
        "print(arr.max()) # 6 가장 큰 값\n",
        "print(arr.min()) # 1 가장 작은 값\n",
        "\n",
        "print(arr.argmax()) # max 찾아서 #(1,2) 1차원으로 변경해서 가장 큰값을 index 값\n",
        "print(arr.std()) # 표준편차\n",
        "\n"
      ]
    },
    {
      "cell_type": "code",
      "execution_count": null,
      "id": "6348d68e",
      "metadata": {
        "scrolled": true,
        "id": "6348d68e",
        "outputId": "b886c629-44a8-4de3-ea92-402f142a81b3"
      },
      "outputs": [
        {
          "name": "stdout",
          "output_type": "stream",
          "text": [
            "[1 2 3 4 5 6]\n",
            "[[1 2]\n",
            " [3 4]\n",
            " [5 6]]\n",
            "21\n",
            "[ 9 12]\n",
            "[ 3  7 11]\n"
          ]
        }
      ],
      "source": [
        "# numpy 모든 집계 함수 axis 기준으로 계산\n",
        "# 예제들은 axis 고려한게 없다. axis = none 으로 계산\n",
        "# 전체를 대상으로 함수를 적용\n",
        "\n",
        "arr = np.arange(1,7,1)\n",
        "print(arr)\n",
        "\n",
        "arr.sum(axis=0) # 축을 넣어줘야함 axis 숫자로 표현\n",
        "                # axis 1차원 일때 3차원 면 행 렬\n",
        "\n",
        "arr1 = np.arange(1,7,1).reshape(3,2)\n",
        "print(arr1)\n",
        "print(arr1.sum())       # 21\n",
        "print(arr1.sum(axis=0)) # [9,12] 행 방향이여서 [1+3+5 2+4+6]\n",
        "print(arr1.sum(axis=1)) # [3,7,11] 열방향 [1+2, 3+4, 5+6]"
      ]
    },
    {
      "cell_type": "code",
      "execution_count": null,
      "id": "ffb118b1",
      "metadata": {
        "id": "ffb118b1",
        "outputId": "3e2bd1fd-97fa-4339-ff91-3acc98c7f1dc"
      },
      "outputs": [
        {
          "name": "stdout",
          "output_type": "stream",
          "text": [
            "[[ 0  1  2  3]\n",
            " [ 4  5  6  7]\n",
            " [ 8  9 10 11]\n",
            " [12 13 14 15]]\n",
            "[[False False False False]\n",
            " [False False False False]\n",
            " [False False False  True]\n",
            " [ True  True  True  True]]\n",
            "[11 12 13 14 15]\n",
            "4\n"
          ]
        }
      ],
      "source": [
        "# 연습문제\n",
        "\n",
        "# 2차원 ndarray\n",
        "# 1부터 16 까지 숫자로 구성 4x4  2차원 ndarray 생성\n",
        "# <조건> boolen indexing\n",
        "# 이렇게 만들어진 ndarray 안에 10 보자 큰 숫자 몇개 ?\n",
        "\n",
        "# 코드상으로\n",
        "\n",
        "#arr = np.arange(16).reshape(4,4)\n",
        "arr = np.arange(1,17,1).reshape(4,4)\n",
        "print(arr)\n",
        "print(arr>10)\n",
        "print(arr[arr>10])\n",
        "print(len(arr))\n",
        "\n",
        "print((arr>10).sum())"
      ]
    },
    {
      "cell_type": "code",
      "execution_count": null,
      "id": "20fde6f6",
      "metadata": {
        "id": "20fde6f6"
      },
      "outputs": [],
      "source": [
        "# numpy 내용 정리 하기\n",
        "# pandas 실제 데이터 분석 데이터 탐색을 라이브 생각\n"
      ]
    }
  ],
  "metadata": {
    "kernelspec": {
      "display_name": "Python [conda env:data_env] *",
      "language": "python",
      "name": "conda-env-data_env-py"
    },
    "language_info": {
      "codemirror_mode": {
        "name": "ipython",
        "version": 3
      },
      "file_extension": ".py",
      "mimetype": "text/x-python",
      "name": "python",
      "nbconvert_exporter": "python",
      "pygments_lexer": "ipython3",
      "version": "3.8.17"
    },
    "colab": {
      "provenance": [],
      "include_colab_link": true
    }
  },
  "nbformat": 4,
  "nbformat_minor": 5
}