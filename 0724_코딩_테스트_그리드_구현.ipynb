{
  "nbformat": 4,
  "nbformat_minor": 0,
  "metadata": {
    "colab": {
      "provenance": [],
      "authorship_tag": "ABX9TyPfD+uaukALPf3groqndKTj",
      "include_colab_link": true
    },
    "kernelspec": {
      "name": "python3",
      "display_name": "Python 3"
    },
    "language_info": {
      "name": "python"
    }
  },
  "cells": [
    {
      "cell_type": "markdown",
      "metadata": {
        "id": "view-in-github",
        "colab_type": "text"
      },
      "source": [
        "<a href=\"https://colab.research.google.com/github/youngjinjae/pythontest/blob/main/0724_%EC%BD%94%EB%94%A9_%ED%85%8C%EC%8A%A4%ED%8A%B8_%EA%B7%B8%EB%A6%AC%EB%93%9C_%EA%B5%AC%ED%98%84.ipynb\" target=\"_parent\"><img src=\"https://colab.research.google.com/assets/colab-badge.svg\" alt=\"Open In Colab\"/></a>"
      ]
    },
    {
      "cell_type": "code",
      "source": [
        "# 그리드 문제\n",
        "# 1. 주요 알고리즘과 실전 문제\n",
        "# 그리디 문제\n",
        "# 예시\n",
        "n = 1260\n",
        "count = 0  # 초기값 잡고\n",
        "\n",
        "# 큰단위의 호폐부터 차례대로 확인\n",
        "coin_types = [500,1000,50,10] # list\n",
        "# 해당 화폐로 거슬러 줄수 있는 동전의 개수 세기\n",
        "for coin in coin_types:\n",
        "    count += n #\n",
        "    n %= coin\n",
        "\n",
        "print(count)"
      ],
      "metadata": {
        "id": "UH2uxL1BWA_7"
      },
      "execution_count": null,
      "outputs": []
    },
    {
      "cell_type": "code",
      "source": [
        "# 큰수의 법칙 예시 1번\n",
        "# N,M,K공백으로 입력\n",
        "n, m, k = map(int,input(),split())\n",
        "#n개의 수를 공백으로 구분하여 입력받기\n",
        "data = list(map(int,input().split()))\n",
        "\n",
        "data.sort() # 입력받은 수들 정렬하기\n",
        "first = data[n-1] # 가장 큰 수\n",
        "second = data[n-2] # 가장 두번째 큰수\n",
        "result = 0\n",
        "\n",
        "while True:\n",
        "    for i in range(k): # 가장 큰 수를 k번 더하기\n",
        "        if m == 0: #m이 0이라면 반복문 탈출\n",
        "            break\n",
        "        result += first\n",
        "        m -=1 # 더 할때 마다 1씩 빼기\n",
        "        if m == 0:#m이 0이라면 반복문 탈출\n",
        "            break\n",
        "        result +=second # 두번째로 큰수를 한번 더 하기\n",
        "        m -= 1 # 더 할때마다 1씩 빼기\n",
        "\n",
        "\n",
        "print(result)# 최종답안 출력\n"
      ],
      "metadata": {
        "id": "2KM5lw1oWF56"
      },
      "execution_count": null,
      "outputs": []
    },
    {
      "cell_type": "code",
      "source": [
        "# 큰수의 법치 예시2\n",
        "\n",
        "# N,M,K공백으로 입력\n",
        "n, m, k = map(int,input(),split())\n",
        "#n개의 수를 공백으로 구분하여 입력받기\n",
        "data = list(map(int,input().split()))\n",
        "##################################### 암기\n",
        "\n",
        "data.sort() # 입력받은 수들 정렬하기\n",
        "first = data[n-1] # 가장 큰 수\n",
        "second = data[n-2] # 가장 두번째 큰수\n",
        "\n",
        "# 가장 큰 수가 더 해지는 횟수 계산\n",
        "count = int(m/(k+1))*k\n",
        "count += m% (k+1)\n",
        "\n",
        "result = 0\n",
        "result += (count)* first # 가장 큰 수 더하기\n",
        "result += (m - count)* second # 두번째로 큰수 더하기\n",
        "\n",
        "print(result)"
      ],
      "metadata": {
        "id": "Y1pU-Mc3WI4L"
      },
      "execution_count": null,
      "outputs": []
    },
    {
      "cell_type": "code",
      "source": [
        "# min 함수 예시\n",
        "# N, M을 공백으로 구분하여 입력받기\n",
        "n, m = map(int,input().split())\n",
        "\n",
        "result = 0\n",
        "# 한줄 씩 입력받아 확인\n",
        "for i in range(n):\n",
        "    data = list(map(int,input().split()))\n",
        "    # 현재 줄에서 '가장 작은 수' 찾기\n",
        "    min_value =min(data)\n",
        "    # '가장 작은 수'들 중에서 가장 큰 수 찾기\n",
        "    result = max(result, min_value)\n",
        "\n",
        "print(result) # 최종 답안 출력"
      ],
      "metadata": {
        "id": "uND4VB48WKuj"
      },
      "execution_count": null,
      "outputs": []
    },
    {
      "cell_type": "code",
      "source": [
        "# 2중 반복문 구조 이용 예시\n",
        "# N,M 을 공백으로 구분하여 입력받기\n",
        "n,m = map(int,input().split())\n",
        "\n",
        "result = 0\n",
        "#한 줄 씩 입력받아 확인\n",
        "for i in range(n):\n",
        "    data = list(map(int,input().split()))\n",
        "    #현재 줄 에서 가장 작은 수 찾기\n",
        "    min_value = 10001\n",
        "    for a in data:\n",
        "        min_value = min(min_value,a)\n",
        "        #가장 작은 수를 중에서 가장 큰 수 찾기\n",
        "        result = max(result, min_value)\n",
        "\n",
        "print(result) # 최종답안 출력\n"
      ],
      "metadata": {
        "id": "5NuXhB7nWMlj"
      },
      "execution_count": null,
      "outputs": []
    },
    {
      "cell_type": "code",
      "source": [
        "# 1일 될때 까지\n",
        "# 예시 1\n",
        "n , k = map(int,input().split())\n",
        "result = 0\n",
        "\n",
        "#N 이 K 이상이라면 K로 계속 나누기\n",
        "while n >= k :\n",
        "    # n이 k로 나누어 떨어지지 않는 다면 n에서1씩 빼기\n",
        "    while n % k != 0:\n",
        "        n -=1\n",
        "        result +=1\n",
        "        # k로 나누기\n",
        "        n //= k #????? 찾아보기\n",
        "\n",
        "        result +=1\n",
        "#마지막으로 남은 수에 대하여 1씩 빼기\n",
        "while n >1:\n",
        "    n -=1\n",
        "    result +=1\n",
        "\n",
        "print(result)\n",
        ""
      ],
      "metadata": {
        "id": "uiWSyiz4WOQT"
      },
      "execution_count": null,
      "outputs": []
    },
    {
      "cell_type": "code",
      "source": [
        "# 답안 예시\n",
        "# 예시 2\n",
        "n , k = map(int,input().split())\n",
        "result = 0\n",
        "\n",
        "while True:\n",
        "    # (n==k 로 나누어떨어지는 수)가 될 때까지 1씩 빼기\n",
        "    target=  (n//k) * k\n",
        "    result += (n-target)\n",
        "    n=target\n",
        "    #n이 k 보다 작을 때 더이상 나눌수 없을 때 반복문 탈출\n",
        "    if n < k:\n",
        "        break\n",
        "    #k 로 나누기\n",
        "    result +=1\n",
        "    n//=k\n",
        "\n",
        "# 마지막으로 남은 수에 대하여 1씩 빼기\n",
        "result +=(n-1)\n",
        "print(result)"
      ],
      "metadata": {
        "id": "lyZKUzx1WPrj"
      },
      "execution_count": null,
      "outputs": []
    },
    {
      "cell_type": "code",
      "source": [
        "# 구현"
      ],
      "metadata": {
        "id": "ueqmoy7HWTLD"
      },
      "execution_count": null,
      "outputs": []
    },
    {
      "cell_type": "code",
      "source": [
        "# 구현 문제 상하좌우 문제\n",
        "#예시\n",
        "#n을 입력받기\n",
        "n = int(input()) # 정수형\n",
        "x,y = 1 , 1\n",
        "plans = input().split() # 문자형으로 받는 듯\n",
        "\n",
        "# L R U D 따른 이동방향\n",
        "dx = [ 0,0,-1,1]\n",
        "dy = [-1,1,0,0]\n",
        "move_types = ['L','R','U','D']\n",
        "\n",
        "# 이동 꼐획을 하나씩 확인\n",
        "for plan in plans::\n",
        "        # 이동 후 좌표 구하기\n",
        "        for i in range(len(move_types)):\n",
        "            if plan == move_types[i]:\n",
        "                nx = x + dx[i]\n",
        "                ny = y + dy[i]\n",
        "\n",
        "        # 공간을 벗어나는 경우 무시\n",
        "        if nx < 1 or ny < 1 or nx > n orny > n :\n",
        "            continue\n",
        "        # 이동 수행\n",
        "        x , y = nx , ny\n",
        "print(x,y)\n"
      ],
      "metadata": {
        "id": "8LisYsCschji"
      },
      "execution_count": null,
      "outputs": []
    },
    {
      "cell_type": "code",
      "source": [
        "# 시각 표현\n",
        "# H 입력을 받기\n",
        "\n",
        "h = int(input())\n",
        "\n",
        "count = 0\n",
        "for i in range(h+1):\n",
        "    for j in range(60):\n",
        "        for k in range(60):\n",
        "            # 매 시각안에 '3'이 포함 되어 있다면 카운트 증가\n",
        "            if '3' in str(i) + str(j) + str (k):\n",
        "                count +=1\n",
        "print(count)"
      ],
      "metadata": {
        "id": "tCft2MFAclgC"
      },
      "execution_count": null,
      "outputs": []
    },
    {
      "cell_type": "code",
      "source": [
        "# 체스판에서 나이트 값 구하기\n",
        "# 현재 나이트의 위치값 받기\n",
        "input_data = input()\n",
        "row = int(input_data[1])\n",
        "column = int(ord(input_data[0]))-int(ord('a'))+1\n",
        "\n",
        "# 나이트가 이동 할 수 있는 8가지 방향 정의\n",
        "steps = [(-2,-1),(-1,-1),(1,-2),(2,-1),(2,1),(1,2),(-1,2),(-2,1)]\n",
        "\n",
        "# 8 가지 방향에 대하여 각 위치 이동 가능한지 확인\n",
        "\n",
        "result = 0\n",
        "for step in steps:\n",
        "    # 이동하고자 하는 위치 확인\n",
        "    next_row = row + step[0]\n",
        "    next_column = column + step[1]\n",
        "    # 해당 위치로 이동이 가능하다면 카운트 증가\n",
        "    if next_row > =1 and next_row <= 8 and next_column >=1\n",
        "    and next_column <=8:\n",
        "        result +=1\n",
        "print(result)\n",
        ""
      ],
      "metadata": {
        "id": "_wzlYw48cpPj"
      },
      "execution_count": null,
      "outputs": []
    },
    {
      "cell_type": "code",
      "source": [
        "# 게임 캐릭터 이동 만들기\n",
        "# N,M 공백으로 구분하여 입력하기\n",
        "n ,m = map(int,input().split())\n",
        "\n",
        "# 방문한 위치를 저장하기 위한 맵을 생성하여 0 으로 초기화\n",
        "d = [[0]*m for _ in range(n)]\n",
        "# 현재 캐릭터 x 좌표 y 좌표 입력받기\n",
        "x , y ,direction = map(int,input(),split())\n",
        "d[x][y] = 1 # 현재 좌표 방문처리\n",
        "\n",
        "# 전체 맵 정보를 입력받기\n",
        "array = []\n",
        "for i in range(n):\n",
        "    array.append(list(map(int,input().split())))\n",
        "d[x][y]= 1 # 현재 좌표 방문 처리\n",
        "\n",
        "# 전체 맵 정보를 입력받기\n",
        "array = []\n",
        "for i in range(n):\n",
        "    array.append(list(map(int, input().split())))\n",
        "\n",
        "    # 북동남서 방향 정의\n",
        "\n",
        "dx = [-1,0,1,0]\n",
        "dy = [0 , 1, 0,-1]\n",
        "\n",
        "# 왼쪽으로 회전\n",
        "def turn_left():\n",
        "    global direction\n",
        "    direction -=1\n",
        "    if direction == -1:\n",
        "        direction = 3\n",
        "\n",
        "# 시뮬레이션 시작\n",
        "count = 1\n",
        "turn_time = 0\n",
        "while True:\n",
        "    # 왼쪽으로 회전\n",
        "    turn_left()\n",
        "    nx = x + dx[direction]\n",
        "    ny = y + dy[direction]\n",
        "\n",
        "    # 회전 한 이후 정면에 가보지 않은 칸이 존재하는 경우 이동\n",
        "    if d[nx][ny] == 0 and array[nx][ny] == 0:\n",
        "        d[nx][ny]= 1\n",
        "        x = nx\n",
        "        y = ny\n",
        "        count +=1\n",
        "        turn_time = 0\n",
        "        continue\n",
        "        # 회전한 이후 정면에 가보지 않은 칸이 없거나 바다인 경우\n",
        "        else :\n",
        "            turn_time +=1\n",
        "        #네 방향 모두 갈 수없는 경우\n",
        "        if turn_time == 4 :\n",
        "            nx = x - dx[direction]\n",
        "            ny = y - dy[direction]\n",
        "            # 뒤로 갈수 있다면 이동하기\n",
        "            if array[nx][ny] == 0 :\n",
        "                x =nx\n",
        "                y =ny\n",
        "                #뒤로 바다로 막혀 있는 경우\n",
        "                else:\n",
        "                    break\n",
        "                turn_time=0 초기화\n",
        "# 정답 출력\n",
        "print(count)\n",
        "\n",
        "\n",
        "\n"
      ],
      "metadata": {
        "id": "aUp0m-6qcrfa"
      },
      "execution_count": null,
      "outputs": []
    }
  ]
}