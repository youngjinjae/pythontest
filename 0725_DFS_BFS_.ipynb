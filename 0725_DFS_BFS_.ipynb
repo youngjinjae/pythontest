{
  "nbformat": 4,
  "nbformat_minor": 0,
  "metadata": {
    "colab": {
      "provenance": [],
      "authorship_tag": "ABX9TyMHO6QElybGXX6fLIpzRL6T",
      "include_colab_link": true
    },
    "kernelspec": {
      "name": "python3",
      "display_name": "Python 3"
    },
    "language_info": {
      "name": "python"
    }
  },
  "cells": [
    {
      "cell_type": "markdown",
      "metadata": {
        "id": "view-in-github",
        "colab_type": "text"
      },
      "source": [
        "<a href=\"https://colab.research.google.com/github/youngjinjae/pythontest/blob/main/0725_DFS_BFS_.ipynb\" target=\"_parent\"><img src=\"https://colab.research.google.com/assets/colab-badge.svg\" alt=\"Open In Colab\"/></a>"
      ]
    },
    {
      "cell_type": "code",
      "source": [
        "#DFS/BFS\n",
        "# Stack\n",
        "\n",
        "stack = []\n",
        "# 삽입 5 2 3 7 삭제 1 4 삭제\n",
        "stack.append(5)\n",
        "\n",
        "stack.append(2)\n",
        "stack.append(3)\n",
        "stack.append(7)\n",
        "stack.pop()\n",
        "\n",
        "stack.append(1)\n",
        "stack.append(4)\n",
        "\n",
        "stack.pop()\n",
        "\n",
        "print(stack) # 최하단 원소부터 출력\n",
        "print(stack[::-1]) # 최상단 원소부터 출력"
      ],
      "metadata": {
        "id": "sMh2w4E9YeU3"
      },
      "execution_count": null,
      "outputs": []
    },
    {
      "cell_type": "code",
      "source": [
        "\n",
        "# queue\n",
        "from collections import deque\n",
        "\n",
        "# 큐구현을 위해 deque 라이브러리 실행\n",
        "queue = deque()\n",
        "\n",
        "# 삽입 5 2 3 7 삭제  1 4 삭제\n",
        "queue.append(5)\n",
        "queue.append(2)\n",
        "queue.append(3)\n",
        "queue.append(7)\n",
        "queue.popleft()\n",
        "queue.append(1)\n",
        "queue.append(4)\n",
        "queue.popleft()\n",
        "\n",
        "print(queue) # 먼저 들어온 순서대로 출력\n",
        "queue.reverse() # 다음 출력을 위해 역순으로 바꾸기\n",
        "print(queue)"
      ],
      "metadata": {
        "colab": {
          "base_uri": "https://localhost:8080/"
        },
        "id": "LbSCyGSFYdCB",
        "outputId": "c644f111-b6b1-4e80-e986-2a88fd6cd175"
      },
      "execution_count": null,
      "outputs": [
        {
          "output_type": "stream",
          "name": "stdout",
          "text": [
            "deque([3, 7, 1, 4])\n",
            "deque([4, 1, 7, 3])\n"
          ]
        }
      ]
    },
    {
      "cell_type": "code",
      "source": [
        "# 재귀 함수 종료 예제\n",
        "def recursive_function(i):\n",
        "    # 100번째 출력 했을때 종료되도록 조건 명시\n",
        "    if i == 100:\n",
        "        return\n",
        "    print(i,'첫번째 재귀', i+1 ,'번째 재귀호출')\n",
        "    recursive_function(i+1)\n",
        "    print(i,'번째 재귀함수 종료 ')\n",
        "\n",
        "recursive_function(1)"
      ],
      "metadata": {
        "id": "m_AsU9OsaN2_"
      },
      "execution_count": null,
      "outputs": []
    },
    {
      "cell_type": "code",
      "source": [
        "# 반복적으로 구현 n!\n",
        "def factorial_iterative(n):\n",
        "    result = 1\n",
        "    # 1부터 n까지의 수 차례대로 곱하기\n",
        "    for i in range(1,n+1):\n",
        "        result *=i\n",
        "    return result\n",
        "\n",
        "# 재귀적으로 구현\n",
        "def factorial_recursive(n):\n",
        "    if n< 1: # n이 1이하 인 경우 1을 반환\n",
        "        return 1\n",
        "    #n! = n* (n-1)를 그대로 코드로 작성하며\n",
        "    return n * factorial_recursive(n-1)\n",
        "\n",
        "#각각의 방식으로 구현한 n! 출력 n = 5\n",
        "print('반복 ', factorial_iterative(5))\n",
        "print('재귀 ', factorial_recursive(5))\n"
      ],
      "metadata": {
        "id": "W_xjNSynbZYO"
      },
      "execution_count": null,
      "outputs": []
    },
    {
      "cell_type": "code",
      "source": [
        "# 인접행렬 방식 예시\n",
        "INF = 99999 #무한의 비용\n",
        "\n",
        "# 2차원 리스트 이용해 인접 행렬 표현\n",
        "graph=[[0,7,5],\n",
        "      [7,0,INF],\n",
        "      [5,INF,0]]\n",
        "print(graph)"
      ],
      "metadata": {
        "id": "QMcYbuETbxan"
      },
      "execution_count": null,
      "outputs": []
    },
    {
      "cell_type": "code",
      "source": [
        "# 행 row 3개인 2차원 리스트로 인접 리스트 표현\n",
        "graph = [[]for _ in range(3) ]\n",
        "\n",
        "\n",
        "# 노드 0 에 연결된 노드 정보 저장\n",
        "graph[0].append((1,7))\n",
        "graph[0].append((2,5))\n",
        "\n",
        "# 노드 1에 연결된 노드 정보 저장\n",
        "graph[1].append((0,7))\n",
        "\n",
        "# 노드 2에 연결된 노드 정보 저장\n",
        "graph[2].append((0,5))\n",
        "\n",
        "print(graph)"
      ],
      "metadata": {
        "id": "a6YIvILWb4JW"
      },
      "execution_count": null,
      "outputs": []
    },
    {
      "cell_type": "code",
      "source": [
        "#DFS 예제\n",
        "def dfs(graph, v, visited):\n",
        "    # 현재 노드를 방문처리\n",
        "    visited[v] = True\n",
        "    print(v,end='')\n",
        "    #현재 노드와 연결된 다른 노드를 재귀적으로 방문\n",
        "    for i in grapg[v]:\n",
        "        if not visited[i]:\n",
        "            dfs(graph,i,visited)\n",
        "\n",
        "#각 노드가 연결된 정보를 리스트 자료형으로 표현\n",
        "grapg = [\n",
        "    [],\n",
        "    [2,3,8],\n",
        "    [1,7],\n",
        "    [1,4,5],\n",
        "    [3,5],\n",
        "    [3,4],\n",
        "    [7],\n",
        "    [2,6,8],\n",
        "    [1,7]\n",
        "\n",
        "]\n",
        "# 각 노드가 방문된 정보를 리스트 자료형 표현 1차원\n",
        "visited = [False] * 9\n",
        "# 정의된 DFS 함수 호출\n",
        "dfs(graph,1,visited)"
      ],
      "metadata": {
        "id": "UOIQe0hmdcPN"
      },
      "execution_count": null,
      "outputs": []
    },
    {
      "cell_type": "code",
      "source": [
        "#BFS 예제\n",
        "from collections import deque\n",
        "#bfs 메서드 정의\n",
        "\n",
        "def bfs(graph, start, visited):\n",
        "    #큐 구현을 위해 deque 라이브러리 사용\n",
        "    queue = deque([start])\n",
        "    # 현재노드를 방문처리\n",
        "    visited[start] = True\n",
        "    # 큐가 빌때까지 반복\n",
        "    while queue:\n",
        "        #큐에서 하나의 원소 뽑아 출력\n",
        "        v = queue.popleft()\n",
        "        print(v,end='')\n",
        "        # 해당 원소와 연결된, 아직 방문하지 않은 원소들의 큐에 삽입\n",
        "        for i in graph[v]:\n",
        "            if not visited[i]:\n",
        "                queue.append(i)\n",
        "                visited[i] = True\n",
        "############# BFS  ###############################\n",
        "\n",
        "#각 노드가 연결된 정보를 리스트 자료형으로 표현\n",
        "grapg = [\n",
        "    [],\n",
        "    [2,3,8],\n",
        "    [1,7],\n",
        "    [1,4,5],\n",
        "    [3,5],\n",
        "    [3,4],\n",
        "    [7],\n",
        "    [2,6,8],\n",
        "    [1,7]\n",
        "]\n",
        "# 각 노드가 방문된 정보를 리스트 자료형 표현 1차원\n",
        "visited = [False] * 9\n",
        "# 정의된 DFS 함수 호출\n",
        "dfs(graph,1,visited)"
      ],
      "metadata": {
        "id": "nJ_s0rGRe73s"
      },
      "execution_count": null,
      "outputs": []
    },
    {
      "cell_type": "code",
      "source": [
        "# 음료 얼려 먹기 예시\n",
        "# n , m을 공백으로 구분하여 입력받기\n",
        "n,m = map(int,input().split())\n",
        "\n",
        "\n",
        "# 2차원 리스트의 맵 정보 입력받기\n",
        "graph=[]\n",
        "for i in range(n):\n",
        "    graph.append(list(map(int,input())))\n",
        "\n",
        "# dfs로 특정한 노드를 방문한 뒤에 연결된 모든 노드들도 방문\n",
        "def dfs(x,y):\n",
        "    # 주어진 범위를 벗어나는 경우에 즉시 종료\n",
        "    if x <= -1 or x >=n or y <=-1 or y >= m:\n",
        "        return False\n",
        "    # 현재 노드를 아직 방문하지 않았다면\n",
        "    if graph[x][y] == 0:\n",
        "        # 해당 노드 방문 처리\n",
        "        graph[x][y] = 1\n",
        "        # 상,하,좌,우의 위치를 모두 재귀적으로 호출\n",
        "        dfs(x-1,y)\n",
        "        dfs(x,y-1)\n",
        "        dfs(x+1,y)\n",
        "        dfs(x,y+1)\n",
        "        return False\n",
        "    #모든 노드에 대하여 음료수 채우기\n",
        "    result = 0\n",
        "    for i in range(n):\n",
        "        for j in range(m):\n",
        "            #현재 위치에서 dfs 수행\n",
        "            if dfs(i,j)==True:\n",
        "                result += 1\n",
        "\n",
        "print(result) # 정답출력"
      ],
      "metadata": {
        "id": "YXR3WsACgfoj"
      },
      "execution_count": null,
      "outputs": []
    },
    {
      "cell_type": "code",
      "source": [
        "from collections import deque\n",
        "# n,m d을 공백으로 구분하여 입력\n",
        "n , m = map(int, input().split())\n",
        "# 2차원 리스트 맵 정보 입력01\n",
        "graph = []\n",
        "for i in range(n):\n",
        "    graph.append(list(map(int,input())))\n",
        "\n",
        "\n",
        "\n",
        "# 이동방향 상하좌우\n",
        "dx = [-1,1,0,0]\n",
        "dy = [0, 0, -1,1]\n",
        "# bfs 소스코드 구현\n",
        "def bfs(x,y):\n",
        "    # 큐 구현을 위해 deque라이브러리 사용\n",
        "    queue = deque()\n",
        "    queue.append((x,y))\n",
        "\n",
        "    # 큐가 빌때 까지 반복\n",
        "    while queue:\n",
        "        x , y = queue.popleft()\n",
        "        #현재 위치 네방향위치 화깅ㄴ\n",
        "        for i in range(4):\n",
        "            nx = x + dx[i]\n",
        "            ny = y + dy[i]\n",
        "            # 미로 찾기 공간 벗어나면 무시\n",
        "            if nx < 0 or ny < 0 or nx >= n or ny >=m:\n",
        "                continue\n",
        "                # 벽 무시\n",
        "                if graph[nx][ny]==0:\n",
        "                    continue\n",
        "                    # 해당 노드 처음 방문하는 경우 최단거리\n",
        "                if graph[nx][ny]==1:\n",
        "                    graph[nx][ny]= graph[x][y]+1\n",
        "                    queue.append((nx,ny))\n",
        "\n",
        "            # 가장 오른쪽 아래까지 최단 거리 변화ㅣ\n",
        "    return graph[n-1][m-1]\n",
        "# bfs 결과 출력\n",
        "print(bfs(0,0))\n"
      ],
      "metadata": {
        "colab": {
          "base_uri": "https://localhost:8080/"
        },
        "id": "Lm-zMUdXifbj",
        "outputId": "a465a7d1-0766-4b82-d0b4-8f8e546cc43b"
      },
      "execution_count": null,
      "outputs": [
        {
          "output_type": "stream",
          "name": "stdout",
          "text": [
            "5 6\n",
            "101010\n",
            "111111\n",
            "00001\n",
            "111111\n",
            "111111\n",
            "1\n"
          ]
        }
      ]
    },
    {
      "cell_type": "code",
      "source": [
        "# 선택 정렬 소스 코드\n",
        "array = [7,5,9,0,3,1,6,2,4,8]\n",
        "\n",
        "for i in range(len(array)):\n",
        "    min_index = i # 가장 작은 원소의 인덱스\n",
        "    for j in range(i+1,len(array)):\n",
        "        if array[min_index]>array[j]:\n",
        "            min_index = j\n",
        "    array[i], array[min_index]= array[min_index],array[i]# 스와프\n",
        "print(array)"
      ],
      "metadata": {
        "colab": {
          "base_uri": "https://localhost:8080/"
        },
        "id": "DQlDJcXpjxPU",
        "outputId": "67e42d31-aed5-4371-a9a0-86049b9869c1"
      },
      "execution_count": null,
      "outputs": [
        {
          "output_type": "stream",
          "name": "stdout",
          "text": [
            "[0, 1, 2, 3, 4, 5, 6, 7, 8, 9]\n"
          ]
        }
      ]
    },
    {
      "cell_type": "code",
      "source": [
        "# 삽입정렬 소스 코드\n",
        "array = [7,5,9,0,3,1,6,2,4,8]\n",
        "for i in range(1,len(array)):\n",
        "    for j in range(i,0,-1): # 인덱스 i 부터 1까지 감소하며 반복 하는 문법\n",
        "        if array[j] < array[j-1]: #한칸씩 왼쪽 이동\n",
        "            array[j],array[j-1]=array[j-1],array[j]\n",
        "        else: # 자기보다 작은 데이터는 만나면 그 위치에 멈춤\n",
        "            break\n",
        "print(array)"
      ],
      "metadata": {
        "colab": {
          "base_uri": "https://localhost:8080/"
        },
        "id": "ycWF88zLkc_y",
        "outputId": "5388d522-c93d-4c2e-b907-7e6302109234"
      },
      "execution_count": null,
      "outputs": [
        {
          "output_type": "stream",
          "name": "stdout",
          "text": [
            "[0, 1, 2, 3, 4, 5, 6, 7, 8, 9]\n"
          ]
        }
      ]
    },
    {
      "cell_type": "code",
      "source": [
        "#퀵 정렬 소스코드\n",
        "array = [5,7,9,0,3,1,6,2,4,8]\n",
        "def quick_sort(array, start, end):\n",
        "    if start >= end:\n",
        "        return\n",
        "    pivot = start # 피벗은 첫번째\n",
        "    left = start +1\n",
        "    right = end\n",
        "    while left <= right:\n",
        "        #피벗보다 큰 데이터를 찾을때까지 반복\n",
        "        while left <= end and array[left] <= array[pivot]:\n",
        "            left +=1\n",
        "        #피벗 보다 작은 데이터를 찾을때 까지 반복\n",
        "        while right > start and array[right] >= array[pivot]:\n",
        "            right -=1\n",
        "        if left > right : # 엇갈린다면 작은데이터 피벗 교체\n",
        "            array[right],array[pivot] = array[pivot], array[right]\n",
        "        else : # 엇갈리지 않았다면, 작은데이터 큰데이터 교체\n",
        "            array[left],array[right] = array[right], array[left]\n",
        "    # 분할 이후 인쪽 부분과 오른쪽 부분 정렬 수행\n",
        "    quick_sort(array, start,right-1)\n",
        "    quick_sort(array, right+1 ,end)\n",
        "\n",
        "quick_sort(array,0,len(array)-1)\n",
        "print(array)\n"
      ],
      "metadata": {
        "colab": {
          "base_uri": "https://localhost:8080/"
        },
        "id": "E_DXBPqmmyKS",
        "outputId": "e158b408-6a09-4f50-a381-4a67a4209bd3"
      },
      "execution_count": null,
      "outputs": [
        {
          "output_type": "stream",
          "name": "stdout",
          "text": [
            "[0, 1, 2, 3, 4, 5, 6, 7, 8, 9]\n"
          ]
        }
      ]
    },
    {
      "cell_type": "code",
      "source": [
        "# 파이썬 장점 실린 퀵 정렬\n",
        "array = [5,7,9,0,3,1,6,2,4,8]\n",
        "\n",
        "def quick_sort(array):\n",
        "    # 리스트 하나 이하의 원소만 담고 있는 종료\n",
        "    if len(array) <=1:\n",
        "        return array\n",
        "    pivot = array[0] # 피벗은 첫번째 원소\n",
        "    tail = array[1:]# 피벗 제외한 리슽트\n",
        "\n",
        "    left_side = [x for x in tail if x <= pivot] #분할된 왼쪽\n",
        "    right_side = [x for x in tail if x > pivot] # 분할된 오른쪽\n",
        "\n",
        "    # 분할 이후 왼쪽 오른쪽 부분 각각 정렬 수행 전체리스트 반환\n",
        "    return quick_sort(left_side) + [pivot]+quick_sort(right_side)\n",
        "print(quick_sort(array))\n"
      ],
      "metadata": {
        "colab": {
          "base_uri": "https://localhost:8080/"
        },
        "id": "JggPFcfbntUy",
        "outputId": "46c9291b-0b78-4041-81e9-ceecbb5017e6"
      },
      "execution_count": null,
      "outputs": [
        {
          "output_type": "stream",
          "name": "stdout",
          "text": [
            "[0, 1, 2, 3, 4, 5, 6, 7, 8, 9]\n"
          ]
        }
      ]
    },
    {
      "cell_type": "code",
      "source": [
        "#모든 원소의 값이 0보다 크거나 같다고 가정\n",
        "array = [7,5,9,0,3,1,6,2,9,1,4,8,0,5,2]\n",
        "\n",
        "# 모든 범위를 포함 리스트 선언 (모든 같은 0 초기화)\n",
        "count = [0] * (max(array)+1)\n",
        "\n",
        "for i in range(len(array)):\n",
        "    count[array[i]] +=1 # 각 데이터 해당하는 인덱스 값증가\n",
        "\n",
        "for i in range(len(count)): # 리스트 기록된 정렬 정보확인\n",
        "    for j in range(count[i]):\n",
        "        print(i, end='') # 띄어쓰기 구분 등장 인덱스 출력"
      ],
      "metadata": {
        "colab": {
          "base_uri": "https://localhost:8080/"
        },
        "id": "yVvjJTsxopeg",
        "outputId": "6a2e20fd-6717-4419-bc13-26abe3d1d9c8"
      },
      "execution_count": null,
      "outputs": [
        {
          "output_type": "stream",
          "name": "stdout",
          "text": [
            "001122345567899"
          ]
        }
      ]
    },
    {
      "cell_type": "code",
      "source": [
        "#위에서 아래로 답안예시\n",
        "# N을 입력 받기\n",
        "n = int(input())\n",
        "\n",
        "#n 개의 정수를 입력받아 리스트에 저장\n",
        "array = []\n",
        "for i in range(n):\n",
        "  array.append(int(input()))\n",
        "\n",
        "# 파이썬 기본 정렬 라이브러리 이용 정렬 수행\n",
        "array = sorted(array, reverse=True)\n",
        "# 정렬이 수행된 결과 출력\n",
        "for i in array:\n",
        "  print(i,end='')\n",
        "\n"
      ],
      "metadata": {
        "id": "sDij8nJ_ntyq",
        "colab": {
          "base_uri": "https://localhost:8080/"
        },
        "outputId": "5b574d8d-8925-4bae-f0e8-b40abfba1a90"
      },
      "execution_count": 1,
      "outputs": [
        {
          "output_type": "stream",
          "name": "stdout",
          "text": [
            "3\n",
            "15\n",
            "27\n",
            "12\n",
            "271512"
          ]
        }
      ]
    },
    {
      "cell_type": "code",
      "source": [
        "# n 입력 받기 성적낮은 순서로 학생 출력\n",
        "n = int(input())\n",
        "#  n 명의 학생 정보를 입력받아 리스트에 저장\n",
        "array=[]\n",
        "for i in range(n):\n",
        "  input_data = input().split\n",
        "  # 이름은 문자열 점수 정수형 변환하여 저장\n",
        "  array.append((input_data[0],int(input_data[1])))\n",
        "\n",
        "# key 키를 이용하여 점수를 기준으로 정렬\n",
        "array = sorted(array, key=lambda student:student[1])\n",
        "\n",
        "# 정렬이 수행된 결과를 출력\n",
        "for student in array :\n",
        "  print(student[0],end='')"
      ],
      "metadata": {
        "colab": {
          "base_uri": "https://localhost:8080/",
          "height": 400
        },
        "id": "MbnpqtsxcXZJ",
        "outputId": "633a7edf-dcd9-4751-ef13-9309817a3a1d"
      },
      "execution_count": 6,
      "outputs": [
        {
          "output_type": "error",
          "ename": "KeyboardInterrupt",
          "evalue": "ignored",
          "traceback": [
            "\u001b[0;31m---------------------------------------------------------------------------\u001b[0m",
            "\u001b[0;31mKeyboardInterrupt\u001b[0m                         Traceback (most recent call last)",
            "\u001b[0;32m<ipython-input-6-9560ab4a9391>\u001b[0m in \u001b[0;36m<cell line: 2>\u001b[0;34m()\u001b[0m\n\u001b[1;32m      1\u001b[0m \u001b[0;31m# n 입력 받기\u001b[0m\u001b[0;34m\u001b[0m\u001b[0;34m\u001b[0m\u001b[0m\n\u001b[0;32m----> 2\u001b[0;31m \u001b[0mn\u001b[0m \u001b[0;34m=\u001b[0m \u001b[0mint\u001b[0m\u001b[0;34m(\u001b[0m\u001b[0minput\u001b[0m\u001b[0;34m(\u001b[0m\u001b[0;34m)\u001b[0m\u001b[0;34m)\u001b[0m\u001b[0;34m\u001b[0m\u001b[0;34m\u001b[0m\u001b[0m\n\u001b[0m\u001b[1;32m      3\u001b[0m \u001b[0;31m#  n 명의 학생 정보를 입력받아 리스트에 저장\u001b[0m\u001b[0;34m\u001b[0m\u001b[0;34m\u001b[0m\u001b[0m\n\u001b[1;32m      4\u001b[0m \u001b[0marray\u001b[0m\u001b[0;34m=\u001b[0m\u001b[0;34m[\u001b[0m\u001b[0;34m]\u001b[0m\u001b[0;34m\u001b[0m\u001b[0;34m\u001b[0m\u001b[0m\n\u001b[1;32m      5\u001b[0m \u001b[0;32mfor\u001b[0m \u001b[0mi\u001b[0m \u001b[0;32min\u001b[0m \u001b[0mrange\u001b[0m\u001b[0;34m(\u001b[0m\u001b[0mn\u001b[0m\u001b[0;34m)\u001b[0m\u001b[0;34m:\u001b[0m\u001b[0;34m\u001b[0m\u001b[0;34m\u001b[0m\u001b[0m\n",
            "\u001b[0;32m/usr/local/lib/python3.10/dist-packages/ipykernel/kernelbase.py\u001b[0m in \u001b[0;36mraw_input\u001b[0;34m(self, prompt)\u001b[0m\n\u001b[1;32m    849\u001b[0m                 \u001b[0;34m\"raw_input was called, but this frontend does not support input requests.\"\u001b[0m\u001b[0;34m\u001b[0m\u001b[0;34m\u001b[0m\u001b[0m\n\u001b[1;32m    850\u001b[0m             )\n\u001b[0;32m--> 851\u001b[0;31m         return self._input_request(str(prompt),\n\u001b[0m\u001b[1;32m    852\u001b[0m             \u001b[0mself\u001b[0m\u001b[0;34m.\u001b[0m\u001b[0m_parent_ident\u001b[0m\u001b[0;34m,\u001b[0m\u001b[0;34m\u001b[0m\u001b[0;34m\u001b[0m\u001b[0m\n\u001b[1;32m    853\u001b[0m             \u001b[0mself\u001b[0m\u001b[0;34m.\u001b[0m\u001b[0m_parent_header\u001b[0m\u001b[0;34m,\u001b[0m\u001b[0;34m\u001b[0m\u001b[0;34m\u001b[0m\u001b[0m\n",
            "\u001b[0;32m/usr/local/lib/python3.10/dist-packages/ipykernel/kernelbase.py\u001b[0m in \u001b[0;36m_input_request\u001b[0;34m(self, prompt, ident, parent, password)\u001b[0m\n\u001b[1;32m    893\u001b[0m             \u001b[0;32mexcept\u001b[0m \u001b[0mKeyboardInterrupt\u001b[0m\u001b[0;34m:\u001b[0m\u001b[0;34m\u001b[0m\u001b[0;34m\u001b[0m\u001b[0m\n\u001b[1;32m    894\u001b[0m                 \u001b[0;31m# re-raise KeyboardInterrupt, to truncate traceback\u001b[0m\u001b[0;34m\u001b[0m\u001b[0;34m\u001b[0m\u001b[0m\n\u001b[0;32m--> 895\u001b[0;31m                 \u001b[0;32mraise\u001b[0m \u001b[0mKeyboardInterrupt\u001b[0m\u001b[0;34m(\u001b[0m\u001b[0;34m\"Interrupted by user\"\u001b[0m\u001b[0;34m)\u001b[0m \u001b[0;32mfrom\u001b[0m \u001b[0;32mNone\u001b[0m\u001b[0;34m\u001b[0m\u001b[0;34m\u001b[0m\u001b[0m\n\u001b[0m\u001b[1;32m    896\u001b[0m             \u001b[0;32mexcept\u001b[0m \u001b[0mException\u001b[0m \u001b[0;32mas\u001b[0m \u001b[0me\u001b[0m\u001b[0;34m:\u001b[0m\u001b[0;34m\u001b[0m\u001b[0;34m\u001b[0m\u001b[0m\n\u001b[1;32m    897\u001b[0m                 \u001b[0mself\u001b[0m\u001b[0;34m.\u001b[0m\u001b[0mlog\u001b[0m\u001b[0;34m.\u001b[0m\u001b[0mwarning\u001b[0m\u001b[0;34m(\u001b[0m\u001b[0;34m\"Invalid Message:\"\u001b[0m\u001b[0;34m,\u001b[0m \u001b[0mexc_info\u001b[0m\u001b[0;34m=\u001b[0m\u001b[0;32mTrue\u001b[0m\u001b[0;34m)\u001b[0m\u001b[0;34m\u001b[0m\u001b[0;34m\u001b[0m\u001b[0m\n",
            "\u001b[0;31mKeyboardInterrupt\u001b[0m: Interrupted by user"
          ]
        }
      ]
    },
    {
      "cell_type": "code",
      "source": [
        "# 두 배열의 원소 교체\n",
        "n , k = map(int,input().split()) # n 와 k는 입력 받기\n",
        "a = list(map(int,input().split()))\n",
        "b = list(map(int,input().split()))\n",
        "\n",
        "a.sort() # 배열 a 오름차순 정렬 수행\n",
        "b.sort(reverse=True) # 배열 b 내림차순 정렬수행\n",
        "\n",
        "# 첫번째 인덱스 부터 확인, 두배열의 원소를 최대 k 번 비교\n",
        "for i in range(k):\n",
        "\n",
        "  # a의 원소가 b의 원소 보다 작은 경우\n",
        "  if a[i] < b[i]:\n",
        "    # 두원소 교체\n",
        "    a[i],b[i] = b[i],a[i]\n",
        "  else: # a의 워소가 b의원소 보다 크거나 같을때, 반복문을 탈출\n",
        "    break\n",
        "\n",
        "print(sum(a))\n",
        "\n"
      ],
      "metadata": {
        "colab": {
          "base_uri": "https://localhost:8080/"
        },
        "id": "gO5NVjhUd683",
        "outputId": "a9c1d0e5-85e0-4a8a-86ab-db79ae6ecccc"
      },
      "execution_count": 8,
      "outputs": [
        {
          "output_type": "stream",
          "name": "stdout",
          "text": [
            "5 3\n",
            "1 2 5 4 3\n",
            "5 5 6 6 5\n",
            "26\n"
          ]
        }
      ]
    }
  ]
}