{
  "cells": [
    {
      "cell_type": "markdown",
      "metadata": {
        "id": "view-in-github",
        "colab_type": "text"
      },
      "source": [
        "<a href=\"https://colab.research.google.com/github/youngjinjae/pythontest/blob/main/0725_Regression_%EB%91%90%EB%B2%88_%EC%A7%B8_.ipynb\" target=\"_parent\"><img src=\"https://colab.research.google.com/assets/colab-badge.svg\" alt=\"Open In Colab\"/></a>"
      ]
    },
    {
      "cell_type": "code",
      "execution_count": null,
      "id": "61770ccb",
      "metadata": {
        "id": "61770ccb",
        "outputId": "90f003d8-1e06-4777-d04a-fb0584cbca13"
      },
      "outputs": [
        {
          "data": {
            "text/plain": [
              "<keras.callbacks.History at 0x19257236f70>"
            ]
          },
          "execution_count": 3,
          "metadata": {},
          "output_type": "execute_result"
        }
      ],
      "source": [
        "# 간단한 simple Linear Regression 구현\n",
        "# tensorflow\n",
        "\n",
        "import numpy as np\n",
        "import pandas as pd\n",
        "from tensorflow.keras.models import Sequential\n",
        "from tensorflow.keras.layers import Flatten, Dense\n",
        "from tensorflow.keras.optimizers import SGD\n",
        "\n",
        "# 필요한 모듈 만들기.\n",
        "\n",
        "# 순서 기억하기\n",
        "# 데이터 준비 Training data set\n",
        "x_data = np.array([1,2,3,4,5]).reshape(5,1) #array 1차원 배열.reshape 2차원 5행 1열\n",
        "t_data = np.array([3,5,7,9,11]).reshape(5,1)\n",
        "# 원래는 데이터 전처리 과정이 진행\n",
        "\n",
        "# Model 생성\n",
        "model = Sequential()\n",
        "\n",
        "\n",
        "# model 안에 layer를 넣어요.기둥 세우기\n",
        "model.add(Flatten(input_shape=(1,))) # input\n",
        "model.add(Dense(1,activation='linear')) # output 나중에 이거 변경됨\n",
        "# 설명 0725 pdf 5page 참조 하기 linear\n",
        "# moodel 설정\n",
        "# learning_rate w와 update 되는 값이 다르다.\n",
        "# learning_date 값은 hyperparameter 데이터가 다르다.\n",
        "# 이 값을 적절한 찾아야한다.\n",
        "model.compile(optimizer=SGD(learning_rate=1e-2),\n",
        "              loss='mse') # 평균제곱 오차를 사용\n",
        "\n",
        "# model 학습\n",
        "model.fit(x_data,\n",
        "         t_data,\n",
        "         epochs=5000,\n",
        "         verbose=0)\n",
        "\n",
        "\n",
        "\n"
      ]
    },
    {
      "cell_type": "code",
      "execution_count": null,
      "id": "978e8452",
      "metadata": {
        "id": "978e8452",
        "outputId": "44e9dc72-971f-4cda-9071-7886030142d9"
      },
      "outputs": [
        {
          "name": "stdout",
          "output_type": "stream",
          "text": [
            "1/1 [==============================] - 0s 29ms/step\n",
            "[[21.000032]]\n"
          ]
        }
      ],
      "source": [
        "# 학습 끝났으니\n",
        "# 예측 해보자\n",
        "result = model.predict([[10]])\n",
        "print(result)\n",
        "# 이렇게 나온 값이 정확한 값인지, 우리가 제대로 모델 만든건지\n",
        "# 확인하기 힘듬\n",
        "# 그래서 sklearn를 이용해서 정답과 가까운 값을 알아보고 우리 결과 비교\n"
      ]
    },
    {
      "cell_type": "code",
      "execution_count": null,
      "id": "82d09522",
      "metadata": {
        "id": "82d09522",
        "outputId": "a2fd0c3b-669f-4dcb-c006-364cd7d776c9"
      },
      "outputs": [
        {
          "name": "stdout",
          "output_type": "stream",
          "text": [
            "[[21.]]\n"
          ]
        }
      ],
      "source": [
        "# 구현된 모델이 적합한지 확인 하기 위해 !\n",
        "# sklearn 으로 보자.\n",
        "# sklearn를 이용해서 똑같이 구현\n",
        "import numpy as np\n",
        "from sklearn import linear_model\n",
        "# 오류난다. 다시 설치 해야한다.\n",
        "# gpt에서 검색 아나콘다 환경에서 sklearn 설치 하고 싶은데 명령어 뭐냐 ?\n",
        "# 명령어 다르다. 이름 부터 conda install scikit-learn 설치하기\n",
        "\n",
        "# 데이터 준비 Training data set\n",
        "x_data = np.array([1,2,3,4,5]).reshape(5,1) #array 1차원 배열.reshape 2차원 5행 1열\n",
        "t_data = np.array([3,5,7,9,11]).reshape(5,1)\n",
        "\n",
        "# model 생성\n",
        "sklearn_model = linear_model.LinearRegression()\n",
        "\n",
        "# 학습\n",
        "sklearn_model.fit(x_data,t_data)\n",
        "\n",
        "predict_value = sklearn_model.predict([[10]])\n",
        "print(predict_value) # 바로 나옴\n"
      ]
    },
    {
      "cell_type": "code",
      "execution_count": null,
      "id": "8176cc15",
      "metadata": {
        "id": "8176cc15",
        "outputId": "43e36989-f3e8-4205-f0a8-0421b6e2e4a0"
      },
      "outputs": [
        {
          "data": {
            "text/html": [
              "<div>\n",
              "<style scoped>\n",
              "    .dataframe tbody tr th:only-of-type {\n",
              "        vertical-align: middle;\n",
              "    }\n",
              "\n",
              "    .dataframe tbody tr th {\n",
              "        vertical-align: top;\n",
              "    }\n",
              "\n",
              "    .dataframe thead th {\n",
              "        text-align: right;\n",
              "    }\n",
              "</style>\n",
              "<table border=\"1\" class=\"dataframe\">\n",
              "  <thead>\n",
              "    <tr style=\"text-align: right;\">\n",
              "      <th></th>\n",
              "      <th>Temp</th>\n",
              "      <th>Ozone</th>\n",
              "    </tr>\n",
              "  </thead>\n",
              "  <tbody>\n",
              "    <tr>\n",
              "      <th>0</th>\n",
              "      <td>67</td>\n",
              "      <td>41.0</td>\n",
              "    </tr>\n",
              "    <tr>\n",
              "      <th>1</th>\n",
              "      <td>72</td>\n",
              "      <td>36.0</td>\n",
              "    </tr>\n",
              "    <tr>\n",
              "      <th>2</th>\n",
              "      <td>74</td>\n",
              "      <td>12.0</td>\n",
              "    </tr>\n",
              "    <tr>\n",
              "      <th>3</th>\n",
              "      <td>62</td>\n",
              "      <td>18.0</td>\n",
              "    </tr>\n",
              "    <tr>\n",
              "      <th>4</th>\n",
              "      <td>56</td>\n",
              "      <td>NaN</td>\n",
              "    </tr>\n",
              "    <tr>\n",
              "      <th>...</th>\n",
              "      <td>...</td>\n",
              "      <td>...</td>\n",
              "    </tr>\n",
              "    <tr>\n",
              "      <th>148</th>\n",
              "      <td>70</td>\n",
              "      <td>30.0</td>\n",
              "    </tr>\n",
              "    <tr>\n",
              "      <th>149</th>\n",
              "      <td>77</td>\n",
              "      <td>NaN</td>\n",
              "    </tr>\n",
              "    <tr>\n",
              "      <th>150</th>\n",
              "      <td>75</td>\n",
              "      <td>14.0</td>\n",
              "    </tr>\n",
              "    <tr>\n",
              "      <th>151</th>\n",
              "      <td>76</td>\n",
              "      <td>18.0</td>\n",
              "    </tr>\n",
              "    <tr>\n",
              "      <th>152</th>\n",
              "      <td>68</td>\n",
              "      <td>20.0</td>\n",
              "    </tr>\n",
              "  </tbody>\n",
              "</table>\n",
              "<p>153 rows × 2 columns</p>\n",
              "</div>"
            ],
            "text/plain": [
              "     Temp  Ozone\n",
              "0      67   41.0\n",
              "1      72   36.0\n",
              "2      74   12.0\n",
              "3      62   18.0\n",
              "4      56    NaN\n",
              "..    ...    ...\n",
              "148    70   30.0\n",
              "149    77    NaN\n",
              "150    75   14.0\n",
              "151    76   18.0\n",
              "152    68   20.0\n",
              "\n",
              "[153 rows x 2 columns]"
            ]
          },
          "metadata": {},
          "output_type": "display_data"
        },
        {
          "data": {
            "text/html": [
              "<div>\n",
              "<style scoped>\n",
              "    .dataframe tbody tr th:only-of-type {\n",
              "        vertical-align: middle;\n",
              "    }\n",
              "\n",
              "    .dataframe tbody tr th {\n",
              "        vertical-align: top;\n",
              "    }\n",
              "\n",
              "    .dataframe thead th {\n",
              "        text-align: right;\n",
              "    }\n",
              "</style>\n",
              "<table border=\"1\" class=\"dataframe\">\n",
              "  <thead>\n",
              "    <tr style=\"text-align: right;\">\n",
              "      <th></th>\n",
              "      <th>Temp</th>\n",
              "      <th>Ozone</th>\n",
              "    </tr>\n",
              "  </thead>\n",
              "  <tbody>\n",
              "    <tr>\n",
              "      <th>0</th>\n",
              "      <td>67</td>\n",
              "      <td>41.0</td>\n",
              "    </tr>\n",
              "    <tr>\n",
              "      <th>1</th>\n",
              "      <td>72</td>\n",
              "      <td>36.0</td>\n",
              "    </tr>\n",
              "    <tr>\n",
              "      <th>2</th>\n",
              "      <td>74</td>\n",
              "      <td>12.0</td>\n",
              "    </tr>\n",
              "    <tr>\n",
              "      <th>3</th>\n",
              "      <td>62</td>\n",
              "      <td>18.0</td>\n",
              "    </tr>\n",
              "    <tr>\n",
              "      <th>5</th>\n",
              "      <td>66</td>\n",
              "      <td>28.0</td>\n",
              "    </tr>\n",
              "    <tr>\n",
              "      <th>...</th>\n",
              "      <td>...</td>\n",
              "      <td>...</td>\n",
              "    </tr>\n",
              "    <tr>\n",
              "      <th>147</th>\n",
              "      <td>63</td>\n",
              "      <td>14.0</td>\n",
              "    </tr>\n",
              "    <tr>\n",
              "      <th>148</th>\n",
              "      <td>70</td>\n",
              "      <td>30.0</td>\n",
              "    </tr>\n",
              "    <tr>\n",
              "      <th>150</th>\n",
              "      <td>75</td>\n",
              "      <td>14.0</td>\n",
              "    </tr>\n",
              "    <tr>\n",
              "      <th>151</th>\n",
              "      <td>76</td>\n",
              "      <td>18.0</td>\n",
              "    </tr>\n",
              "    <tr>\n",
              "      <th>152</th>\n",
              "      <td>68</td>\n",
              "      <td>20.0</td>\n",
              "    </tr>\n",
              "  </tbody>\n",
              "</table>\n",
              "<p>116 rows × 2 columns</p>\n",
              "</div>"
            ],
            "text/plain": [
              "     Temp  Ozone\n",
              "0      67   41.0\n",
              "1      72   36.0\n",
              "2      74   12.0\n",
              "3      62   18.0\n",
              "5      66   28.0\n",
              "..    ...    ...\n",
              "147    63   14.0\n",
              "148    70   30.0\n",
              "150    75   14.0\n",
              "151    76   18.0\n",
              "152    68   20.0\n",
              "\n",
              "[116 rows x 2 columns]"
            ]
          },
          "metadata": {},
          "output_type": "display_data"
        }
      ],
      "source": [
        "# 우리는 지금 독립변수가 1개인 Simple Linear Regression을 하고 있어요.\n",
        "# 오존 예제는 독립변수3개, 종속 변수 1개로 구성\n",
        "# 일단 온도만 독립변수로 사용 할 생각\n",
        "# 온도에 따른 오존량 예측\n",
        "\n",
        "import numpy as np\n",
        "import pandas as pd # 데이터 ozone 위해\n",
        "from tensorflow.keras.models import Sequential\n",
        "from tensorflow.keras.layers import Flatten, Dense\n",
        "from tensorflow.keras.optimizers import SGD\n",
        "import matplotlib.pyplot as plt\n",
        "\n",
        "\n",
        "# raw data loading\n",
        "df = pd.read_csv('./data/ozone/ozone.csv')\n",
        "# display(df)\n",
        "\n",
        "training_data_set=df[['Temp','Ozone']]\n",
        "display(training_data_set)\n",
        "\n",
        "# 제일 처음에 해야하는 작업\n",
        "# 결측치를 처리해야함 Nan\n",
        "# 1. 삭제\n",
        "# 2. 보정\n",
        "# 지금은 그냥 결치값을 삭제 해서 사용\n",
        "training_data_set = training_data_set.dropna(how='any')#nan 삭제하기 위해\n",
        "\n",
        "# display(training_data_set) # 116\n"
      ]
    },
    {
      "cell_type": "code",
      "execution_count": null,
      "id": "dc8e8c1f",
      "metadata": {
        "id": "dc8e8c1f",
        "outputId": "5ea76fa6-9267-4006-ed6e-7f5d5fb7047e"
      },
      "outputs": [
        {
          "data": {
            "text/plain": [
              "<keras.callbacks.History at 0x1925d12d730>"
            ]
          },
          "execution_count": 44,
          "metadata": {},
          "output_type": "execute_result"
        }
      ],
      "source": [
        "# 이제 training data set\n",
        "x_data = training_data_set['Temp'].values.reshape(-1,1)\n",
        "t_data = training_data_set['Ozone'].values.reshape(-1,1)\n",
        "\n",
        "keras_model = Sequential()\n",
        "\n",
        "keras_model.add(Flatten(input_shape=(1,)))\n",
        "# keras_model.add(Dense(1, activation='linear'))\n",
        "\n",
        "output_layer = Dense(1, activation='linear')\n",
        "keras_model.add(output_layer)\n",
        "\n",
        "\n",
        "keras_model.compile(optimizer=SGD(learning_rate=1e-4),\n",
        "                   loss='mse')\n",
        "keras_model.fit(x_data,\n",
        "               t_data,\n",
        "               epochs=2000,\n",
        "               verbose=0)\n",
        "\n",
        "\n",
        "\n"
      ]
    },
    {
      "cell_type": "code",
      "execution_count": null,
      "id": "1b19f5ab",
      "metadata": {
        "id": "1b19f5ab",
        "outputId": "412a0360-db0c-4d03-f16d-347170c96726"
      },
      "outputs": [
        {
          "name": "stdout",
          "output_type": "stream",
          "text": [
            "1/1 [==============================] - 0s 42ms/step\n",
            "[[54.569435]]\n",
            "[[0.9355382]] [-3.4339325]\n"
          ]
        },
        {
          "data": {
            "image/png": "[encoded data removed]",
            "text/plain": [
              "<Figure size 640x480 with 1 Axes>"
            ]
          },
          "metadata": {},
          "output_type": "display_data"
        }
      ],
      "source": [
        "# 학습이 끝났으니 이제 예측 해보자\n",
        "\n",
        "keras_predict = keras_model.predict([[62]])\n",
        "# 온도62 일때 오존량 얼마?\n",
        "print(keras_predict)\n",
        "#안의 랜덤으로 다르다. 32 33 34 35\n",
        "# 이값이 잘 예측된 값인지 알 수가 없다. 맞는지 틀린지\n",
        "# 일단 그래프로 확인해보자.\n",
        "\n",
        "# 데이터를 scatter를 이용해서 화면에 점을 찍구요. 온도에 따른 오존량\n",
        "# 우리 모델 (직선 그래프) 만들자.\n",
        "# 이제 w와 b 직선그리기\n",
        "\n",
        "# weight, bias = output_layer.get_weights()\n",
        "\n",
        "# print (weightm, bias)\n",
        "# #  수정하기\n",
        "\n",
        "# plt.scatter(x_data,t_data)\n",
        "# plt.plot(x_data,x_data*weights+bias,color='r')\n",
        "# plt.show #그래프 분포에서 이상치 예를들어 저 점보다 위에 있는거\n",
        "weights, bias = output_layer.get_weights()\n",
        "print(weights, bias)\n",
        "# [[0.8675983]] [-3.3986883]\n",
        "\n",
        "plt.scatter(x_data, t_data)\n",
        "plt.plot(x_data, x_data*weights + bias, color='r')\n",
        "plt.show()\n"
      ]
    },
    {
      "cell_type": "code",
      "execution_count": null,
      "id": "56e9565c",
      "metadata": {
        "id": "56e9565c",
        "outputId": "49ede7ca-83d1-4182-f655-571d510dea4c"
      },
      "outputs": [
        {
          "name": "stdout",
          "output_type": "stream",
          "text": [
            "[[3.58411393]]\n"
          ]
        },
        {
          "data": {
            "image/png": "[encoded data removed]",
            "text/plain": [
              "<Figure size 640x480 with 1 Axes>"
            ]
          },
          "metadata": {},
          "output_type": "display_data"
        }
      ],
      "source": [
        "# 같은 데이터를 믿고 쓰는 sklearn으로 학습 시키고 그래프를 그려보자\n",
        "# sklearn 구현\n",
        "\n",
        "\n",
        "\n",
        "import numpy as np\n",
        "import pandas as pd\n",
        "from sklearn import linear_model\n",
        "import matplotlib.pyplot as plt\n",
        "\n",
        "# x_data와 t_data 위에 있다.\n",
        "# model 생성\n",
        "sklearn_model = linear_model.LinearRegression()\n",
        "\n",
        "# model 학습\n",
        "sklearn_model.fit(x_data,t_data)\n",
        "# model 예측\n",
        "sklearn_result = sklearn_model.predict([[62]])\n",
        "print(sklearn_result)\n",
        "\n",
        "# 그래프 그려보자\n",
        "# 우리가 만든 모델의 가중치와 bias 알아야함\n",
        "\n",
        "weights = sklearn_model.coef_ # 가중치 _ w 이다.\n",
        "bias = sklearn_model.intercept_ # 바이어스 b이다.\n",
        "plt.scatter(x_data,t_data)\n",
        "plt.plot(x_data, x_data*weights+bias, color='g')\n",
        "\n",
        "plt.show() # 이상적인 그림\n",
        "\n"
      ]
    },
    {
      "cell_type": "code",
      "execution_count": null,
      "id": "ac1052bb",
      "metadata": {
        "id": "ac1052bb",
        "outputId": "ef1c3a18-3e23-4162-9416-f8db9be358eb"
      },
      "outputs": [
        {
          "data": {
            "text/plain": [
              "<keras.callbacks.History at 0x1925cf97d30>"
            ]
          },
          "execution_count": 25,
          "metadata": {},
          "output_type": "execute_result"
        }
      ],
      "source": [
        "# 왜 이런 문제가 생길까요?\n",
        "# 한마디로 말하면 정규화가 되지 않는다.\n",
        "# pdf 6번 page 확인\n",
        "\n",
        "# 각각의 독립변수와 종속변수를 같은 비율로 만들어서 학습 진행\n",
        "# 정규화는 여러가지 방법이 있어요.\n",
        "# 1. min max scaling(normalization)\n",
        "# 2. z-score normalization\n",
        "# 3. student's t분포를 이용 normalization\n",
        "\n",
        "# # tensorflow 낸용가지고\n",
        "# 데이터 다시 정규화 시켜서 모델 학습\n",
        "from sklearn.preprocessing  import MinMaxScaler\n",
        "scaler_x = MinMaxScaler()\n",
        "scaler_t = MinMaxScaler()\n",
        "# scaler 한테 최대값과 최소 값을 알려줌\n",
        "\n",
        "x_data = training_data_set['Temp'].values.reshape(-1,1)\n",
        "t_data = training_data_set['Ozone'].values.reshape(-1,1)\n",
        "\n",
        "scaler_x.fit(x_data)\n",
        "scaler_t.fit(t_data)\n",
        "\n",
        "x_data_norm = scaler_x.transform(x_data)\n",
        "t_data_norm = scaler_t.transform(t_data)\n",
        "\n",
        "keras_model = Sequential()\n",
        "\n",
        "keras_model.add(Flatten(input_shape=(1,)))\n",
        "# keras_model.add(Dense(1, activation='linear'))\n",
        "\n",
        "output_layer = Dense(1, activation='linear')\n",
        "keras_model.add(output_layer)\n",
        "#  수정하기\n",
        "\n",
        "keras_model.compile(optimizer=SGD(learning_rate=1e-4),\n",
        "                   loss='mse')\n",
        "\n",
        "keras_model.fit(x_data,\n",
        "               t_data,\n",
        "               epochs=2000,\n",
        "               verbose=0)\n",
        "\n",
        "\n",
        "\n"
      ]
    },
    {
      "cell_type": "code",
      "execution_count": null,
      "id": "5779c201",
      "metadata": {
        "id": "5779c201",
        "outputId": "527a3881-b6fc-4445-c0ba-03a4dab6e12a"
      },
      "outputs": [
        {
          "name": "stdout",
          "output_type": "stream",
          "text": [
            "[[0.125]]\n",
            "1/1 [==============================] - 0s 15ms/step\n",
            "[[-3.29851]]\n",
            "[[0.125]]\n"
          ]
        }
      ],
      "source": [
        "\n",
        "predict_data = 62\n",
        "scaled_predict_data = scaler_x.transform([[predict_data]])\n",
        "print(scaled_predict_data)#  [0.125]\n",
        "\n",
        "keras_predict = keras_model.predict(scaled_predict_data)\n",
        "print(keras_predict)\n",
        "\n",
        "scaled_keras_predict = scaler_t.inverse_transform(keras_predict)\n",
        "print(scaled_predict_data)"
      ]
    },
    {
      "cell_type": "code",
      "execution_count": null,
      "id": "2ea780b8",
      "metadata": {
        "id": "2ea780b8"
      },
      "outputs": [],
      "source": []
    },
    {
      "cell_type": "code",
      "execution_count": null,
      "id": "ecb82baf",
      "metadata": {
        "id": "ecb82baf"
      },
      "outputs": [],
      "source": []
    }
  ],
  "metadata": {
    "kernelspec": {
      "display_name": "Python [conda env:data_env] *",
      "language": "python",
      "name": "conda-env-data_env-py"
    },
    "language_info": {
      "codemirror_mode": {
        "name": "ipython",
        "version": 3
      },
      "file_extension": ".py",
      "mimetype": "text/x-python",
      "name": "python",
      "nbconvert_exporter": "python",
      "pygments_lexer": "ipython3",
      "version": "3.8.17"
    },
    "colab": {
      "provenance": [],
      "include_colab_link": true
    }
  },
  "nbformat": 4,
  "nbformat_minor": 5
}