{
  "nbformat": 4,
  "nbformat_minor": 0,
  "metadata": {
    "colab": {
      "provenance": [],
      "authorship_tag": "ABX9TyPGMJk6dlQh/sibG9/JJnXK",
      "include_colab_link": true
    },
    "kernelspec": {
      "name": "python3",
      "display_name": "Python 3"
    },
    "language_info": {
      "name": "python"
    }
  },
  "cells": [
    {
      "cell_type": "markdown",
      "metadata": {
        "id": "view-in-github",
        "colab_type": "text"
      },
      "source": [
        "<a href=\"https://colab.research.google.com/github/youngjinjae/pythontest/blob/main/0726_%EC%BD%94%EB%94%A9%ED%85%8C%EC%8A%A4%ED%8A%B8_%EC%9D%B4%EC%A7%84%ED%83%90%EC%83%89_%EB%8B%A4%EC%9D%B4%EB%82%98%EB%AF%B9.ipynb\" target=\"_parent\"><img src=\"https://colab.research.google.com/assets/colab-badge.svg\" alt=\"Open In Colab\"/></a>"
      ]
    },
    {
      "cell_type": "code",
      "execution_count": null,
      "metadata": {
        "colab": {
          "base_uri": "https://localhost:8080/",
          "height": 284
        },
        "id": "FFlf1A5gfrPc",
        "outputId": "c2eec275-676c-4e97-8d25-db718e81413f"
      },
      "outputs": [
        {
          "name": "stdout",
          "output_type": "stream",
          "text": [
            "생성할 원소 개수 입력한 다음 문자열 입력\n",
            "5 dongbin\n",
            "앞서 원소 개수 문자열 입력 구분 띄어쓰기\n",
            "hanul jonggu dongbin taeil sangwook\n"
          ]
        },
        {
          "output_type": "error",
          "ename": "NameError",
          "evalue": "ignored",
          "traceback": [
            "\u001b[0;31m---------------------------------------------------------------------------\u001b[0m",
            "\u001b[0;31mNameError\u001b[0m                                 Traceback (most recent call last)",
            "\u001b[0;32m<ipython-input-2-408b3b8cac74>\u001b[0m in \u001b[0;36m<cell line: 18>\u001b[0;34m()\u001b[0m\n\u001b[1;32m     16\u001b[0m \u001b[0;34m\u001b[0m\u001b[0m\n\u001b[1;32m     17\u001b[0m \u001b[0;31m# 순차 탐색 수행 결과 출력\u001b[0m\u001b[0;34m\u001b[0m\u001b[0;34m\u001b[0m\u001b[0m\n\u001b[0;32m---> 18\u001b[0;31m \u001b[0mprint\u001b[0m\u001b[0;34m(\u001b[0m\u001b[0msequential_search\u001b[0m\u001b[0;34m(\u001b[0m\u001b[0mn\u001b[0m\u001b[0;34m,\u001b[0m\u001b[0mtarget\u001b[0m\u001b[0;34m,\u001b[0m\u001b[0marray\u001b[0m\u001b[0;34m)\u001b[0m\u001b[0;34m)\u001b[0m\u001b[0;34m\u001b[0m\u001b[0;34m\u001b[0m\u001b[0m\n\u001b[0m",
            "\u001b[0;31mNameError\u001b[0m: name 'sequential_search' is not defined"
          ]
        }
      ],
      "source": [
        "# 순차 탐색 소스코드 구현\n",
        "def sequential_serach(n, target, array):\n",
        "  # 각 원소를 하나씩 확인하며\n",
        "  for i in range(n):\n",
        "    #현재의 원소가 찾고자 하는 원소와 동일한 경우\n",
        "    if array[i]==target:\n",
        "      return i + 1 # 현재의 위치 반환(인덱스는 0 부터 시작하므로 1더하기)\n",
        "\n",
        "print(\"생성할 원소 개수 입력한 다음 문자열 입력\")\n",
        "input_data = input().split()\n",
        "n = int(input_data[0]) # 원소의 개수\n",
        "target = input_data[1] # 찾고자 하는 문자열\n",
        "\n",
        "print(\"앞서 원소 개수 문자열 입력 구분 띄어쓰기\")\n",
        "array = input().split()\n",
        "\n",
        "# 순차 탐색 수행 결과 출력\n",
        "print(sequential_search(n ,target ,array))"
      ]
    },
    {
      "cell_type": "code",
      "source": [
        "# 이진탐색 소스코드 구현(재귀 함수)\n",
        "def binary_search(array, target, start, end):\n",
        "  if start > end :\n",
        "    return None\n",
        "    mid = (start+end)//2\n",
        "    # 찾은 경우 중간점 인덱스 반환\n",
        "    if array[mid]==target:\n",
        "      return mid\n",
        "      # 중간점의 값보다 찾고자하는 값이 작은 경우 왼쪽 확인\n",
        "    elif array[mid] > target:\n",
        "      return binary_search(array,target,start,mid -1)\n",
        "    # 중간점의 값보다 찾고자하는 값이 큰경우 오른쪽 확인\n",
        "    else:\n",
        "      return binary_search(array,target,mid+1,end )\n",
        "\n",
        "#n원소의 개수 과 target 찾고자하는 입력받기\n",
        "n, target = list(map(int,input().split()))\n",
        "# 전체 원소 입력받기\n",
        "array = list(map(int,input().split()))\n",
        "\n",
        "# 이진 탐색 수행 결과 출력\n",
        "result = binary_search(array,target,0 ,n-1)\n",
        "if result == None:\n",
        "  print(\"원소 존재 안함\")\n",
        "else :\n",
        "  print(result + 1)"
      ],
      "metadata": {
        "colab": {
          "base_uri": "https://localhost:8080/"
        },
        "id": "NtnT4KMzl9Di",
        "outputId": "806be67c-d674-4a7e-f97d-f95791259b3a"
      },
      "execution_count": null,
      "outputs": [
        {
          "output_type": "stream",
          "name": "stdout",
          "text": [
            "10 7\n",
            "1 3 5 7 9 11 13 15 17 19\n",
            "원소 존재 안함\n"
          ]
        }
      ]
    },
    {
      "cell_type": "code",
      "source": [
        "# 이진 탐색 소스 코드 구현(반복문)\n",
        "def binary_search(array, target, start, end):\n",
        "  while start <= end:\n",
        "    mid = (start + end)//2\n",
        "    # 찾은 경우 중간점 인덱스 전환\n",
        "    if array[mid] == target:\n",
        "      return mid\n",
        "      # 중간점의 값보다 찾고자 하는 값이 작은 경우 왼쪽 확인\n",
        "    elif array[mid] > target:\n",
        "      end = mid-1\n",
        "      # 중간점의 값보다 찾고자 하는 값이 큰 경우 오른쪽 확이\n",
        "    else:\n",
        "      start = mid + 1\n",
        "  return None\n",
        "# n개수과 target 문자열 입력받기\n",
        "n , target = list(map(int,input().split()))\n",
        "# 전체 원소 입력받기\n",
        "array = list(map(int,input().split()))\n",
        "\n",
        "# 이진 탐색 수행 결과 출력\n",
        "result = binary_search(array,target,0,n-1)\n",
        "if result == None:\n",
        "  print(\"원소 존재 안함\")\n",
        "else:\n",
        "  print(result+1)"
      ],
      "metadata": {
        "colab": {
          "base_uri": "https://localhost:8080/"
        },
        "id": "rzNz4yRumLWu",
        "outputId": "8511f613-ed74-49e4-915f-ca8a2cd68190"
      },
      "execution_count": null,
      "outputs": [
        {
          "output_type": "stream",
          "name": "stdout",
          "text": [
            "10 17\n",
            "1 3 5 6 9 11 13 15 17 19\n",
            "9\n"
          ]
        }
      ]
    },
    {
      "cell_type": "code",
      "source": [
        "# 빠르게 입력받기\n",
        "import sys\n",
        "# 하나의 문자열 데이터 입력받기\n",
        "input_data = sys.stdin.readline().rstrip()\n",
        "\n",
        "# 입력받은 문자열 그대로 출력\n",
        "print(input_data)"
      ],
      "metadata": {
        "colab": {
          "base_uri": "https://localhost:8080/"
        },
        "id": "jTYlRS7ur14D",
        "outputId": "18a7528f-33da-4519-8e50-746db7216e26"
      },
      "execution_count": null,
      "outputs": [
        {
          "output_type": "stream",
          "name": "stdout",
          "text": [
            "\n"
          ]
        }
      ]
    },
    {
      "cell_type": "code",
      "source": [
        "# 이진 탐색 트리\n",
        "\n",
        "def binary_search(array, target, start, end):\n",
        "  while start <= end:\n",
        "    mid = (start + end)//2\n",
        "    # 찾은 경우 중간점 인덱스 반환\n",
        "    if array[mid]==target:\n",
        "      return mid\n",
        "    # 중간점의 값보다 찾고자 하는 값이 작은 경우 왼쪽\n",
        "    elif array[mid] > target:\n",
        "      end = mid -1\n",
        "    # 중간점의 값보다 찾고자 하는 값이 큰 경우 오른쪽\n",
        "    else:\n",
        "      start = mid +1\n",
        "    return None\n",
        "\n",
        "# N 입력 개수 입력\n",
        "n = int(input())\n",
        "# 가게에 있는 전체 부품 번호 공백으로 구분 하여 입력\n",
        "array = list(map(int, input().split()))\n",
        "array.sort() # 이진 탐색 수행 하기 위해 사전 정렬 수행\n",
        "# m 입력\n",
        "m = int(input())\n",
        "# 손님이 확인 요청 전체 부품\n",
        "x = list(map(int, input().split()))\n",
        "\n",
        "# 손님이 확인 요청한 부품 하나씩 확인\n",
        "for i in x :\n",
        "  # 해당 부품 존재하는 확인\n",
        "  result = binary_search(array,i,0,n-1)\n",
        "  if result !=None:\n",
        "    print('yes',end=' ')\n",
        "  else :\n",
        "    print('no',end=' ')\n",
        "\n"
      ],
      "metadata": {
        "id": "VR6XsP6uslxB",
        "colab": {
          "base_uri": "https://localhost:8080/"
        },
        "outputId": "4c85e3cd-6086-4135-9f5e-a717d744140b"
      },
      "execution_count": 1,
      "outputs": [
        {
          "output_type": "stream",
          "name": "stdout",
          "text": [
            "5\n",
            "8 3 7 9 2\n",
            "3 \n",
            "5 7 9\n",
            "no yes no "
          ]
        }
      ]
    },
    {
      "cell_type": "code",
      "source": [
        "# 계수 정렬\n",
        "# N 입력 받기\n",
        "n = int(input())\n",
        "array = [0]*1000001\n",
        "\n",
        "# 가게에 있는 전체 부품 번호 입력 받아서 기록\n",
        "for i in input().split():\n",
        "  array[int(i)] = 1\n",
        "\n",
        "# m 손님 확인 요청한 갯수 입력받기\n",
        "m = int(input())\n",
        "# 손님이 확인 요청 전체 부품번호 공백하여 입력\n",
        "x = list(map(int, input().split()))\n",
        "\n",
        "# 손님이 확인 요청한 부품 번호 하나씩 확인\n",
        "for i in x:\n",
        "  # 해당 부품 존재하는 확인\n",
        "  if array[i] ==1:\n",
        "    print('yes',end='')\n",
        "  else:\n",
        "    print('no',end=' ')\n",
        "\n"
      ],
      "metadata": {
        "colab": {
          "base_uri": "https://localhost:8080/"
        },
        "id": "FjFpUj1SiHxn",
        "outputId": "064322e7-1f0c-4b87-c86f-9b19bc2c611e"
      },
      "execution_count": 2,
      "outputs": [
        {
          "output_type": "stream",
          "name": "stdout",
          "text": [
            "5\n",
            "8 3 7 9 2\n",
            "3\n",
            "5 7 9\n",
            "no yesyes"
          ]
        }
      ]
    },
    {
      "cell_type": "code",
      "source": [
        "# 집합 자료형\n",
        "# n 입력받기\n",
        "n = int(input())\n",
        "# 가게에 있는 전체 부품 번호 입력받아서 집합 자료형 기록\n",
        "array = set(map(int, input().split()))\n",
        "\n",
        "# m 입력받기\n",
        "m = int(input())\n",
        "# 손님이 확인 요청한 전체부품 번호 공백으로 구분하여 입력\n",
        "x= list(map(int,input().split()))\n",
        "\n",
        "# 손님이 확인 요청한 부품 번호 확인\n",
        "for i in x:\n",
        "  # 해당 부붐 존재하는 확인\n",
        "  if i in array:\n",
        "    print('yes',end='')\n",
        "  else:\n",
        "    print('no',end=' ')\n",
        "5"
      ],
      "metadata": {
        "colab": {
          "base_uri": "https://localhost:8080/"
        },
        "id": "nY0smf4bjfX9",
        "outputId": "0ddfafa0-5edd-425a-8461-39bd537d2981"
      },
      "execution_count": 3,
      "outputs": [
        {
          "output_type": "stream",
          "name": "stdout",
          "text": [
            "5\n",
            "8 3 7 9 2\n",
            "3\n",
            "5 7 9\n",
            "no yesyes"
          ]
        }
      ]
    },
    {
      "cell_type": "code",
      "source": [
        "# 떡복이 떡 만들기\n",
        "\n",
        "# 떡의 개수 입력받기 길이 도\n",
        "n ,m = list(map(int, input().split(' ')))\n",
        "# 각 떡의 개별 높이 정보 입력받기\n",
        "array = list(map(int, input(),input().split()))\n",
        "\n",
        "# 이진 탐색을 위한 시작점과 끝점 설정\n",
        "start = 0\n",
        "end = max(array)\n",
        "\n",
        "# 이진탐색 수행 (반복적)\n",
        "result = 0\n",
        "while(start <= end):\n",
        "  total = 0\n",
        "  mid = (start + end)//2\n",
        "  for x in array:\n",
        "    # 짤랐을때 떡의 양 꼐산\n",
        "    if x > mid:\n",
        "      total += x -mid\n",
        "    # 떡의 양이 부족한 경우 더 많이 자르기 왼쪽부터 탐색\n",
        "    if total < m :\n",
        "      end = mid -1\n",
        "    # 떡의 양이 충분한 경우 덜 자르기 오른쪽 부분 탐색\n",
        "    else:\n",
        "      result = mid # 최대한 덜 잘랐을 때, 정답 result 기록\n",
        "      start = mid + 1\n",
        "\n",
        "# 정답 출력\n",
        "print(result)\n",
        "\n",
        "\n",
        "\n",
        "\n",
        "\n"
      ],
      "metadata": {
        "colab": {
          "base_uri": "https://localhost:8080/",
          "height": 408
        },
        "id": "-OaeexOTkblr",
        "outputId": "4eab5f9d-1520-4f88-f15d-3df0ba31ce33"
      },
      "execution_count": 5,
      "outputs": [
        {
          "output_type": "error",
          "ename": "KeyboardInterrupt",
          "evalue": "ignored",
          "traceback": [
            "\u001b[0;31m---------------------------------------------------------------------------\u001b[0m",
            "\u001b[0;31mKeyboardInterrupt\u001b[0m                         Traceback (most recent call last)",
            "\u001b[0;32m<ipython-input-5-573ce9bd2404>\u001b[0m in \u001b[0;36m<cell line: 4>\u001b[0;34m()\u001b[0m\n\u001b[1;32m      2\u001b[0m \u001b[0;34m\u001b[0m\u001b[0m\n\u001b[1;32m      3\u001b[0m \u001b[0;31m# 떡의 개수 입력받기 길이 도\u001b[0m\u001b[0;34m\u001b[0m\u001b[0;34m\u001b[0m\u001b[0m\n\u001b[0;32m----> 4\u001b[0;31m \u001b[0mn\u001b[0m \u001b[0;34m,\u001b[0m\u001b[0mm\u001b[0m \u001b[0;34m=\u001b[0m \u001b[0mlist\u001b[0m\u001b[0;34m(\u001b[0m\u001b[0mmap\u001b[0m\u001b[0;34m(\u001b[0m\u001b[0mint\u001b[0m\u001b[0;34m,\u001b[0m \u001b[0minput\u001b[0m\u001b[0;34m(\u001b[0m\u001b[0;34m)\u001b[0m\u001b[0;34m.\u001b[0m\u001b[0msplit\u001b[0m\u001b[0;34m(\u001b[0m\u001b[0;34m' '\u001b[0m\u001b[0;34m)\u001b[0m\u001b[0;34m)\u001b[0m\u001b[0;34m)\u001b[0m\u001b[0;34m\u001b[0m\u001b[0;34m\u001b[0m\u001b[0m\n\u001b[0m\u001b[1;32m      5\u001b[0m \u001b[0;31m# 각 떡의 개별 높이 정보 입력받기\u001b[0m\u001b[0;34m\u001b[0m\u001b[0;34m\u001b[0m\u001b[0m\n\u001b[1;32m      6\u001b[0m \u001b[0marray\u001b[0m \u001b[0;34m=\u001b[0m \u001b[0mlist\u001b[0m\u001b[0;34m(\u001b[0m\u001b[0mmap\u001b[0m\u001b[0;34m(\u001b[0m\u001b[0mint\u001b[0m\u001b[0;34m,\u001b[0m \u001b[0minput\u001b[0m\u001b[0;34m(\u001b[0m\u001b[0;34m)\u001b[0m\u001b[0;34m,\u001b[0m\u001b[0minput\u001b[0m\u001b[0;34m(\u001b[0m\u001b[0;34m)\u001b[0m\u001b[0;34m.\u001b[0m\u001b[0msplit\u001b[0m\u001b[0;34m(\u001b[0m\u001b[0;34m)\u001b[0m\u001b[0;34m)\u001b[0m\u001b[0;34m)\u001b[0m\u001b[0;34m\u001b[0m\u001b[0;34m\u001b[0m\u001b[0m\n",
            "\u001b[0;32m/usr/local/lib/python3.10/dist-packages/ipykernel/kernelbase.py\u001b[0m in \u001b[0;36mraw_input\u001b[0;34m(self, prompt)\u001b[0m\n\u001b[1;32m    849\u001b[0m                 \u001b[0;34m\"raw_input was called, but this frontend does not support input requests.\"\u001b[0m\u001b[0;34m\u001b[0m\u001b[0;34m\u001b[0m\u001b[0m\n\u001b[1;32m    850\u001b[0m             )\n\u001b[0;32m--> 851\u001b[0;31m         return self._input_request(str(prompt),\n\u001b[0m\u001b[1;32m    852\u001b[0m             \u001b[0mself\u001b[0m\u001b[0;34m.\u001b[0m\u001b[0m_parent_ident\u001b[0m\u001b[0;34m,\u001b[0m\u001b[0;34m\u001b[0m\u001b[0;34m\u001b[0m\u001b[0m\n\u001b[1;32m    853\u001b[0m             \u001b[0mself\u001b[0m\u001b[0;34m.\u001b[0m\u001b[0m_parent_header\u001b[0m\u001b[0;34m,\u001b[0m\u001b[0;34m\u001b[0m\u001b[0;34m\u001b[0m\u001b[0m\n",
            "\u001b[0;32m/usr/local/lib/python3.10/dist-packages/ipykernel/kernelbase.py\u001b[0m in \u001b[0;36m_input_request\u001b[0;34m(self, prompt, ident, parent, password)\u001b[0m\n\u001b[1;32m    893\u001b[0m             \u001b[0;32mexcept\u001b[0m \u001b[0mKeyboardInterrupt\u001b[0m\u001b[0;34m:\u001b[0m\u001b[0;34m\u001b[0m\u001b[0;34m\u001b[0m\u001b[0m\n\u001b[1;32m    894\u001b[0m                 \u001b[0;31m# re-raise KeyboardInterrupt, to truncate traceback\u001b[0m\u001b[0;34m\u001b[0m\u001b[0;34m\u001b[0m\u001b[0m\n\u001b[0;32m--> 895\u001b[0;31m                 \u001b[0;32mraise\u001b[0m \u001b[0mKeyboardInterrupt\u001b[0m\u001b[0;34m(\u001b[0m\u001b[0;34m\"Interrupted by user\"\u001b[0m\u001b[0;34m)\u001b[0m \u001b[0;32mfrom\u001b[0m \u001b[0;32mNone\u001b[0m\u001b[0;34m\u001b[0m\u001b[0;34m\u001b[0m\u001b[0m\n\u001b[0m\u001b[1;32m    896\u001b[0m             \u001b[0;32mexcept\u001b[0m \u001b[0mException\u001b[0m \u001b[0;32mas\u001b[0m \u001b[0me\u001b[0m\u001b[0;34m:\u001b[0m\u001b[0;34m\u001b[0m\u001b[0;34m\u001b[0m\u001b[0m\n\u001b[1;32m    897\u001b[0m                 \u001b[0mself\u001b[0m\u001b[0;34m.\u001b[0m\u001b[0mlog\u001b[0m\u001b[0;34m.\u001b[0m\u001b[0mwarning\u001b[0m\u001b[0;34m(\u001b[0m\u001b[0;34m\"Invalid Message:\"\u001b[0m\u001b[0;34m,\u001b[0m \u001b[0mexc_info\u001b[0m\u001b[0;34m=\u001b[0m\u001b[0;32mTrue\u001b[0m\u001b[0;34m)\u001b[0m\u001b[0;34m\u001b[0m\u001b[0;34m\u001b[0m\u001b[0m\n",
            "\u001b[0;31mKeyboardInterrupt\u001b[0m: Interrupted by user"
          ]
        }
      ]
    },
    {
      "cell_type": "code",
      "source": [
        "# 피보나치 함수 코드\n",
        "def fibo(x):\n",
        "  if x == 1 or x ==2:\n",
        "    return 1\n",
        "  return fibo(x-1)+fibo(x-2)\n",
        "\n",
        "print(fibo(4))"
      ],
      "metadata": {
        "colab": {
          "base_uri": "https://localhost:8080/"
        },
        "id": "HQW9KOsUnSaK",
        "outputId": "e553a2cc-0a97-4923-c443-3a9d36ab63c9"
      },
      "execution_count": 6,
      "outputs": [
        {
          "output_type": "stream",
          "name": "stdout",
          "text": [
            "3\n"
          ]
        }
      ]
    },
    {
      "cell_type": "code",
      "source": [
        "# 피보나치 수열 소스 재귀함수\n",
        "# 한번 계산된 결과 메모이제이션 하기 위한 리스트 초기화\n",
        "d = [0] * 100\n",
        "\n",
        "# 피보나치 함수를 재귀함수로 구현()\n",
        "def fibo(x):\n",
        "  # 종료조건 (1또는 2로 1반환)\n",
        "  if x == 1 or x == 2:\n",
        "    return 1\n",
        "  # 이미 계산한 적 있는 문제라면 그대로 반환\n",
        "  if d[x] !=0:\n",
        "    return d[x]\n",
        "  # 아직 계산 하지 않은 문제라면 점화식에 따라 피보나치 결과 반환\n",
        "  d[x] = fibo(x-1) + fibo(x-2)\n",
        "  return d[x]\n",
        "\n",
        "print(fibo(99))\n",
        "\n",
        "\n"
      ],
      "metadata": {
        "colab": {
          "base_uri": "https://localhost:8080/"
        },
        "id": "Na2nL_9hnTZ0",
        "outputId": "d37a2088-dec0-478c-c9f8-97130c16462a"
      },
      "execution_count": 7,
      "outputs": [
        {
          "output_type": "stream",
          "name": "stdout",
          "text": [
            "218922995834555169026\n"
          ]
        }
      ]
    },
    {
      "cell_type": "code",
      "source": [
        "# 호출되는 함수 피보나치 함수\n",
        "\n",
        "d = [0] * 100\n",
        "\n",
        "def pibo(x):\n",
        "  # print('f(' + str(x) ')',end='')\n",
        "  print ( 'f('+str(x)+')',end=' ' )\n",
        "\n",
        "  if x == 1 or x == 2:\n",
        "    return 1\n",
        "  if d[x] != 0:\n",
        "    return d[x]\n",
        "  d[x] = pibo(x-1)+pibo(x-2)\n",
        "  return d[x]\n",
        "pibo(6)\n"
      ],
      "metadata": {
        "colab": {
          "base_uri": "https://localhost:8080/"
        },
        "id": "i_gyLTp7oM5d",
        "outputId": "c05c495c-02f7-46ec-eef6-99cbf80d609e"
      },
      "execution_count": 9,
      "outputs": [
        {
          "output_type": "stream",
          "name": "stdout",
          "text": [
            "f(6) f(5) f(4) f(3) f(2) f(1) f(2) f(3) f(4) "
          ]
        },
        {
          "output_type": "execute_result",
          "data": {
            "text/plain": [
              "8"
            ]
          },
          "metadata": {},
          "execution_count": 9
        }
      ]
    },
    {
      "cell_type": "code",
      "source": [
        "# 피보나치 수열 소스코드 반복적\n",
        "# 앞서 계산된 결과값 db 초기화\n",
        "\n",
        "d=[0] * 100\n",
        "\n",
        "# 첫번째 피보나치 수와 두번재 피보나치 수는 1\n",
        "d[1]=1\n",
        "d[2]=1\n",
        "n=99\n",
        "\n",
        "# 피보나치 함수 반복문으로 구현\n",
        "for i in range(3,n+1):\n",
        "  d[i] = d[i-1]+ d[i-2]\n",
        "\n",
        "print(d[n])"
      ],
      "metadata": {
        "colab": {
          "base_uri": "https://localhost:8080/"
        },
        "id": "Zs1T9k-cpNEU",
        "outputId": "fb5bcd10-54e7-42d8-d46e-c8784b1c1e83"
      },
      "execution_count": 10,
      "outputs": [
        {
          "output_type": "stream",
          "name": "stdout",
          "text": [
            "218922995834555169026\n"
          ]
        }
      ]
    },
    {
      "cell_type": "code",
      "source": [
        "# 1로 만들기 1로 나누어 떨어지게 만들기\n",
        "# 정수 x 입력받기\n",
        "x = int(input())\n",
        "\n",
        "# 앞서 계산된 결과를 저장하기 위한 dp 초기화\n",
        "d = [0] * 30001\n",
        "\n",
        "# 다이나믹 프로그래밍 진행\n",
        "for i in range(2,x+1):\n",
        "  # 현재의 수에 1을 빼는 경우\n",
        "  d[i] = d[i-1] + 1\n",
        "  # 현재의 수가 2로 나누어 떨어지는 경우\n",
        "  if i% 2== 0:\n",
        "    d[i] = min(d[i],d[i//2]+1)\n",
        "  # 현재의 수가 3로 나누어 떨어지는 경우\n",
        "  if i% 3==0 :\n",
        "    d[i] = min(d[i],d[i//3]+1)\n",
        "  # 현재의 수가 5로 나누어 떨어지는 경우\n",
        "  if i% 5== 0:\n",
        "    d[i] = min(d[i],d[i//5]+1)\n",
        "\n",
        "print(d[x])\n",
        "\n"
      ],
      "metadata": {
        "colab": {
          "base_uri": "https://localhost:8080/"
        },
        "id": "IWB9sb1Xpq6T",
        "outputId": "06f0d6b5-d12c-424c-f8b1-bd530d3970c9"
      },
      "execution_count": 13,
      "outputs": [
        {
          "output_type": "stream",
          "name": "stdout",
          "text": [
            "28\n",
            "4\n"
          ]
        }
      ]
    },
    {
      "cell_type": "code",
      "source": [
        "# 개미 전사 식량 창고 털기 인접하면 못털고 떨어지면 턴다\n",
        "# 정수 n 을 입력받기\n",
        "n = int(input())\n",
        "\n",
        "# 모든 식량 정보 입력받기\n",
        "array = list(map(int,input().split()))\n",
        "\n",
        "# 앞서 계산된 결과 저장하기 위한 테이블 삭제\n",
        "d = [0] * 100\n",
        "# 다이나믹 프로그래밍 진행\n",
        "d[0] = array[0]\n",
        "d[1] = max(array[0],array[1])\n",
        "for i in range(2,n):\n",
        "  d[i] = max(d[i-1],d[i-2]+array[i])\n",
        "# 계산된 결과 출력\n",
        "print(d[n-1])\n",
        "\n",
        "\n",
        "\n"
      ],
      "metadata": {
        "colab": {
          "base_uri": "https://localhost:8080/"
        },
        "id": "-1ZWtUyVrHWz",
        "outputId": "ad48d7a5-16ea-4451-80f1-10d6f0dd6fa8"
      },
      "execution_count": 14,
      "outputs": [
        {
          "output_type": "stream",
          "name": "stdout",
          "text": [
            "4\n",
            "1 3 1 5\n",
            "8\n"
          ]
        }
      ]
    },
    {
      "cell_type": "code",
      "source": [
        "# 바닥공사 채우기\n",
        "# 정수 n 입력받기\n",
        "n = int(input())\n",
        "\n",
        "# 앞서 계산된 결과를 저장하기 위한 테이블 초기화\n",
        "d = [0] * 1001\n",
        "\n",
        "# 다이나믹 프로그래밍 진행\n",
        "d[1]=1\n",
        "d[2]=3\n",
        "for i in range(3,n+1):\n",
        "  d[i] = (d[i-1]+2*d[i-2])%796796\n",
        "#계산 값 출력\n",
        "print(d[n])\n",
        "\n",
        "\n"
      ],
      "metadata": {
        "colab": {
          "base_uri": "https://localhost:8080/"
        },
        "id": "rTdpEZ4JsJC5",
        "outputId": "8bb9d782-f010-49c8-ff7d-3a714c4fe4dc"
      },
      "execution_count": 16,
      "outputs": [
        {
          "output_type": "stream",
          "name": "stdout",
          "text": [
            "5\n",
            "21\n"
          ]
        }
      ]
    },
    {
      "cell_type": "code",
      "source": [
        "# 효율 적인 화폐구성\n",
        "# 정수 n,m을 입력받기\n",
        "n, m = map(int, input().split())\n",
        "# n개의 화폐 단위 정보를 입력\n",
        "array = []\n",
        "for i in range(n):\n",
        "  array.append(int(input()))\n",
        "\n",
        "# 한번 계산된 결과를 저장하기 위해 dp 초기화\n",
        "d = [10001] * (m+1)\n",
        "\n",
        "# 다이나믹 프로그래밍\n",
        "d[0]=0\n",
        "for i in range(n):\n",
        "  for j in range(array[i], m+1):\n",
        "    if d[j-array[i]] != 10001: # (i-k)원을 만드는 방법 존재\n",
        "        d[j]= min(d[j],d[j-array[i]]+1)\n",
        "\n",
        "# 계산된 결과 출력\n",
        "if d[m] == 10001 :\n",
        "  print(-1)\n",
        "else:\n",
        "  print(d[m])\n",
        "\n",
        "\n"
      ],
      "metadata": {
        "colab": {
          "base_uri": "https://localhost:8080/"
        },
        "id": "cnSLgFxKsrD6",
        "outputId": "ffbb16b2-7292-4e7d-e7f5-52bf76db254d"
      },
      "execution_count": 18,
      "outputs": [
        {
          "output_type": "stream",
          "name": "stdout",
          "text": [
            "3 4\n",
            "3\n",
            "5\n",
            "7\n",
            "-1\n"
          ]
        }
      ]
    }
  ]
}