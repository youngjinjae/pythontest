{
  "nbformat": 4,
  "nbformat_minor": 0,
  "metadata": {
    "colab": {
      "provenance": [],
      "gpuType": "T4",
      "mount_file_id": "1u4TYq-q2MjxK7aExe0Mxp09dtnoxAZKI",
      "authorship_tag": "ABX9TyOJXgc5D0V/mWjD5tPSt1Aj",
      "include_colab_link": true
    },
    "kernelspec": {
      "name": "python3",
      "display_name": "Python 3"
    },
    "language_info": {
      "name": "python"
    },
    "accelerator": "GPU"
  },
  "cells": [
    {
      "cell_type": "markdown",
      "metadata": {
        "id": "view-in-github",
        "colab_type": "text"
      },
      "source": [
        "<a href=\"https://colab.research.google.com/github/youngjinjae/pythontest/blob/main/0731_cat_dog_csv.ipynb\" target=\"_parent\"><img src=\"https://colab.research.google.com/assets/colab-badge.svg\" alt=\"Open In Colab\"/></a>"
      ]
    },
    {
      "cell_type": "code",
      "execution_count": 2,
      "metadata": {
        "id": "bQTK4Fo6NIOf"
      },
      "outputs": [],
      "source": [
        "# CNN 으로 이용해서 학습과 평가를 진행해보면 될 거 같다.\n",
        "\n",
        "import numpy as np\n",
        "import pandas as pd\n",
        "import matplotlib.pyplot as plt\n",
        "\n",
        "from tensorflow.keras.models import Sequential\n",
        "from tensorflow.keras.layers import Flatten, Dense\n",
        "from tensorflow.keras.layers import Conv2D, MaxPooling2D, Dropout\n",
        "from tensorflow.keras.optimizers import Adam\n",
        "\n",
        "from sklearn.model_selection import train_test_split\n",
        "from sklearn.preprocessing import MinMaxScaler\n",
        "\n",
        "\n"
      ]
    },
    {
      "cell_type": "code",
      "source": [
        "# data loading\n",
        "df = pd.read_csv('/content/drive/MyDrive/kcc 3기 colab home/data/cat_dog_full/train.csv')"
      ],
      "metadata": {
        "id": "S90d1gA6wk5p"
      },
      "execution_count": 4,
      "outputs": []
    },
    {
      "cell_type": "code",
      "source": [
        "# 이미지 확인부터 해야할 거 같아요.\n",
        "img_data = df.drop('label', axis=1, inplace=False).values[150:151].reshape(80,80)\n",
        "plt.imshow(img_data, cmap='gray')\n",
        "plt.show()\n"
      ],
      "metadata": {
        "colab": {
          "base_uri": "https://localhost:8080/",
          "height": 433
        },
        "id": "O80qtVA3xQs8",
        "outputId": "e83a88e7-6852-4358-edb1-93eb45782d62"
      },
      "execution_count": 5,
      "outputs": [
        {
          "output_type": "display_data",
          "data": {
            "text/plain": [
              "<Figure size 640x480 with 1 Axes>"
            ],
            "image/png": "[encoded data removed]"
          },
          "metadata": {}
        }
      ]
    },
    {
      "cell_type": "code",
      "source": [
        "\n",
        "# 데이터 잘 준비 되어있는지 확인 이제 데이터 분리\n",
        "x_data_test, x_data_train, t_data_train , t_data_train = \\\n",
        "train_test_split(df.drop('label', axis=1, inplace=False).values,\n",
        "                 df['label'].values.reshape(-1,1),\n",
        "                 test_size=0.3,\n",
        "                 random_state=0)\n",
        "\n",
        "scaler = MinMaxScaler()\n",
        "scaler.fit(x_data_train)\n",
        "x_data_train_norm = scaler.transform(x_data_train)\n",
        "x_data_test_norm = scaler.transform(x_data_test)\n",
        "# 정규화 t 데이터 0과1 이여서 상관없다\n"
      ],
      "metadata": {
        "id": "qfTDtTnwyUDs"
      },
      "execution_count": 6,
      "outputs": []
    },
    {
      "cell_type": "code",
      "source": [
        "# model 구현\n",
        "model = Sequential()\n",
        "\n",
        "# feature extranction 부분(convolution, pooling 처리)\n",
        "model.add(Conv2D(filters=32,\n",
        "                 kernel_size=(3,3),\n",
        "                 activation='relu',\n",
        "                 padding='same',\n",
        "                 input_shape=(80,80,1))) #이미지 변환 same, v # szie () 필요 s 생각하고 숫자\n",
        "model.add(MaxPooling2D(pool_size=(2,2)))\n",
        "\n",
        "model.add(Conv2D(filters=64,\n",
        "                 kernel_size=(3,3),\n",
        "                 activation='relu',\n",
        "                 padding='same',\n",
        "                 input_shape=(80,80,1)))\n",
        "\n",
        "model.add(MaxPooling2D(pool_size=(2,2)))\n",
        "\n",
        "model.add(Conv2D(filters=128,\n",
        "                 kernel_size=(3,3),\n",
        "                 activation='relu',\n",
        "                 padding='same',\n",
        "                 input_shape=(80,80,1)))\n",
        "\n",
        "model.add(MaxPooling2D(pool_size=(2,2)))\n",
        "\n",
        "model.add(Conv2D(filters=256,\n",
        "                 kernel_size=(3,3),\n",
        "                 activation='relu',\n",
        "                 padding='same',\n",
        "                 input_shape=(80,80,1)))\n",
        "\n",
        "model.add(MaxPooling2D(pool_size=(2,2)))\n",
        "\n",
        "\n",
        "# fc layer 입력 넣으면 됨 4차원에 3, 2차원으로\n",
        "model.add(Flatten()) # 역할 input 역할\n",
        "# 일반적으로 이쯤에서 dropout 적용\n",
        "model.add(Dropout(rate=0.5))\n",
        "# hidden layer도 포함 시킬 수 있다.\n",
        "model.add(Dense(256,\n",
        "                 activation='relu'))\n",
        "\n",
        "# output layer\n",
        "model.add(Dense(1,activation='sigmoid')) # 2진 분류\n",
        "\n",
        "print(model.summary())\n",
        "\n"
      ],
      "metadata": {
        "colab": {
          "base_uri": "https://localhost:8080/"
        },
        "id": "0OOypS59zftK",
        "outputId": "096d8983-9a6c-4969-80d1-77012ac2b89a"
      },
      "execution_count": 7,
      "outputs": [
        {
          "output_type": "stream",
          "name": "stdout",
          "text": [
            "Model: \"sequential\"\n",
            "_________________________________________________________________\n",
            " Layer (type)                Output Shape              Param #   \n",
            "=================================================================\n",
            " conv2d (Conv2D)             (None, 80, 80, 32)        320       \n",
            "                                                                 \n",
            " max_pooling2d (MaxPooling2D  (None, 40, 40, 32)       0         \n",
            " )                                                               \n",
            "                                                                 \n",
            " conv2d_1 (Conv2D)           (None, 40, 40, 64)        18496     \n",
            "                                                                 \n",
            " max_pooling2d_1 (MaxPooling  (None, 20, 20, 64)       0         \n",
            " 2D)                                                             \n",
            "                                                                 \n",
            " conv2d_2 (Conv2D)           (None, 20, 20, 128)       73856     \n",
            "                                                                 \n",
            " max_pooling2d_2 (MaxPooling  (None, 10, 10, 128)      0         \n",
            " 2D)                                                             \n",
            "                                                                 \n",
            " conv2d_3 (Conv2D)           (None, 10, 10, 256)       295168    \n",
            "                                                                 \n",
            " max_pooling2d_3 (MaxPooling  (None, 5, 5, 256)        0         \n",
            " 2D)                                                             \n",
            "                                                                 \n",
            " flatten (Flatten)           (None, 6400)              0         \n",
            "                                                                 \n",
            " dropout (Dropout)           (None, 6400)              0         \n",
            "                                                                 \n",
            " dense (Dense)               (None, 256)               1638656   \n",
            "                                                                 \n",
            " dense_1 (Dense)             (None, 1)                 257       \n",
            "                                                                 \n",
            "=================================================================\n",
            "Total params: 2,026,753\n",
            "Trainable params: 2,026,753\n",
            "Non-trainable params: 0\n",
            "_________________________________________________________________\n",
            "None\n"
          ]
        }
      ]
    },
    {
      "cell_type": "code",
      "source": [
        "# model 설정\n",
        "model.compile(optimizer=Adam(learning_rate=1e-4),\n",
        "              loss='binary_crossentropy',\n",
        "              metrics=['accuracy'])\n",
        "\n",
        "# model 학습\n",
        "model_result = model.fit(x_data_train_norm.reshape(-1,80,80,1),\n",
        "                         t_data_train,\n",
        "                         epochs=100,\n",
        "                         batch_size=100,\n",
        "                         verbose=1,\n",
        "                         validation_split=0.3)"
      ],
      "metadata": {
        "colab": {
          "base_uri": "https://localhost:8080/"
        },
        "id": "tb6B1i0Y3DCq",
        "outputId": "54fdd08c-0bbd-440f-9d66-dc64a74d2186"
      },
      "execution_count": 8,
      "outputs": [
        {
          "output_type": "stream",
          "name": "stdout",
          "text": [
            "Epoch 1/100\n",
            "53/53 [==============================] - 17s 43ms/step - loss: 0.6897 - accuracy: 0.5330 - val_loss: 0.6925 - val_accuracy: 0.5049\n",
            "Epoch 2/100\n",
            "53/53 [==============================] - 1s 26ms/step - loss: 0.6779 - accuracy: 0.5695 - val_loss: 0.6614 - val_accuracy: 0.6138\n",
            "Epoch 3/100\n",
            "53/53 [==============================] - 1s 25ms/step - loss: 0.6457 - accuracy: 0.6267 - val_loss: 0.6268 - val_accuracy: 0.6582\n",
            "Epoch 4/100\n",
            "53/53 [==============================] - 1s 25ms/step - loss: 0.6282 - accuracy: 0.6398 - val_loss: 0.6289 - val_accuracy: 0.6364\n",
            "Epoch 5/100\n",
            "53/53 [==============================] - 1s 28ms/step - loss: 0.6107 - accuracy: 0.6640 - val_loss: 0.6038 - val_accuracy: 0.6640\n",
            "Epoch 6/100\n",
            "53/53 [==============================] - 1s 25ms/step - loss: 0.5948 - accuracy: 0.6750 - val_loss: 0.5970 - val_accuracy: 0.6716\n",
            "Epoch 7/100\n",
            "53/53 [==============================] - 1s 25ms/step - loss: 0.5871 - accuracy: 0.6798 - val_loss: 0.5676 - val_accuracy: 0.7067\n",
            "Epoch 8/100\n",
            "53/53 [==============================] - 1s 28ms/step - loss: 0.5655 - accuracy: 0.7027 - val_loss: 0.6421 - val_accuracy: 0.6449\n",
            "Epoch 9/100\n",
            "53/53 [==============================] - 1s 28ms/step - loss: 0.5613 - accuracy: 0.7061 - val_loss: 0.5603 - val_accuracy: 0.7142\n",
            "Epoch 10/100\n",
            "53/53 [==============================] - 2s 29ms/step - loss: 0.5480 - accuracy: 0.7206 - val_loss: 0.5414 - val_accuracy: 0.7253\n",
            "Epoch 11/100\n",
            "53/53 [==============================] - 1s 27ms/step - loss: 0.5350 - accuracy: 0.7229 - val_loss: 0.5341 - val_accuracy: 0.7404\n",
            "Epoch 12/100\n",
            "53/53 [==============================] - 2s 29ms/step - loss: 0.5179 - accuracy: 0.7463 - val_loss: 0.5173 - val_accuracy: 0.7391\n",
            "Epoch 13/100\n",
            "53/53 [==============================] - 1s 28ms/step - loss: 0.5136 - accuracy: 0.7438 - val_loss: 0.5064 - val_accuracy: 0.7538\n",
            "Epoch 14/100\n",
            "53/53 [==============================] - 1s 28ms/step - loss: 0.4906 - accuracy: 0.7642 - val_loss: 0.4966 - val_accuracy: 0.7653\n",
            "Epoch 15/100\n",
            "53/53 [==============================] - 1s 25ms/step - loss: 0.4784 - accuracy: 0.7768 - val_loss: 0.4940 - val_accuracy: 0.7573\n",
            "Epoch 16/100\n",
            "53/53 [==============================] - 1s 25ms/step - loss: 0.4663 - accuracy: 0.7777 - val_loss: 0.5160 - val_accuracy: 0.7538\n",
            "Epoch 17/100\n",
            "53/53 [==============================] - 1s 25ms/step - loss: 0.4544 - accuracy: 0.7931 - val_loss: 0.4661 - val_accuracy: 0.7778\n",
            "Epoch 18/100\n",
            "53/53 [==============================] - 1s 28ms/step - loss: 0.4476 - accuracy: 0.7928 - val_loss: 0.4673 - val_accuracy: 0.7742\n",
            "Epoch 19/100\n",
            "53/53 [==============================] - 2s 29ms/step - loss: 0.4309 - accuracy: 0.8000 - val_loss: 0.4560 - val_accuracy: 0.7898\n",
            "Epoch 20/100\n",
            "53/53 [==============================] - 2s 30ms/step - loss: 0.4168 - accuracy: 0.8086 - val_loss: 0.4518 - val_accuracy: 0.7867\n",
            "Epoch 21/100\n",
            "53/53 [==============================] - 2s 30ms/step - loss: 0.4077 - accuracy: 0.8135 - val_loss: 0.4557 - val_accuracy: 0.7871\n",
            "Epoch 22/100\n",
            "53/53 [==============================] - 1s 28ms/step - loss: 0.3946 - accuracy: 0.8185 - val_loss: 0.4495 - val_accuracy: 0.7916\n",
            "Epoch 23/100\n",
            "53/53 [==============================] - 1s 28ms/step - loss: 0.3910 - accuracy: 0.8189 - val_loss: 0.4381 - val_accuracy: 0.8000\n",
            "Epoch 24/100\n",
            "53/53 [==============================] - 1s 25ms/step - loss: 0.3852 - accuracy: 0.8232 - val_loss: 0.4454 - val_accuracy: 0.7956\n",
            "Epoch 25/100\n",
            "53/53 [==============================] - 1s 25ms/step - loss: 0.3764 - accuracy: 0.8328 - val_loss: 0.4618 - val_accuracy: 0.7827\n",
            "Epoch 26/100\n",
            "53/53 [==============================] - 1s 25ms/step - loss: 0.3666 - accuracy: 0.8364 - val_loss: 0.4419 - val_accuracy: 0.7951\n",
            "Epoch 27/100\n",
            "53/53 [==============================] - 1s 28ms/step - loss: 0.3573 - accuracy: 0.8461 - val_loss: 0.4414 - val_accuracy: 0.7982\n",
            "Epoch 28/100\n",
            "53/53 [==============================] - 2s 28ms/step - loss: 0.3393 - accuracy: 0.8526 - val_loss: 0.4288 - val_accuracy: 0.8093\n",
            "Epoch 29/100\n",
            "53/53 [==============================] - 1s 27ms/step - loss: 0.3444 - accuracy: 0.8512 - val_loss: 0.4294 - val_accuracy: 0.8058\n",
            "Epoch 30/100\n",
            "53/53 [==============================] - 2s 29ms/step - loss: 0.3282 - accuracy: 0.8577 - val_loss: 0.4266 - val_accuracy: 0.8067\n",
            "Epoch 31/100\n",
            "53/53 [==============================] - 2s 29ms/step - loss: 0.3217 - accuracy: 0.8630 - val_loss: 0.4385 - val_accuracy: 0.7982\n",
            "Epoch 32/100\n",
            "53/53 [==============================] - 1s 25ms/step - loss: 0.3074 - accuracy: 0.8710 - val_loss: 0.4623 - val_accuracy: 0.7884\n",
            "Epoch 33/100\n",
            "53/53 [==============================] - 2s 32ms/step - loss: 0.3034 - accuracy: 0.8697 - val_loss: 0.4399 - val_accuracy: 0.8049\n",
            "Epoch 34/100\n",
            "53/53 [==============================] - 1s 28ms/step - loss: 0.3045 - accuracy: 0.8722 - val_loss: 0.4343 - val_accuracy: 0.8049\n",
            "Epoch 35/100\n",
            "53/53 [==============================] - 1s 28ms/step - loss: 0.2889 - accuracy: 0.8758 - val_loss: 0.4257 - val_accuracy: 0.8147\n",
            "Epoch 36/100\n",
            "53/53 [==============================] - 1s 25ms/step - loss: 0.2751 - accuracy: 0.8850 - val_loss: 0.4449 - val_accuracy: 0.8013\n",
            "Epoch 37/100\n",
            "53/53 [==============================] - 1s 28ms/step - loss: 0.2677 - accuracy: 0.8905 - val_loss: 0.4268 - val_accuracy: 0.8093\n",
            "Epoch 38/100\n",
            "53/53 [==============================] - 1s 27ms/step - loss: 0.2678 - accuracy: 0.8865 - val_loss: 0.4251 - val_accuracy: 0.8156\n",
            "Epoch 39/100\n",
            "53/53 [==============================] - 2s 30ms/step - loss: 0.2510 - accuracy: 0.8949 - val_loss: 0.4288 - val_accuracy: 0.8084\n",
            "Epoch 40/100\n",
            "53/53 [==============================] - 2s 28ms/step - loss: 0.2463 - accuracy: 0.8981 - val_loss: 0.4247 - val_accuracy: 0.8178\n",
            "Epoch 41/100\n",
            "53/53 [==============================] - 1s 28ms/step - loss: 0.2434 - accuracy: 0.8990 - val_loss: 0.4300 - val_accuracy: 0.8164\n",
            "Epoch 42/100\n",
            "53/53 [==============================] - 1s 28ms/step - loss: 0.2395 - accuracy: 0.9002 - val_loss: 0.4217 - val_accuracy: 0.8178\n",
            "Epoch 43/100\n",
            "53/53 [==============================] - 1s 28ms/step - loss: 0.2298 - accuracy: 0.9065 - val_loss: 0.4357 - val_accuracy: 0.8102\n",
            "Epoch 44/100\n",
            "53/53 [==============================] - 1s 28ms/step - loss: 0.2285 - accuracy: 0.9105 - val_loss: 0.4392 - val_accuracy: 0.8142\n",
            "Epoch 45/100\n",
            "53/53 [==============================] - 1s 25ms/step - loss: 0.2173 - accuracy: 0.9112 - val_loss: 0.4262 - val_accuracy: 0.8182\n",
            "Epoch 46/100\n",
            "53/53 [==============================] - 1s 28ms/step - loss: 0.2081 - accuracy: 0.9162 - val_loss: 0.4501 - val_accuracy: 0.8124\n",
            "Epoch 47/100\n",
            "53/53 [==============================] - 2s 30ms/step - loss: 0.2126 - accuracy: 0.9143 - val_loss: 0.4274 - val_accuracy: 0.8227\n",
            "Epoch 48/100\n",
            "53/53 [==============================] - 2s 29ms/step - loss: 0.1900 - accuracy: 0.9269 - val_loss: 0.4279 - val_accuracy: 0.8178\n",
            "Epoch 49/100\n",
            "53/53 [==============================] - 2s 29ms/step - loss: 0.1993 - accuracy: 0.9217 - val_loss: 0.4275 - val_accuracy: 0.8200\n",
            "Epoch 50/100\n",
            "53/53 [==============================] - 1s 25ms/step - loss: 0.1935 - accuracy: 0.9236 - val_loss: 0.4214 - val_accuracy: 0.8164\n",
            "Epoch 51/100\n",
            "53/53 [==============================] - 2s 31ms/step - loss: 0.1746 - accuracy: 0.9358 - val_loss: 0.4510 - val_accuracy: 0.8071\n",
            "Epoch 52/100\n",
            "53/53 [==============================] - 1s 25ms/step - loss: 0.1725 - accuracy: 0.9324 - val_loss: 0.4531 - val_accuracy: 0.8187\n",
            "Epoch 53/100\n",
            "53/53 [==============================] - 1s 28ms/step - loss: 0.1638 - accuracy: 0.9387 - val_loss: 0.4524 - val_accuracy: 0.8147\n",
            "Epoch 54/100\n",
            "53/53 [==============================] - 1s 28ms/step - loss: 0.1594 - accuracy: 0.9389 - val_loss: 0.4391 - val_accuracy: 0.8280\n",
            "Epoch 55/100\n",
            "53/53 [==============================] - 1s 28ms/step - loss: 0.1583 - accuracy: 0.9402 - val_loss: 0.4591 - val_accuracy: 0.8031\n",
            "Epoch 56/100\n",
            "53/53 [==============================] - 2s 30ms/step - loss: 0.1503 - accuracy: 0.9438 - val_loss: 0.4445 - val_accuracy: 0.8236\n",
            "Epoch 57/100\n",
            "53/53 [==============================] - 2s 30ms/step - loss: 0.1417 - accuracy: 0.9470 - val_loss: 0.4878 - val_accuracy: 0.8062\n",
            "Epoch 58/100\n",
            "53/53 [==============================] - 1s 26ms/step - loss: 0.1556 - accuracy: 0.9368 - val_loss: 0.4405 - val_accuracy: 0.8151\n",
            "Epoch 59/100\n",
            "53/53 [==============================] - 1s 28ms/step - loss: 0.1438 - accuracy: 0.9490 - val_loss: 0.4501 - val_accuracy: 0.8147\n",
            "Epoch 60/100\n",
            "53/53 [==============================] - 1s 25ms/step - loss: 0.1298 - accuracy: 0.9549 - val_loss: 0.4554 - val_accuracy: 0.8200\n",
            "Epoch 61/100\n",
            "53/53 [==============================] - 1s 25ms/step - loss: 0.1286 - accuracy: 0.9528 - val_loss: 0.4477 - val_accuracy: 0.8293\n",
            "Epoch 62/100\n",
            "53/53 [==============================] - 2s 29ms/step - loss: 0.1235 - accuracy: 0.9554 - val_loss: 0.4667 - val_accuracy: 0.8196\n",
            "Epoch 63/100\n",
            "53/53 [==============================] - 2s 29ms/step - loss: 0.1143 - accuracy: 0.9598 - val_loss: 0.5164 - val_accuracy: 0.7969\n",
            "Epoch 64/100\n",
            "53/53 [==============================] - 2s 30ms/step - loss: 0.1165 - accuracy: 0.9594 - val_loss: 0.4683 - val_accuracy: 0.8240\n",
            "Epoch 65/100\n",
            "53/53 [==============================] - 2s 30ms/step - loss: 0.1140 - accuracy: 0.9585 - val_loss: 0.4630 - val_accuracy: 0.8253\n",
            "Epoch 66/100\n",
            "53/53 [==============================] - 2s 30ms/step - loss: 0.1003 - accuracy: 0.9646 - val_loss: 0.5108 - val_accuracy: 0.8036\n",
            "Epoch 67/100\n",
            "53/53 [==============================] - 2s 29ms/step - loss: 0.1034 - accuracy: 0.9632 - val_loss: 0.4733 - val_accuracy: 0.8218\n",
            "Epoch 68/100\n",
            "53/53 [==============================] - 2s 29ms/step - loss: 0.1000 - accuracy: 0.9659 - val_loss: 0.5228 - val_accuracy: 0.8173\n",
            "Epoch 69/100\n",
            "53/53 [==============================] - 1s 26ms/step - loss: 0.1152 - accuracy: 0.9550 - val_loss: 0.4774 - val_accuracy: 0.8196\n",
            "Epoch 70/100\n",
            "53/53 [==============================] - 1s 28ms/step - loss: 0.0976 - accuracy: 0.9659 - val_loss: 0.5104 - val_accuracy: 0.8067\n",
            "Epoch 71/100\n",
            "53/53 [==============================] - 2s 29ms/step - loss: 0.1017 - accuracy: 0.9632 - val_loss: 0.4803 - val_accuracy: 0.8213\n",
            "Epoch 72/100\n",
            "53/53 [==============================] - 1s 26ms/step - loss: 0.0832 - accuracy: 0.9741 - val_loss: 0.4758 - val_accuracy: 0.8284\n",
            "Epoch 73/100\n",
            "53/53 [==============================] - 1s 26ms/step - loss: 0.0804 - accuracy: 0.9745 - val_loss: 0.5060 - val_accuracy: 0.8133\n",
            "Epoch 74/100\n",
            "53/53 [==============================] - 2s 30ms/step - loss: 0.0820 - accuracy: 0.9735 - val_loss: 0.5315 - val_accuracy: 0.8164\n",
            "Epoch 75/100\n",
            "53/53 [==============================] - 2s 30ms/step - loss: 0.0922 - accuracy: 0.9634 - val_loss: 0.4936 - val_accuracy: 0.8213\n",
            "Epoch 76/100\n",
            "53/53 [==============================] - 2s 30ms/step - loss: 0.0801 - accuracy: 0.9733 - val_loss: 0.5115 - val_accuracy: 0.8142\n",
            "Epoch 77/100\n",
            "53/53 [==============================] - 2s 28ms/step - loss: 0.0842 - accuracy: 0.9724 - val_loss: 0.4938 - val_accuracy: 0.8187\n",
            "Epoch 78/100\n",
            "53/53 [==============================] - 2s 29ms/step - loss: 0.0680 - accuracy: 0.9789 - val_loss: 0.4998 - val_accuracy: 0.8204\n",
            "Epoch 79/100\n",
            "53/53 [==============================] - 1s 26ms/step - loss: 0.0669 - accuracy: 0.9777 - val_loss: 0.5350 - val_accuracy: 0.8249\n",
            "Epoch 80/100\n",
            "53/53 [==============================] - 2s 29ms/step - loss: 0.0729 - accuracy: 0.9771 - val_loss: 0.5580 - val_accuracy: 0.8102\n",
            "Epoch 81/100\n",
            "53/53 [==============================] - 2s 29ms/step - loss: 0.0799 - accuracy: 0.9726 - val_loss: 0.5420 - val_accuracy: 0.8111\n",
            "Epoch 82/100\n",
            "53/53 [==============================] - 1s 26ms/step - loss: 0.0629 - accuracy: 0.9796 - val_loss: 0.5149 - val_accuracy: 0.8187\n",
            "Epoch 83/100\n",
            "53/53 [==============================] - 2s 29ms/step - loss: 0.0595 - accuracy: 0.9817 - val_loss: 0.5413 - val_accuracy: 0.8209\n",
            "Epoch 84/100\n",
            "53/53 [==============================] - 2s 31ms/step - loss: 0.0628 - accuracy: 0.9790 - val_loss: 0.5198 - val_accuracy: 0.8280\n",
            "Epoch 85/100\n",
            "53/53 [==============================] - 2s 30ms/step - loss: 0.0598 - accuracy: 0.9792 - val_loss: 0.5318 - val_accuracy: 0.8271\n",
            "Epoch 86/100\n",
            "53/53 [==============================] - 2s 29ms/step - loss: 0.0544 - accuracy: 0.9829 - val_loss: 0.5439 - val_accuracy: 0.8178\n",
            "Epoch 87/100\n",
            "53/53 [==============================] - 2s 29ms/step - loss: 0.0505 - accuracy: 0.9859 - val_loss: 0.5952 - val_accuracy: 0.8191\n",
            "Epoch 88/100\n",
            "53/53 [==============================] - 1s 26ms/step - loss: 0.0542 - accuracy: 0.9821 - val_loss: 0.5750 - val_accuracy: 0.8044\n",
            "Epoch 89/100\n",
            "53/53 [==============================] - 2s 29ms/step - loss: 0.0491 - accuracy: 0.9850 - val_loss: 0.5860 - val_accuracy: 0.8156\n",
            "Epoch 90/100\n",
            "53/53 [==============================] - 2s 29ms/step - loss: 0.0442 - accuracy: 0.9863 - val_loss: 0.5517 - val_accuracy: 0.8204\n",
            "Epoch 91/100\n",
            "53/53 [==============================] - 1s 26ms/step - loss: 0.0488 - accuracy: 0.9850 - val_loss: 0.5508 - val_accuracy: 0.8204\n",
            "Epoch 92/100\n",
            "53/53 [==============================] - 2s 30ms/step - loss: 0.0419 - accuracy: 0.9863 - val_loss: 0.5836 - val_accuracy: 0.8262\n",
            "Epoch 93/100\n",
            "53/53 [==============================] - 2s 36ms/step - loss: 0.0381 - accuracy: 0.9905 - val_loss: 0.5577 - val_accuracy: 0.8258\n",
            "Epoch 94/100\n",
            "53/53 [==============================] - 2s 40ms/step - loss: 0.0448 - accuracy: 0.9857 - val_loss: 0.5965 - val_accuracy: 0.8098\n",
            "Epoch 95/100\n",
            "53/53 [==============================] - 2s 37ms/step - loss: 0.0413 - accuracy: 0.9886 - val_loss: 0.6008 - val_accuracy: 0.8271\n",
            "Epoch 96/100\n",
            "53/53 [==============================] - 2s 31ms/step - loss: 0.0494 - accuracy: 0.9850 - val_loss: 0.6440 - val_accuracy: 0.8129\n",
            "Epoch 97/100\n",
            "53/53 [==============================] - 1s 26ms/step - loss: 0.0462 - accuracy: 0.9861 - val_loss: 0.5794 - val_accuracy: 0.8222\n",
            "Epoch 98/100\n",
            "53/53 [==============================] - 1s 26ms/step - loss: 0.0396 - accuracy: 0.9891 - val_loss: 0.5845 - val_accuracy: 0.8258\n",
            "Epoch 99/100\n",
            "53/53 [==============================] - 2s 29ms/step - loss: 0.0381 - accuracy: 0.9907 - val_loss: 0.5862 - val_accuracy: 0.8262\n",
            "Epoch 100/100\n",
            "53/53 [==============================] - 1s 27ms/step - loss: 0.0354 - accuracy: 0.9895 - val_loss: 0.6150 - val_accuracy: 0.8138\n"
          ]
        }
      ]
    },
    {
      "cell_type": "code",
      "source": [
        "# model 평가\n",
        "print(model.evaluate(x_data_train_norm.reshape(-1,80,80,1), t_data_train)) # train test 변경됨 개망\n",
        "                                                                      # 아 자동완성 개망"
      ],
      "metadata": {
        "colab": {
          "base_uri": "https://localhost:8080/"
        },
        "id": "tqVhXH_E8gdD",
        "outputId": "e3596787-b12f-4ef5-9e37-e46fde8f1b11"
      },
      "execution_count": 9,
      "outputs": [
        {
          "output_type": "stream",
          "name": "stdout",
          "text": [
            "235/235 [==============================] - 1s 5ms/step - loss: 0.1925 - accuracy: 0.9440\n",
            "[0.19250039756298065, 0.9440000057220459]\n"
          ]
        }
      ]
    },
    {
      "cell_type": "code",
      "source": [
        "# history 객체의 내용을 그래프로 표현\n",
        "plt.plot(model_result.history['loss'],color='b')\n",
        "plt.plot(model_result.history['val_loss'],color='r')\n",
        "\n",
        "plt.show()"
      ],
      "metadata": {
        "colab": {
          "base_uri": "https://localhost:8080/",
          "height": 430
        },
        "id": "cVz6Nt6v9N0T",
        "outputId": "cdba82d1-1dca-4342-aa80-9dd074262a73"
      },
      "execution_count": 10,
      "outputs": [
        {
          "output_type": "display_data",
          "data": {
            "text/plain": [
              "<Figure size 640x480 with 1 Axes>"
            ],
            "image/png": "[encoded data removed]"
          },
          "metadata": {}
        }
      ]
    },
    {
      "cell_type": "code",
      "source": [
        "# imagedata generator 를 사용하기 위해서 일부분 데이터를 가지고 폴더를 만들어라\n",
        "\n"
      ],
      "metadata": {
        "id": "AaL5JybxWoDF"
      },
      "execution_count": null,
      "outputs": []
    }
  ]
}