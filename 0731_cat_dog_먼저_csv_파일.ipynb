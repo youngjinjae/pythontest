{
  "cells": [
    {
      "cell_type": "markdown",
      "metadata": {
        "id": "view-in-github",
        "colab_type": "text"
      },
      "source": [
        "<a href=\"https://colab.research.google.com/github/youngjinjae/pythontest/blob/main/0731_cat_dog_%EB%A8%BC%EC%A0%80_csv_%ED%8C%8C%EC%9D%BC.ipynb\" target=\"_parent\"><img src=\"https://colab.research.google.com/assets/colab-badge.svg\" alt=\"Open In Colab\"/></a>"
      ]
    },
    {
      "cell_type": "code",
      "execution_count": null,
      "id": "56ecbe25",
      "metadata": {
        "id": "56ecbe25"
      },
      "outputs": [],
      "source": [
        "# csv 파일을 생성 해보자.\n",
        "\n",
        "# 필요한 모듈을 먼저 설치.\n",
        "# tqdm, ipywidgets 라는 모듈 필요\n",
        "# conda install tqdm\n",
        "# conda install -c conda-forge ipywidgets\n",
        "# conda install -c conda-forge opencv\n",
        "\n",
        "import numpy as np\n",
        "import pandas as pd\n",
        "from PIL import Image           # 이미지\n",
        "import matplotlib.pyplot as plt # 그림\n",
        "import random\n",
        "import os\n",
        "import cv2 as cv\n",
        "from sklearn import utils\n",
        "from tqdm import tqdm  # import tqdm 으로\n"
      ]
    },
    {
      "cell_type": "code",
      "execution_count": null,
      "id": "b7d43da9",
      "metadata": {
        "id": "b7d43da9",
        "outputId": "835dd3fe-bf5a-4bbf-8112-7932b2fe655e"
      },
      "outputs": [
        {
          "name": "stderr",
          "output_type": "stream",
          "text": [
            "100%|██████████████████████████████████████████████████████████████████████████| 25000/25000 [00:19<00:00, 1297.87it/s]\n"
          ]
        }
      ],
      "source": [
        "# 파일 경로\n",
        "train_dir = 'C:/jupyter_home/data/cat_dog/train/'\n",
        "# 함수를 하나 만들어야합니다. 파일 이름이 cata 이면 0 리턴하고\n",
        "# 만약 파일이름이 dog 시작하면 1로 리턴\n",
        "def labeling(img):\n",
        "    class_name = img.split('.')[0] # dog.0.jpg = > [dof, 0 , jpg ] 나누어줌split\n",
        "    if class_name == 'cat':return 0\n",
        "    elif class_name =='dog':return 1\n",
        "\n",
        "# label data 와 pixel data 담을 변수\n",
        "x_data = []\n",
        "t_data = [] # y 아니다.\n",
        "\n",
        "# 모든 파일에 대해 반복 처리\n",
        "for img in tqdm(os.listdir(train_dir),\n",
        "            total=len(os.listdir(train_dir)),\n",
        "            position=0,\n",
        "              leave=True):\n",
        "\n",
        "\n",
        "    # 위에서 정의한 labeling 함수를 이용해서,cat이면 0 dog이면 1반환\n",
        "    label_data = labeling(img)\n",
        "\n",
        "    #  이미지 파일에 대한 경로가 필요해요\n",
        "    path =os.path.join(train_dir,img)\n",
        "    # 'C:/jupyter_home/data/cat_dog/train/cat.0.jpg' 파일 풀경\n",
        "    # 경로 중요 path\n",
        "\n",
        "    # 이미지 파일을 ndarray로 불러옴 (cv2.imread()) -opencv라이브러리\n",
        "    # 형태만 필요해서 흑백으로 불러옴 -옵션 설정 하면된다.\n",
        "    # 그리고 pixel에 size는 조절 = > CNN 은 입력 이미지의 크기가 고정시켜서 사용해야함\n",
        "    # 얼마나 resize를 할지 우리가 결정행\n",
        "    img_data=cv.resize(cv.imread(path, cv.IMREAD_GRAYSCALE),(80,80))\n",
        "\n",
        "    # 리스트 변수에 담아요.\n",
        "    t_data.append(label_data)  # [0,0,0,1,1,1,1,~1] 멍멍리 나오면 1\n",
        "    x_data.append(img_data.ravel()) #[[],[],[],[]~,[]] 전체 리스트에 1차원으로 사용\n",
        "\n",
        "\n",
        "\n"
      ]
    },
    {
      "cell_type": "code",
      "execution_count": null,
      "id": "6c5b3aa9",
      "metadata": {
        "id": "6c5b3aa9",
        "outputId": "aa625a20-c491-4915-e2aa-9f1f84a50ab9"
      },
      "outputs": [
        {
          "name": "stdout",
          "output_type": "stream",
          "text": [
            "25000\n"
          ]
        }
      ],
      "source": [
        "print(len(t_data))\n",
        "# 이렇게 만든 x_data와 t_data를 dataFrame 으로 만듬\n",
        "\n",
        "t_df = pd.DataFrame({\n",
        "    'label': t_data\n",
        "})\n",
        "# display(t_df.head())\n",
        "\n",
        "x_df = pd.DataFrame(x_data)\n",
        "# display(x_df.head()) 오래 걸린다.\n"
      ]
    },
    {
      "cell_type": "code",
      "execution_count": null,
      "id": "6aad75e9",
      "metadata": {
        "id": "6aad75e9"
      },
      "outputs": [],
      "source": [
        "# # 2개의 dataframe가 나와요\n",
        "# # 둘 다 지정 index가 없으니 행 인덱스는 0 부터 숫자로 나옵니다.\n",
        "# # x_Data , t_data 두개를 0 0 연결 1 1 연결 2 2 연결 merge 기능\n",
        "\n",
        "# df = pd.merge(t_df, x_df, left_index=True, right_index=True)\n",
        "# # 둘다 행 인덱스 결합해라 왼쪽 행 index 와 행 index 연겷\n",
        "\n",
        "# 2개의 DataFrame이 나옴\n",
        "# 둘 다 지정 index가 없으니 행 인덱스는 0부터 숫자로 나와요\n",
        "\n",
        "\n",
        "## x_df, t_df 둘 다 행 인덱스를 가지고 merge함\n",
        "df = pd.merge(t_df, x_df, left_index=True, right_index=True)\n",
        "\n",
        "\n",
        "## 이렇게 만들면 이미지 파일에 대한 pixcel 데이터를 얻어올 수 있이요\n",
        "## 그런데 위에서 부터 0~12499까지가 고양이, 12500부터 끝까지가 멍멍이임..\n",
        "## -> 이상태면 나중에 데이터를 뽑아서 학습? 할때 좋지않음 --> 섞어줘야함\n",
        "# sklearn의 shuffle기능을 이용해서 DataFrame을 섞어줌\n",
        "shuffled_df = utils.shuffle(df)\n",
        "\n",
        "\n",
        "## 이렇게 만든 DataFrame을 CSV파일로 저장\n",
        "shuffled_df.to_csv('C:/jupyter_home/data/cat_dog/train.csv', index=False)"
      ]
    },
    {
      "cell_type": "code",
      "execution_count": null,
      "id": "20521431",
      "metadata": {
        "id": "20521431"
      },
      "outputs": [],
      "source": []
    }
  ],
  "metadata": {
    "kernelspec": {
      "display_name": "Python [conda env:data_env] *",
      "language": "python",
      "name": "conda-env-data_env-py"
    },
    "language_info": {
      "codemirror_mode": {
        "name": "ipython",
        "version": 3
      },
      "file_extension": ".py",
      "mimetype": "text/x-python",
      "name": "python",
      "nbconvert_exporter": "python",
      "pygments_lexer": "ipython3",
      "version": "3.8.17"
    },
    "colab": {
      "provenance": [],
      "include_colab_link": true
    }
  },
  "nbformat": 4,
  "nbformat_minor": 5
}