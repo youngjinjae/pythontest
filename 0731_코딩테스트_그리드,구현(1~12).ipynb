{
  "nbformat": 4,
  "nbformat_minor": 0,
  "metadata": {
    "colab": {
      "provenance": [],
      "authorship_tag": "ABX9TyMH0zipkUEWWL7x6HQ8cMZy",
      "include_colab_link": true
    },
    "kernelspec": {
      "name": "python3",
      "display_name": "Python 3"
    },
    "language_info": {
      "name": "python"
    }
  },
  "cells": [
    {
      "cell_type": "markdown",
      "metadata": {
        "id": "view-in-github",
        "colab_type": "text"
      },
      "source": [
        "<a href=\"https://colab.research.google.com/github/youngjinjae/pythontest/blob/main/0731_%EC%BD%94%EB%94%A9%ED%85%8C%EC%8A%A4%ED%8A%B8_%EA%B7%B8%EB%A6%AC%EB%93%9C%2C%EA%B5%AC%ED%98%84(1~12).ipynb\" target=\"_parent\"><img src=\"https://colab.research.google.com/assets/colab-badge.svg\" alt=\"Open In Colab\"/></a>"
      ]
    },
    {
      "cell_type": "code",
      "execution_count": 2,
      "metadata": {
        "id": "Uh1kWSZ8dOhU",
        "colab": {
          "base_uri": "https://localhost:8080/"
        },
        "outputId": "893f5a00-c7ac-41d8-b04b-74c1b6cc7e7b"
      },
      "outputs": [
        {
          "output_type": "stream",
          "name": "stdout",
          "text": [
            "5\n",
            "2 3 1 2 2\n",
            "2\n"
          ]
        }
      ],
      "source": [
        "# 그리디 1) 모험가 길드\n",
        "n = int(input())\n",
        "data = list(map(int,input().split()))\n",
        "data.sort()\n",
        "\n",
        "result = 0 # 총 그룹의 수\n",
        "count = 0 # 현재 그룹에 포함된 모험가 수\n",
        "for i in data: # 공포도를 낮은 것부터 하나씩 확인\n",
        "  count +=1 # 현재 그룹에 해당 모험가를 포함\n",
        "  if count >= i: # 혀재 그룹에 포함된 모험가의 수가 현재의 공포도 이상 그룹 결성\n",
        "    result += 1 # 총 그룹의 수 증가시키기\n",
        "    count = 0 # 현재 그룹에 포함된 모험가의 수 초기화\n",
        "\n",
        "print(result) # 총 그룹의 수 출력"
      ]
    },
    {
      "cell_type": "code",
      "source": [
        "# 2) 곱 하기 혹은 더 하기\n",
        "data = input()\n",
        "\n",
        "# 첫 번쨰 문자를 숫자로 변경하여 대입\n",
        "result = int(data[0])\n",
        "\n",
        "for i in range(1, len(data)):\n",
        "  # 두 수중에서 하나라도 0 혹은 1 인 경우, 곱하기보다는 더하기 수행\n",
        "  num = int(data[i])\n",
        "  if num <= 1 or result <=1:\n",
        "    result += num\n",
        "  else:\n",
        "    result += num\n",
        "\n",
        "print(result)\n"
      ],
      "metadata": {
        "colab": {
          "base_uri": "https://localhost:8080/"
        },
        "id": "SY1hlHAvMgCW",
        "outputId": "58bf4028-4cc6-4d18-b164-a6ba45460670"
      },
      "execution_count": 3,
      "outputs": [
        {
          "output_type": "stream",
          "name": "stdout",
          "text": [
            "02984\n",
            "23\n"
          ]
        }
      ]
    },
    {
      "cell_type": "code",
      "source": [
        "# 3) 문자열 뒤집기\n",
        "data = input()\n",
        "count0 = 0 # 전부 0 바꾸는 경우\n",
        "count1 = 0 # 전부 1 바꾸는 경우\n",
        "\n",
        "# 첫번째 원소에 대해서 처리\n",
        "if data[0] == '1':\n",
        "  count0 += 1\n",
        "else:\n",
        "  count1 += 1\n",
        "\n",
        "# 두 번째 원소로부터 모든 원소를 확인\n",
        "for i in range(len(data)-1):\n",
        "  if data[i] != data[i+1]:\n",
        "    # 다음 수에서 1로 바뀌는 경우\n",
        "    if data[i+1] == '1':\n",
        "      count0 +=1\n",
        "      #다음 수에서 0 바뀌는 경우\n",
        "    else:\n",
        "      count1 += 1\n",
        "print(min(count0,count1))\n",
        "\n"
      ],
      "metadata": {
        "colab": {
          "base_uri": "https://localhost:8080/"
        },
        "id": "x3N3cOxjNR6B",
        "outputId": "50cd5e61-551c-4f19-e53d-c80053d2baa9"
      },
      "execution_count": 4,
      "outputs": [
        {
          "output_type": "stream",
          "name": "stdout",
          "text": [
            "0001100\n",
            "1\n"
          ]
        }
      ]
    },
    {
      "cell_type": "code",
      "source": [
        "# 4) 만들수 없는 금액\n",
        "n = int(input())\n",
        "data= list(map(int,input().split()))\n",
        "data.sort()\n",
        "\n",
        "target = 1\n",
        "for x in data:\n",
        "  # 만들수 없는 금액을 찾을때 반복 종료\n",
        "  if target < x :\n",
        "    break\n",
        "  target += x\n",
        "# 만들 수 없는 금액 출력\n",
        "print(target)"
      ],
      "metadata": {
        "colab": {
          "base_uri": "https://localhost:8080/"
        },
        "id": "1v0qF9XiOiCw",
        "outputId": "a6e8e899-bd42-437e-e8ac-b35c5f5501bd"
      },
      "execution_count": 5,
      "outputs": [
        {
          "output_type": "stream",
          "name": "stdout",
          "text": [
            "5\n",
            "3 2 1 1 9\n",
            "8\n"
          ]
        }
      ]
    },
    {
      "cell_type": "code",
      "source": [
        "# 5) 볼링공 고르기\n",
        "\n",
        "n,m = map(int,input().split())\n",
        "data = list(map(int,input().split()))\n",
        "\n",
        "# 1 부터 10 까지 무게를 담을 수 있는 리스트\n",
        "array = [0] * 11\n",
        "\n",
        "for x in data:\n",
        "  # 각 무게에 해당하는 볼링 공의 개수 카운트\n",
        "  array[x] +=1\n",
        "\n",
        "result = 0\n",
        "# 1 부터 m 까지의 각 무게에 대하여 처리\n",
        "for i in range(1,m+1):\n",
        "  n -= array[i] # 무게가 i 인 볼링공의 개수\n",
        "  result += array[i]*n # b가 선택 하는 경우 수와 곱하기\n",
        "\n",
        "print(result)\n",
        "\n",
        "\n",
        "\n"
      ],
      "metadata": {
        "colab": {
          "base_uri": "https://localhost:8080/"
        },
        "id": "DC7jIiYYOlhj",
        "outputId": "59611d00-e354-443c-e01c-33784c336948"
      },
      "execution_count": 6,
      "outputs": [
        {
          "output_type": "stream",
          "name": "stdout",
          "text": [
            "5 3\n",
            "1 3 2 3 2\n",
            "8\n"
          ]
        }
      ]
    },
    {
      "cell_type": "code",
      "source": [
        "# 6) 무지의 먹방 라이브\n",
        "import heapq\n",
        "\n",
        "def solution(food_times, k):\n",
        "  # 전체 음식을 먹는 시간보다 k 가 크거나 같다면 -1\n",
        "  if sum(food_times)<=k:\n",
        "    return -1\n",
        "\n",
        "  # 시간이 작은 음식부터 빼야하므로 우선순위 큐를 이용\n",
        "  q = []\n",
        "  for i in range(len(food_times)):\n",
        "    # 음식 시간 음식 번호 형태로 우선순위 큐에 삽입\n",
        "    heapq.heappush(q,(food_times[i],i+1))\n",
        "\n",
        "  sum_value = 0 # 먹기 위해 사용한 시간\n",
        "  previous = 0 # 직전에 다 먹은 음식 시간\n",
        "\n",
        "  length= len(food_times)# 남은 음식 개수\n",
        "\n",
        "  while sum_value + ((q[0][0]- previous)*length)<=k:\n",
        "    now = heapq.heappop(q)[0]\n",
        "    sum_value += (now - previous)*length\n",
        "    length -= 1# 다먹은 음식 제외\n",
        "    previous = now # 이전 음식 시간 재설정\n",
        "  # 남은 음식 중에서 몇 번째 음식 인지 확인 출력\n",
        "  result = sorted(q, key=lambda x:x[1])\n",
        "  return result(k-sum_value) % length[1]\n",
        "\n",
        "\n"
      ],
      "metadata": {
        "id": "5gxcbCNPOlp3"
      },
      "execution_count": 8,
      "outputs": []
    },
    {
      "cell_type": "code",
      "source": [
        "# 7) 럭키 스트레이트\n",
        "n = input()\n",
        "length = len(n)\n",
        "summary = 0\n",
        "\n",
        "# 왼쪽 부터의 자릿 수 합 더하기\n",
        "for i in range(length//2):\n",
        "  summary += int(n[i])\n",
        "\n",
        "# 오른쪽 부분의 자릿 수 합 빼기\n",
        "for i in range(length//2,length):\n",
        "  summary -= int(n[i])\n",
        "\n",
        "# 왼쪽 부터 오른쪽 부터 자릿 합이 동일한지 검사\n",
        "if summary == 0 :\n",
        "  print(\"LUCKY\")\n",
        "else:\n",
        "  print(\"ready\")\n",
        "\n"
      ],
      "metadata": {
        "colab": {
          "base_uri": "https://localhost:8080/"
        },
        "id": "sSvhci4BOlw4",
        "outputId": "f4badb2d-7f1b-4f6b-af83-ce489f27a19f"
      },
      "execution_count": 9,
      "outputs": [
        {
          "output_type": "stream",
          "name": "stdout",
          "text": [
            "123402\n",
            "LUCKY\n"
          ]
        }
      ]
    },
    {
      "cell_type": "code",
      "source": [
        "# 구현 문제 8) 문자열 압축\n",
        "\n",
        "data = input()\n",
        "result = []\n",
        "value = 0\n",
        "\n",
        "# 문자를 하나씩 확인\n",
        "for x in data:\n",
        "  # 알파벳인 경우 결과 리스트삽입\n",
        "  if x.isalpha():\n",
        "    result.append(x)\n",
        "  # 숫자는 따로 더하기\n",
        "  else:\n",
        "    value += int(x)\n",
        "\n",
        "# 알파벳 오름 차순 정렬\n",
        "result.sort()\n",
        "# t숫자가 하나라도 존재하는 경우 가장 뒤에 삽입\n",
        "if value !=0:\n",
        "  result.append(str(value))\n",
        "\n",
        "# 최종 결과 출력 (리스트 문자열 반환하여 출력)\n",
        "print(''.join(result))\n",
        "\n"
      ],
      "metadata": {
        "colab": {
          "base_uri": "https://localhost:8080/"
        },
        "id": "pVU4bXyBOl1J",
        "outputId": "c0ca5945-d986-4875-a2ec-5a4e91985d2e"
      },
      "execution_count": 10,
      "outputs": [
        {
          "output_type": "stream",
          "name": "stdout",
          "text": [
            "k1ka5cb7\n",
            "abckk13\n"
          ]
        }
      ]
    },
    {
      "cell_type": "code",
      "source": [
        "# 9) 문자열 압축\n",
        "def soultion(s):\n",
        "  answer = len(s)\n",
        "  # 1개 단위(step)부터 압축 단위를 늘려가며 확인\n",
        "  for step in range(1,len(s)//2+1):\n",
        "    compressed=\"\"\n",
        "    prev = s[0:step] # 앞에서 부터 step만큼의 문자열 추출\n",
        "    count = 1\n",
        "    # 단위 크기만큼 증가시키며 이전 문자열과 비교\n",
        "    for j in range(step, len(s),step):\n",
        "      # 이전 상태와 동일 하다면 압축 회수 증가\n",
        "      if prev == s[j:j+step]:\n",
        "        count +=1\n",
        "      # 다른 문자열이 나왓다면,\n",
        "      else:\n",
        "        compressed += str(count)+ prev if count >= 2 else prev\n",
        "        prev = s[j:j+step] # 다시 상태 초기화\n",
        "        count = 1\n",
        "    # 남아 있는 문자열 대해서 처리\n",
        "    compressed += str(count)+ prev if count >= 2 else prev\n",
        "    # 만들어지는 압축 문자열이 가장 짧은 것이 정답\n",
        "    answer = min(answer,len(compressed))\n",
        "  return answer"
      ],
      "metadata": {
        "id": "c7nlmLnCOl4U"
      },
      "execution_count": 11,
      "outputs": []
    },
    {
      "cell_type": "code",
      "source": [
        "# 10) 자물쇠와 열쇠\n",
        "def rotate_a_matrix_by_90_degree(a):\n",
        "  n = len(a)# 행 길이 계산\n",
        "  m = len(a[0]) # 열 길이 계산\n",
        "  result = [[0]*n for _ in range(m)] # 결과 리스트\n",
        "  for i in range(n):\n",
        "    for j in range(m):\n",
        "      result[j][n-i-1]=a[i][j]\n",
        "  return result\n",
        "\n",
        "# 자물쇠의 중간 부분 모두 1인지 확인\n",
        "def check(new_lock):\n",
        "  lock_length = len(new_lock)//3\n",
        "  for i in range(lock_length, lock_length*2):\n",
        "    for j in range(lock_length,lock_length*2):\n",
        "      if new_lock[i][j] != 1:\n",
        "        return False\n",
        "  return True\n",
        "\n",
        "def solutin(key, lock):\n",
        "  n = len(lock)\n",
        "  m = len(key)\n",
        "  # 자물쇠의 크기 기존의 3배로 변환\n",
        "  new_lock = [[0]*(n*3)for _ in range(n*3)]\n",
        "  # 새로운 자물쇠의 중앙 부분에 기존의 자물쇠 넣기\n",
        "  for i in range(n):\n",
        "    for j in range(n):\n",
        "      new_lock[i+n][j+n] = lock[i][j]\n",
        "\n",
        "  #4가지 방향에 대해서 확인\n",
        "  for rotation in range(4):\n",
        "    key = rotate_a_matrix_by_90_degree(key) # 열쇠 회전\n",
        "    for x in range(n*2):\n",
        "      for y in range(n*2):\n",
        "        # 자물쇠에 열쇠를 끼워 넣기\n",
        "        for i in range(m):\n",
        "          for j in range(m):\n",
        "            new_lock[x+i][y+j]+=key[i][j]\n",
        "        #새로운 자물쇠 열쇠 정확인 검사\n",
        "        if check(new_lock)== True:\n",
        "          return True\n",
        "        # 자물쇠에서 열쇠를 다시 빼기\n",
        "        for i in range(m):\n",
        "          for j in range(m):\n",
        "            new_lock[x+i][y+j] -= key[i][j]\n",
        "\n",
        "  return False\n"
      ],
      "metadata": {
        "id": "3gF5ZhyFOl6Y"
      },
      "execution_count": 13,
      "outputs": []
    },
    {
      "cell_type": "code",
      "source": [
        "# 11) 뱀\n",
        "n = int(input())\n",
        "k = int(input())\n",
        "data = [[0]*(n+1) for _ in range(n+1)] # 앱 정보\n",
        "info = [] # 방향 회전 정보\n",
        "\n",
        "# 앱 정보\n",
        "for _ in range(k):\n",
        "  a, b = map(int,input().split())\n",
        "  data[a][b] = 1\n",
        "\n",
        "# 방향 회전 정보입력\n",
        "l = int(input())\n",
        "for _ in range(1):\n",
        "  x, c = input().split()\n",
        "  info.append((int(x),c))\n",
        "\n",
        "# 처음에느 오른쪽 보고 있으므로 동 남 서 북\n",
        "dx = [0,1,0,-1]\n",
        "dy = [1,0,-1,0]\n",
        "\n",
        "def turn(direction,c):\n",
        "  if  c == \"L\":\n",
        "    direction = (direction - 1) % 4\n",
        "  else:\n",
        "    direction = (direction + 1 )% 4\n",
        "  return direction\n",
        "\n",
        "def simulate():\n",
        "  x, y = 1, 1# 뱀의 머리위치\n",
        "  data[x][y] = 2 # 뱀의 존재하는 2표시\n",
        "  direction = 0\n",
        "  time = 0\n",
        "  index = 0\n",
        "  q = [(x,y)]\n",
        "  while True:\n",
        "    nx = x + dx[direction]\n",
        "    ny = y + dy[direction]\n",
        "    # 맵 범위 아에 있고 위치\n",
        "    if 1 <= nx and nx <= n and 1 <= ny and ny <= n and data[nx][ny] !=2:\n",
        "      if data[nx][ny]==0:\n",
        "        data[nx][ny] = 2\n",
        "        q.append((nx,ny))\n",
        "        px,py = q.pop(0)\n",
        "        data[px][py] = 0\n",
        "      # 사과가 있다면 이동 후 꼬리 그대로\n",
        "      if data[nx][ny] == 1:\n",
        "        data[nx][ny] = 2\n",
        "        q.append((nx,ny))\n",
        "      # 벽이나\n",
        "    else:\n",
        "      time += 1\n",
        "      break\n",
        "    x,y = nx,ny\n",
        "    time +=1\n",
        "    if index < 1 and time == info[index][0]:\n",
        "      direction = turn(direction, info[index][1])\n",
        "      index +=1\n",
        "  return time\n",
        "print(simulate())\n",
        "\n",
        "\n",
        "\n",
        "\n",
        "\n"
      ],
      "metadata": {
        "colab": {
          "base_uri": "https://localhost:8080/"
        },
        "id": "QkZpFNUCOtT9",
        "outputId": "8df4ca05-fea8-489e-f303-775c5db4b9d7"
      },
      "execution_count": 1,
      "outputs": [
        {
          "output_type": "stream",
          "name": "stdout",
          "text": [
            "6\n",
            "3\n",
            "3 4 \n",
            "2 5\n",
            "5 3\n",
            "3 \n",
            "3 D\n",
            "9\n"
          ]
        }
      ]
    },
    {
      "cell_type": "code",
      "source": [
        "# 12) 기둥과 보 설치\n",
        "def possible(answer):\n",
        "  for x,y,stuff in answer:\n",
        "    if stuff ==0 : # 설치 된것이 기둥인겨우\n",
        "      if y == 0 or [x-1,y,1] in answer or [x,y,1] in answer or [x,y-1,0] in answer:\n",
        "        continue\n",
        "      return False\n",
        "    elif stuff==1:\n",
        "      if [x,y-1,0]in answer or [x+1,y-1,0] in answer or ([x-1,y,1] in answer and[x+1,y,1] in answer):\n",
        "        continue\n",
        "      return False\n",
        "    return True\n",
        "\n",
        "def solution(n,build_frame):\n",
        "  answer = []\n",
        "  for frame in build_frame:\n",
        "    x,y,stuff,operate = frame\n",
        "    if operate ==0:\n",
        "      answer.remove([x,y,stuff])\n",
        "      if not possible(answer):\n",
        "        answer.append([x,y,stuff])\n",
        "    if operate ==1:\n",
        "      answer.append([x,y,stuff])\n",
        "      if not possible(answer):\n",
        "        answer.remove([x,y,stuff])\n",
        "  return sorted(answer)\n"
      ],
      "metadata": {
        "id": "tcRWDRtCOuRs"
      },
      "execution_count": 2,
      "outputs": []
    }
  ]
}