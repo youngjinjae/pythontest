{
  "nbformat": 4,
  "nbformat_minor": 0,
  "metadata": {
    "colab": {
      "provenance": [],
      "authorship_tag": "ABX9TyPJh8R5ujiXIJxxhlGK6U+J",
      "include_colab_link": true
    },
    "kernelspec": {
      "name": "python3",
      "display_name": "Python 3"
    },
    "language_info": {
      "name": "python"
    }
  },
  "cells": [
    {
      "cell_type": "markdown",
      "metadata": {
        "id": "view-in-github",
        "colab_type": "text"
      },
      "source": [
        "<a href=\"https://colab.research.google.com/github/youngjinjae/pythontest/blob/main/0801_%EC%BD%94%EB%94%A9%ED%85%8C%EC%8A%A4%ED%8A%B8DFS_BFS(15~22)%EC%A0%95%EB%A0%AC(23~26).ipynb\" target=\"_parent\"><img src=\"https://colab.research.google.com/assets/colab-badge.svg\" alt=\"Open In Colab\"/></a>"
      ]
    },
    {
      "cell_type": "code",
      "source": [
        "#15 특정 거리의 도시 찾기\n",
        "from collections import deque\n",
        "\n",
        "# 도시의 개수 도로의 개수 거리정보 출발 도시 번호\n",
        "n, m, k, x = map(int,input().split())\n",
        "graph = [[]for _ in range(n+1)]\n",
        "\n",
        "# 모든 도로 정보 입력받기\n",
        "for _ in range(m):\n",
        "  a,b =map(int,input().split())\n",
        "  graph[a].append(b)\n",
        "\n",
        "  # 모든 도시에 대한 최단 거리 초기화\n",
        "  distance = [-1] * (n+1)\n",
        "  distance[x]= 0 # 출발 도시까지의 거리는 0으로 설정 초기화\n",
        "\n",
        "  # 너비 우선 탐색 BFS 수행\n",
        "  q = deque([x])\n",
        "  while q:\n",
        "    now = q.popleft()\n",
        "    # 현재 도시에서 이동할 수 있는 모든 도시를 확인\n",
        "    for next_node in graph[now]:\n",
        "      # 아직 방문하지 않는 도시라면\n",
        "      if distance[next_node]==-1:\n",
        "        #최단 거리 갱신\n",
        "        distance[next_node]= distance[now]+1\n",
        "        q.append(next_node)\n",
        "  # 최단 거리 k인 모든 도시 번호 오름 차순으로 출력\n",
        "  check = False\n",
        "  for i in range(1,n+1):\n",
        "    if distance[i]==k:\n",
        "      print(i)\n",
        "      check = True\n",
        "  #만약 최단 거리 k인 도시가 없다면, -1 출력\n",
        "  if check == False:\n",
        "    print(-1)\n"
      ],
      "metadata": {
        "id": "65Wc9S59fLtR",
        "colab": {
          "base_uri": "https://localhost:8080/"
        },
        "outputId": "90e57249-4a37-42e0-af62-e8d27561fba7"
      },
      "execution_count": null,
      "outputs": [
        {
          "output_type": "stream",
          "name": "stdout",
          "text": [
            "4 4 2 1\n",
            "1 2\n",
            "-1\n",
            "1 3\n",
            "-1\n",
            "2 3\n",
            "-1\n",
            "2 4\n",
            "4\n"
          ]
        }
      ]
    },
    {
      "cell_type": "code",
      "execution_count": null,
      "metadata": {
        "id": "gRUxviTTea4g",
        "colab": {
          "base_uri": "https://localhost:8080/",
          "height": 474
        },
        "outputId": "86f41886-a2b7-4793-e402-ae7bacab0810"
      },
      "outputs": [
        {
          "name": "stdout",
          "output_type": "stream",
          "text": [
            "4 6\n",
            "0 0 0 0 0 0\n",
            "1 0 0 0 0 2\n",
            "1 1 1 0 0 2\n",
            "0 0 0 0 0 2\n"
          ]
        },
        {
          "output_type": "error",
          "ename": "UnboundLocalError",
          "evalue": "ignored",
          "traceback": [
            "\u001b[0;31m---------------------------------------------------------------------------\u001b[0m",
            "\u001b[0;31mUnboundLocalError\u001b[0m                         Traceback (most recent call last)",
            "\u001b[0;32m<ipython-input-3-77e6c93f792c>\u001b[0m in \u001b[0;36m<cell line: 60>\u001b[0;34m()\u001b[0m\n\u001b[1;32m     58\u001b[0m         \u001b[0mcount\u001b[0m \u001b[0;34m-=\u001b[0m \u001b[0;36m1\u001b[0m\u001b[0;34m\u001b[0m\u001b[0;34m\u001b[0m\u001b[0m\n\u001b[1;32m     59\u001b[0m \u001b[0;34m\u001b[0m\u001b[0m\n\u001b[0;32m---> 60\u001b[0;31m \u001b[0mdfs\u001b[0m\u001b[0;34m(\u001b[0m\u001b[0;36m0\u001b[0m\u001b[0;34m)\u001b[0m\u001b[0;34m\u001b[0m\u001b[0;34m\u001b[0m\u001b[0m\n\u001b[0m\u001b[1;32m     61\u001b[0m \u001b[0mprint\u001b[0m\u001b[0;34m(\u001b[0m\u001b[0mresult\u001b[0m\u001b[0;34m)\u001b[0m\u001b[0;34m\u001b[0m\u001b[0;34m\u001b[0m\u001b[0m\n",
            "\u001b[0;32m<ipython-input-3-77e6c93f792c>\u001b[0m in \u001b[0;36mdfs\u001b[0;34m(count)\u001b[0m\n\u001b[1;32m     54\u001b[0m         \u001b[0mdata\u001b[0m\u001b[0;34m[\u001b[0m\u001b[0mi\u001b[0m\u001b[0;34m]\u001b[0m\u001b[0;34m[\u001b[0m\u001b[0mj\u001b[0m\u001b[0;34m]\u001b[0m\u001b[0;34m=\u001b[0m\u001b[0;36m1\u001b[0m\u001b[0;34m\u001b[0m\u001b[0;34m\u001b[0m\u001b[0m\n\u001b[1;32m     55\u001b[0m         \u001b[0mcount\u001b[0m \u001b[0;34m+=\u001b[0m\u001b[0;36m1\u001b[0m\u001b[0;34m\u001b[0m\u001b[0;34m\u001b[0m\u001b[0m\n\u001b[0;32m---> 56\u001b[0;31m         \u001b[0mdfs\u001b[0m\u001b[0;34m(\u001b[0m\u001b[0mcount\u001b[0m\u001b[0;34m)\u001b[0m\u001b[0;34m\u001b[0m\u001b[0;34m\u001b[0m\u001b[0m\n\u001b[0m\u001b[1;32m     57\u001b[0m         \u001b[0mdata\u001b[0m\u001b[0;34m[\u001b[0m\u001b[0mi\u001b[0m\u001b[0;34m]\u001b[0m\u001b[0;34m[\u001b[0m\u001b[0mj\u001b[0m\u001b[0;34m]\u001b[0m \u001b[0;34m=\u001b[0m \u001b[0;36m0\u001b[0m\u001b[0;34m\u001b[0m\u001b[0;34m\u001b[0m\u001b[0m\n\u001b[1;32m     58\u001b[0m         \u001b[0mcount\u001b[0m \u001b[0;34m-=\u001b[0m \u001b[0;36m1\u001b[0m\u001b[0;34m\u001b[0m\u001b[0;34m\u001b[0m\u001b[0m\n",
            "\u001b[0;32m<ipython-input-3-77e6c93f792c>\u001b[0m in \u001b[0;36mdfs\u001b[0;34m(count)\u001b[0m\n\u001b[1;32m     54\u001b[0m         \u001b[0mdata\u001b[0m\u001b[0;34m[\u001b[0m\u001b[0mi\u001b[0m\u001b[0;34m]\u001b[0m\u001b[0;34m[\u001b[0m\u001b[0mj\u001b[0m\u001b[0;34m]\u001b[0m\u001b[0;34m=\u001b[0m\u001b[0;36m1\u001b[0m\u001b[0;34m\u001b[0m\u001b[0;34m\u001b[0m\u001b[0m\n\u001b[1;32m     55\u001b[0m         \u001b[0mcount\u001b[0m \u001b[0;34m+=\u001b[0m\u001b[0;36m1\u001b[0m\u001b[0;34m\u001b[0m\u001b[0;34m\u001b[0m\u001b[0m\n\u001b[0;32m---> 56\u001b[0;31m         \u001b[0mdfs\u001b[0m\u001b[0;34m(\u001b[0m\u001b[0mcount\u001b[0m\u001b[0;34m)\u001b[0m\u001b[0;34m\u001b[0m\u001b[0;34m\u001b[0m\u001b[0m\n\u001b[0m\u001b[1;32m     57\u001b[0m         \u001b[0mdata\u001b[0m\u001b[0;34m[\u001b[0m\u001b[0mi\u001b[0m\u001b[0;34m]\u001b[0m\u001b[0;34m[\u001b[0m\u001b[0mj\u001b[0m\u001b[0;34m]\u001b[0m \u001b[0;34m=\u001b[0m \u001b[0;36m0\u001b[0m\u001b[0;34m\u001b[0m\u001b[0;34m\u001b[0m\u001b[0m\n\u001b[1;32m     58\u001b[0m         \u001b[0mcount\u001b[0m \u001b[0;34m-=\u001b[0m \u001b[0;36m1\u001b[0m\u001b[0;34m\u001b[0m\u001b[0;34m\u001b[0m\u001b[0m\n",
            "\u001b[0;32m<ipython-input-3-77e6c93f792c>\u001b[0m in \u001b[0;36mdfs\u001b[0;34m(count)\u001b[0m\n\u001b[1;32m     54\u001b[0m         \u001b[0mdata\u001b[0m\u001b[0;34m[\u001b[0m\u001b[0mi\u001b[0m\u001b[0;34m]\u001b[0m\u001b[0;34m[\u001b[0m\u001b[0mj\u001b[0m\u001b[0;34m]\u001b[0m\u001b[0;34m=\u001b[0m\u001b[0;36m1\u001b[0m\u001b[0;34m\u001b[0m\u001b[0;34m\u001b[0m\u001b[0m\n\u001b[1;32m     55\u001b[0m         \u001b[0mcount\u001b[0m \u001b[0;34m+=\u001b[0m\u001b[0;36m1\u001b[0m\u001b[0;34m\u001b[0m\u001b[0;34m\u001b[0m\u001b[0m\n\u001b[0;32m---> 56\u001b[0;31m         \u001b[0mdfs\u001b[0m\u001b[0;34m(\u001b[0m\u001b[0mcount\u001b[0m\u001b[0;34m)\u001b[0m\u001b[0;34m\u001b[0m\u001b[0;34m\u001b[0m\u001b[0m\n\u001b[0m\u001b[1;32m     57\u001b[0m         \u001b[0mdata\u001b[0m\u001b[0;34m[\u001b[0m\u001b[0mi\u001b[0m\u001b[0;34m]\u001b[0m\u001b[0;34m[\u001b[0m\u001b[0mj\u001b[0m\u001b[0;34m]\u001b[0m \u001b[0;34m=\u001b[0m \u001b[0;36m0\u001b[0m\u001b[0;34m\u001b[0m\u001b[0;34m\u001b[0m\u001b[0m\n\u001b[1;32m     58\u001b[0m         \u001b[0mcount\u001b[0m \u001b[0;34m-=\u001b[0m \u001b[0;36m1\u001b[0m\u001b[0;34m\u001b[0m\u001b[0;34m\u001b[0m\u001b[0m\n",
            "\u001b[0;32m<ipython-input-3-77e6c93f792c>\u001b[0m in \u001b[0;36mdfs\u001b[0;34m(count)\u001b[0m\n\u001b[1;32m     46\u001b[0m         \u001b[0;32mif\u001b[0m \u001b[0mtemp\u001b[0m\u001b[0;34m[\u001b[0m\u001b[0mi\u001b[0m\u001b[0;34m]\u001b[0m\u001b[0;34m[\u001b[0m\u001b[0mj\u001b[0m\u001b[0;34m]\u001b[0m\u001b[0;34m==\u001b[0m\u001b[0;36m2\u001b[0m\u001b[0;34m:\u001b[0m\u001b[0;34m\u001b[0m\u001b[0;34m\u001b[0m\u001b[0m\n\u001b[1;32m     47\u001b[0m           \u001b[0mvirus\u001b[0m\u001b[0;34m(\u001b[0m\u001b[0mi\u001b[0m\u001b[0;34m,\u001b[0m\u001b[0mj\u001b[0m\u001b[0;34m)\u001b[0m\u001b[0;34m\u001b[0m\u001b[0;34m\u001b[0m\u001b[0m\n\u001b[0;32m---> 48\u001b[0;31m     \u001b[0mresult\u001b[0m \u001b[0;34m=\u001b[0m \u001b[0mmax\u001b[0m\u001b[0;34m(\u001b[0m\u001b[0mresult\u001b[0m\u001b[0;34m,\u001b[0m \u001b[0mget_score\u001b[0m\u001b[0;34m(\u001b[0m\u001b[0;34m)\u001b[0m\u001b[0;34m)\u001b[0m\u001b[0;34m\u001b[0m\u001b[0;34m\u001b[0m\u001b[0m\n\u001b[0m\u001b[1;32m     49\u001b[0m     \u001b[0;32mreturn\u001b[0m\u001b[0;34m\u001b[0m\u001b[0;34m\u001b[0m\u001b[0m\n\u001b[1;32m     50\u001b[0m   \u001b[0;31m#빈 공간에 울타리 설치\u001b[0m\u001b[0;34m\u001b[0m\u001b[0;34m\u001b[0m\u001b[0m\n",
            "\u001b[0;31mUnboundLocalError\u001b[0m: local variable 'result' referenced before assignment"
          ]
        }
      ],
      "source": [
        "#16 연구소\n",
        "n ,m = map(int,input().split())\n",
        "data = [ ] # 초기 맵 리스트\n",
        "temp = [[0]*m for _ in range(n)] # 벽을 설치한 뒤의 맵 리스트\n",
        "\n",
        "for _ in range(n):\n",
        "  data.append(list(map(int,input().split())))\n",
        "\n",
        "# 4가지 이동방향에 대한 리스트\n",
        "dx = [-1,0,1,0]\n",
        "dy = [0,1,0,-1]\n",
        "\n",
        "result = 0\n",
        "\n",
        "# 깊이 우선 탐색 dfs 을 이용해 각 바이러스 사방 퍼지기\n",
        "def virus(x,y):\n",
        "  for i in range(4):\n",
        "    nx = x+dx[i]\n",
        "    ny = y+dy[i]\n",
        "    # 상하 좌 우 중에 바이러스 퍼질 경우\n",
        "    if nx>=0 and nx< n and ny >=0 and ny < m:\n",
        "      if temp[nx][ny] ==0:\n",
        "        # 해당 위치에 바이러스 배치 재귀 수행\n",
        "        temp[nx][ny]=2\n",
        "        virus(nx,ny)\n",
        "\n",
        "# 현재 맵에 안정영역 크기 계산 하는 메서드\n",
        "def get_score():\n",
        "  score = 0\n",
        "  for i  in range(n):\n",
        "    for j in range(m):\n",
        "      if temp[i][j] == 0 :\n",
        "        score +=1\n",
        "  return score\n",
        "#깊이가 우선 DFS 이용 울타리 설치 하면서 매번 안전 영역의 크기 계산\n",
        "def dfs(count):\n",
        "  global resut\n",
        "  if count == 3:\n",
        "    for i in range(n):\n",
        "      for j in range(m):\n",
        "        temp[i][j]=data[i][j]\n",
        "\n",
        "      #각바이러스 위치 전파 진행\n",
        "    for i in range(n):\n",
        "      for j in range(m):\n",
        "        if temp[i][j]==2:\n",
        "          virus(i,j)\n",
        "    result = max(result,get_score())\n",
        "    return\n",
        "  #빈 공간에 울타리 설치\n",
        "  for i in range(n):\n",
        "    for j in range(m):\n",
        "      if data[i][j]==0:\n",
        "        data[i][j]=1\n",
        "        count +=1\n",
        "        dfs(count)\n",
        "        data[i][j] = 0\n",
        "        count -= 1\n",
        "\n",
        "dfs(0)\n",
        "print(result)"
      ]
    },
    {
      "cell_type": "code",
      "source": [
        "#17 경쟁적 전염\n",
        "from collections import deque\n",
        "n , k = map (int,input().split())\n",
        "\n",
        "graph = [] # 전체보드 정보 담는 리스트\n",
        "data = []  # 바이러스 대한 정보를 담는 리스트\n",
        "\n",
        "for i in range(n):\n",
        "  # 보드 정보를 한줄 단위로 입력\n",
        "  graph.append(list(map(int,input().split())))\n",
        "  for j in range(n):\n",
        "    # 해당 위치에 바이러스는 존재하는 겨웅\n",
        "    if graph[i][j] !=0:\n",
        "      # 버이러스 종류 시간 위치x 위치y 삽입\n",
        "      data.append((graph[i][j],0,i,j))\n",
        "# 정렬 이후 큐로 옮기기\n",
        "data.sort()\n",
        "q = deque(data)\n",
        "\n",
        "target_s,target_x,target_y = map(int,input().split())\n",
        "\n",
        "# 바이러스 퍼젼나가는 경우\n",
        "dx = [-1,0,1,0]\n",
        "dy = [0,1,0,-1]\n",
        "\n",
        "# 너비 우선 bfs 진행\n",
        "\n",
        "while q :\n",
        "  virus, s, x, y = q.popleft()\n",
        "  # 정확히 s 초가 지나거나 큐가 빌때 반복\n",
        "  if s == target_s:\n",
        "    break\n",
        "  # 현재 노드에 주변 4가지 위치\n",
        "  for i in range(4):\n",
        "    nx = x +dx[i]\n",
        "    ny = y +dy[i]\n",
        "    # 해당 위치로 이동할 수 잇는 경우\n",
        "    if 0 <= nx and nx < n and 0 <= ny and ny <n:\n",
        "      # 아직 방문하지 않는 위치라면 그 위치에 바이러스 넣기\n",
        "      if graph[nx][ny]==0:\n",
        "        graph[nx][ny]= virus\n",
        "        q.append((virus,s+1,nx,ny))\n",
        "print(graph[target_x-1[target_y-1]])\n",
        "\n",
        "\n",
        "\n",
        "\n",
        "\n"
      ],
      "metadata": {
        "colab": {
          "base_uri": "https://localhost:8080/",
          "height": 437
        },
        "id": "XHFGFXU-YYba",
        "outputId": "1528afc8-f457-4896-cc70-621061966b22"
      },
      "execution_count": null,
      "outputs": [
        {
          "output_type": "stream",
          "name": "stderr",
          "text": [
            "<>:43: SyntaxWarning: 'int' object is not subscriptable; perhaps you missed a comma?\n",
            "<>:43: SyntaxWarning: 'int' object is not subscriptable; perhaps you missed a comma?\n"
          ]
        },
        {
          "output_type": "error",
          "ename": "KeyboardInterrupt",
          "evalue": "ignored",
          "traceback": [
            "\u001b[0;31m---------------------------------------------------------------------------\u001b[0m",
            "\u001b[0;31mKeyboardInterrupt\u001b[0m                         Traceback (most recent call last)",
            "\u001b[0;32m<ipython-input-5-840065a1104c>\u001b[0m in \u001b[0;36m<cell line: 3>\u001b[0;34m()\u001b[0m\n\u001b[1;32m      1\u001b[0m \u001b[0;36m17\u001b[0m\u001b[0;31m# 경쟁적 전염\u001b[0m\u001b[0;34m\u001b[0m\u001b[0;34m\u001b[0m\u001b[0m\n\u001b[1;32m      2\u001b[0m \u001b[0;32mfrom\u001b[0m \u001b[0mcollections\u001b[0m \u001b[0;32mimport\u001b[0m \u001b[0mdeque\u001b[0m\u001b[0;34m\u001b[0m\u001b[0;34m\u001b[0m\u001b[0m\n\u001b[0;32m----> 3\u001b[0;31m \u001b[0mn\u001b[0m \u001b[0;34m,\u001b[0m \u001b[0mk\u001b[0m \u001b[0;34m=\u001b[0m \u001b[0mmap\u001b[0m \u001b[0;34m(\u001b[0m\u001b[0mint\u001b[0m\u001b[0;34m,\u001b[0m\u001b[0minput\u001b[0m\u001b[0;34m(\u001b[0m\u001b[0;34m)\u001b[0m\u001b[0;34m.\u001b[0m\u001b[0msplit\u001b[0m\u001b[0;34m(\u001b[0m\u001b[0;34m)\u001b[0m\u001b[0;34m)\u001b[0m\u001b[0;34m\u001b[0m\u001b[0;34m\u001b[0m\u001b[0m\n\u001b[0m\u001b[1;32m      4\u001b[0m \u001b[0;34m\u001b[0m\u001b[0m\n\u001b[1;32m      5\u001b[0m \u001b[0mgraph\u001b[0m \u001b[0;34m=\u001b[0m \u001b[0;34m[\u001b[0m\u001b[0;34m]\u001b[0m \u001b[0;31m# 전체보드 정보 담는 리스트\u001b[0m\u001b[0;34m\u001b[0m\u001b[0;34m\u001b[0m\u001b[0m\n",
            "\u001b[0;32m/usr/local/lib/python3.10/dist-packages/ipykernel/kernelbase.py\u001b[0m in \u001b[0;36mraw_input\u001b[0;34m(self, prompt)\u001b[0m\n\u001b[1;32m    849\u001b[0m                 \u001b[0;34m\"raw_input was called, but this frontend does not support input requests.\"\u001b[0m\u001b[0;34m\u001b[0m\u001b[0;34m\u001b[0m\u001b[0m\n\u001b[1;32m    850\u001b[0m             )\n\u001b[0;32m--> 851\u001b[0;31m         return self._input_request(str(prompt),\n\u001b[0m\u001b[1;32m    852\u001b[0m             \u001b[0mself\u001b[0m\u001b[0;34m.\u001b[0m\u001b[0m_parent_ident\u001b[0m\u001b[0;34m,\u001b[0m\u001b[0;34m\u001b[0m\u001b[0;34m\u001b[0m\u001b[0m\n\u001b[1;32m    853\u001b[0m             \u001b[0mself\u001b[0m\u001b[0;34m.\u001b[0m\u001b[0m_parent_header\u001b[0m\u001b[0;34m,\u001b[0m\u001b[0;34m\u001b[0m\u001b[0;34m\u001b[0m\u001b[0m\n",
            "\u001b[0;32m/usr/local/lib/python3.10/dist-packages/ipykernel/kernelbase.py\u001b[0m in \u001b[0;36m_input_request\u001b[0;34m(self, prompt, ident, parent, password)\u001b[0m\n\u001b[1;32m    893\u001b[0m             \u001b[0;32mexcept\u001b[0m \u001b[0mKeyboardInterrupt\u001b[0m\u001b[0;34m:\u001b[0m\u001b[0;34m\u001b[0m\u001b[0;34m\u001b[0m\u001b[0m\n\u001b[1;32m    894\u001b[0m                 \u001b[0;31m# re-raise KeyboardInterrupt, to truncate traceback\u001b[0m\u001b[0;34m\u001b[0m\u001b[0;34m\u001b[0m\u001b[0m\n\u001b[0;32m--> 895\u001b[0;31m                 \u001b[0;32mraise\u001b[0m \u001b[0mKeyboardInterrupt\u001b[0m\u001b[0;34m(\u001b[0m\u001b[0;34m\"Interrupted by user\"\u001b[0m\u001b[0;34m)\u001b[0m \u001b[0;32mfrom\u001b[0m \u001b[0;32mNone\u001b[0m\u001b[0;34m\u001b[0m\u001b[0;34m\u001b[0m\u001b[0m\n\u001b[0m\u001b[1;32m    896\u001b[0m             \u001b[0;32mexcept\u001b[0m \u001b[0mException\u001b[0m \u001b[0;32mas\u001b[0m \u001b[0me\u001b[0m\u001b[0;34m:\u001b[0m\u001b[0;34m\u001b[0m\u001b[0;34m\u001b[0m\u001b[0m\n\u001b[1;32m    897\u001b[0m                 \u001b[0mself\u001b[0m\u001b[0;34m.\u001b[0m\u001b[0mlog\u001b[0m\u001b[0;34m.\u001b[0m\u001b[0mwarning\u001b[0m\u001b[0;34m(\u001b[0m\u001b[0;34m\"Invalid Message:\"\u001b[0m\u001b[0;34m,\u001b[0m \u001b[0mexc_info\u001b[0m\u001b[0;34m=\u001b[0m\u001b[0;32mTrue\u001b[0m\u001b[0;34m)\u001b[0m\u001b[0;34m\u001b[0m\u001b[0;34m\u001b[0m\u001b[0m\n",
            "\u001b[0;31mKeyboardInterrupt\u001b[0m: Interrupted by user"
          ]
        }
      ]
    },
    {
      "cell_type": "code",
      "source": [
        "# 18 괄호 변환\n",
        "def balanced_index(p):\n",
        "  count = 0\n",
        "  for i in range(len(p)):\n",
        "    if p[i] == '(':\n",
        "      count +=1\n",
        "    else:\n",
        "      count -=1\n",
        "    if count ==0:\n",
        "      return i\n",
        "# 올바른 괄호 문자열 인지 판단\n",
        "def check_proper(p):\n",
        "  count = 0\n",
        "  for i in p:\n",
        "    if i == '(':\n",
        "      count +=1\n",
        "    else:\n",
        "      if count ==0:\n",
        "        return False\n",
        "      count -=1\n",
        "  return True\n",
        "def solution(p):\n",
        "  answer = ''\n",
        "  if p =='':\n",
        "    return answer\n",
        "  index = balanced_index(p)\n",
        "  u = p[:index+1]\n",
        "  v = p[index+1:]\n",
        "  # 올바른 괄혼\n",
        "  if check_proper(u):\n",
        "    answer = u + solution(v)\n",
        "  # 올바른 괄호 문자열\n",
        "  else:\n",
        "    answer='('\n",
        "    answer += solution(v)\n",
        "    answer +=')'\n",
        "    u = list(u[1:-1]) # 첫번째 마지막 문제 제거\n",
        "    for i in range(len(u)):\n",
        "      if u[i]=='(':\n",
        "        u[i]=')'\n",
        "      else:\n",
        "        u[i]='('\n",
        "    answer += \"\".join(u)\n",
        "  return answer\n",
        "\n",
        "    # 올바른 괄호 문자열\n",
        "\n",
        "\n",
        "\n"
      ],
      "metadata": {
        "id": "CaGk5bknaOXj"
      },
      "execution_count": null,
      "outputs": []
    },
    {
      "cell_type": "code",
      "source": [
        "# 19 연산자 끼워 넣기\n",
        "n = int(input())\n",
        "data = list(map(int,input().split()))\n",
        "add,sub,mul,div = map(int,input().split())\n",
        "\n",
        "# 최솟값 최댓값 초기화\n",
        "min_value=1e9\n",
        "max_value=-1e9\n",
        "\n",
        "# 깊이 우선 dfs\n",
        "def dfs(i,now):\n",
        "  global min_value,max_value,add,sub,mul,div\n",
        "  if i == n:\n",
        "    min_value = min(min_value,now)\n",
        "    max_value = max(max_value,now)\n",
        "  else:\n",
        "    if add > 0:\n",
        "      add -= 1\n",
        "      dfs(i+1,now+data[i])\n",
        "      add +=1\n",
        "    if sub>0:\n",
        "      sub -=1\n",
        "      dfs(i+1,now-data[i])\n",
        "      sub +=1\n",
        "    if mul>0:\n",
        "      sub -=1\n",
        "      dfs(i+1,now*data[i])\n",
        "      mul +=1\n",
        "    if div>0:\n",
        "      sub -=1\n",
        "      dfs(i+1,int(now/data[i]))\n",
        "      div +=1\n",
        "#dfs 메서드 호출\n",
        "dfs(1,data[0])\n",
        "\n",
        "# 최대값 최소값 쩨대로 출력\n",
        "print(max_value)\n",
        "print(min_value)\n",
        "\n",
        "\n"
      ],
      "metadata": {
        "colab": {
          "base_uri": "https://localhost:8080/"
        },
        "id": "P7hPobZRcNcq",
        "outputId": "d22ad134-a822-40fc-8c7c-502718031b3d"
      },
      "execution_count": null,
      "outputs": [
        {
          "output_type": "stream",
          "name": "stdout",
          "text": [
            "2\n",
            "5 6\n",
            "0 0 1 0\n",
            "30\n",
            "30\n"
          ]
        }
      ]
    },
    {
      "cell_type": "code",
      "source": [
        "# 20감시 피하기\n",
        "from itertools import combinations\n",
        "n = int(input())\n",
        "board = []\n",
        "teachers = []\n",
        "spaces = []\n",
        "\n",
        "for i in range(n):\n",
        "  board.append(list(input().split()))\n",
        "  for j in range(n):\n",
        "    if board[i][j] == 'T' :\n",
        "      teachers.append((i,j))\n",
        "    if board[i][j] =='X' :\n",
        "      spaces.append((i,j))\n",
        "def watch(x,y,direction):\n",
        "  # 왼쪽\n",
        "  if direction == 0:\n",
        "    while y >= 0:\n",
        "      if board[x][y]=='S':\n",
        "        return True\n",
        "      if board[x][y]=='O':\n",
        "        return False\n",
        "      y -= 1\n",
        "  #오른쪽\n",
        "  if direction == 1:\n",
        "    while y < n:\n",
        "      if board[x][y]=='S':\n",
        "        return True\n",
        "      if board[x][y]=='O':\n",
        "        return False\n",
        "      y += 1\n",
        "  # 위쪽\n",
        "  if direction == 2:\n",
        "    while x >= 0:\n",
        "      if board[x][y]=='S':\n",
        "        return True\n",
        "      if board[x][y]=='O':\n",
        "        return False\n",
        "      y -= 1\n",
        "  #아래쪽\n",
        "  if direction == 3:\n",
        "    while x < n:\n",
        "      if board[x][y]=='S':\n",
        "        return True\n",
        "      if board[x][y]=='O':\n",
        "        return False\n",
        "      x += 1\n",
        "  return False\n",
        "\n",
        "def process():\n",
        "  for x,y in teachers:\n",
        "    for i in range(4):\n",
        "      if watch(x,y,i):\n",
        "        return True\n",
        "  return False\n",
        "find = False\n",
        "\n",
        "for data in combinations(spaces,3):\n",
        "  for x,y in data:\n",
        "    board[x][y]='O'\n",
        "\n",
        "  if not process():\n",
        "    find = True\n",
        "    break\n",
        "  for x,y, in data:\n",
        "    board[x][y] = 'X'\n",
        "if find:\n",
        "  print('YES')\n",
        "else:\n",
        "  print('no')\n",
        "\n",
        "\n",
        "\n",
        "\n",
        "\n",
        "\n",
        "\n",
        "\n",
        "\n",
        "\n"
      ],
      "metadata": {
        "colab": {
          "base_uri": "https://localhost:8080/"
        },
        "id": "_x_jkAAKcPLZ",
        "outputId": "8941db4e-026f-4058-d62e-02c8948251b1"
      },
      "execution_count": null,
      "outputs": [
        {
          "output_type": "stream",
          "name": "stdout",
          "text": [
            "4\n",
            "S S S T\n",
            "X X X X\n",
            "X X X X\n",
            "T T T X\n",
            "no\n"
          ]
        }
      ]
    },
    {
      "cell_type": "code",
      "source": [
        "#21 인구 이동\n",
        "from  collections import deque\n",
        "# 땅의 크기 n,l,r 값을 입력받기\n",
        "n,l,r = map(int,input().split())\n",
        "# 전체 나라의 정보 n x n 입력받기\n",
        "graph=[]\n",
        "for _ in range(n):\n",
        "  graph.append(list(map(int,input().split())))\n",
        "\n",
        "dx=[-1,0,1,0]\n",
        "dy=[0,-1,0,1]\n",
        "\n",
        "result = 0\n",
        "# 특정 위치에서 출발 하여 모든 연합을 체크한뒤에 데이터 갱신\n",
        "\n",
        "def process(x,y,index):\n",
        "  united=[]\n",
        "  united.append((x,y))\n",
        "\n",
        "  q = deque()\n",
        "  q.append((x,y))\n",
        "\n",
        "  union[x][y] = index\n",
        "  summary = graph[x][y]\n",
        "  count = 1\n",
        "\n",
        "  while q:\n",
        "    x, y = q.popleft()\n",
        "    for i in range(4):\n",
        "      nx = x + dx[i]\n",
        "      ny = y + dy[i]\n",
        "      if 0 <= nx < n and 0 <= ny < n and union[nx][ny]==-1:\n",
        "        if 1 <= abs(graph[nx][ny]-graph[x][y]) <= r:\n",
        "          q.append((nx,ny))\n",
        "          union[nx][ny] = index\n",
        "          summary += graph[nx][ny]\n",
        "          count +=1\n",
        "          united.append((nx,ny))\n",
        "  for i, j in united:\n",
        "    graph[i][j] = summary\n",
        "  return count\n",
        "total_count = 0\n",
        "\n",
        "while True:\n",
        "  union = [[-1]*n for _ in range(n)]\n",
        "  index = 0\n",
        "  for i in range(n):\n",
        "    for j in range(n):\n",
        "      if union[i][j] == -1:\n",
        "        process(i,j,index)\n",
        "        index +=1\n",
        "      if index ==n+n:\n",
        "        break\n",
        "    total_count +=1\n",
        "print(total_count)\n",
        "\n"
      ],
      "metadata": {
        "id": "IBfZbzkfcSga",
        "colab": {
          "base_uri": "https://localhost:8080/",
          "height": 431
        },
        "outputId": "038c11a6-450b-4f73-f619-8d2399d645bf"
      },
      "execution_count": null,
      "outputs": [
        {
          "name": "stdout",
          "output_type": "stream",
          "text": [
            "2 20 50\n",
            "50 30\n",
            "20 40\n"
          ]
        },
        {
          "output_type": "error",
          "ename": "KeyboardInterrupt",
          "evalue": "ignored",
          "traceback": [
            "\u001b[0;31m---------------------------------------------------------------------------\u001b[0m",
            "\u001b[0;31mKeyboardInterrupt\u001b[0m                         Traceback (most recent call last)",
            "\u001b[0;32m<ipython-input-4-7ebc62a21caa>\u001b[0m in \u001b[0;36m<cell line: 44>\u001b[0;34m()\u001b[0m\n\u001b[1;32m     48\u001b[0m     \u001b[0;32mfor\u001b[0m \u001b[0mj\u001b[0m \u001b[0;32min\u001b[0m \u001b[0mrange\u001b[0m\u001b[0;34m(\u001b[0m\u001b[0mn\u001b[0m\u001b[0;34m)\u001b[0m\u001b[0;34m:\u001b[0m\u001b[0;34m\u001b[0m\u001b[0;34m\u001b[0m\u001b[0m\n\u001b[1;32m     49\u001b[0m       \u001b[0;32mif\u001b[0m \u001b[0munion\u001b[0m\u001b[0;34m[\u001b[0m\u001b[0mi\u001b[0m\u001b[0;34m]\u001b[0m\u001b[0;34m[\u001b[0m\u001b[0mj\u001b[0m\u001b[0;34m]\u001b[0m \u001b[0;34m==\u001b[0m \u001b[0;34m-\u001b[0m\u001b[0;36m1\u001b[0m\u001b[0;34m:\u001b[0m\u001b[0;34m\u001b[0m\u001b[0;34m\u001b[0m\u001b[0m\n\u001b[0;32m---> 50\u001b[0;31m         \u001b[0mprocess\u001b[0m\u001b[0;34m(\u001b[0m\u001b[0mi\u001b[0m\u001b[0;34m,\u001b[0m\u001b[0mj\u001b[0m\u001b[0;34m,\u001b[0m\u001b[0mindex\u001b[0m\u001b[0;34m)\u001b[0m\u001b[0;34m\u001b[0m\u001b[0;34m\u001b[0m\u001b[0m\n\u001b[0m\u001b[1;32m     51\u001b[0m         \u001b[0mindex\u001b[0m \u001b[0;34m+=\u001b[0m\u001b[0;36m1\u001b[0m\u001b[0;34m\u001b[0m\u001b[0;34m\u001b[0m\u001b[0m\n\u001b[1;32m     52\u001b[0m       \u001b[0;32mif\u001b[0m \u001b[0mindex\u001b[0m \u001b[0;34m==\u001b[0m\u001b[0mn\u001b[0m\u001b[0;34m+\u001b[0m\u001b[0mn\u001b[0m\u001b[0;34m:\u001b[0m\u001b[0;34m\u001b[0m\u001b[0;34m\u001b[0m\u001b[0m\n",
            "\u001b[0;32m<ipython-input-4-7ebc62a21caa>\u001b[0m in \u001b[0;36mprocess\u001b[0;34m(x, y, index)\u001b[0m\n\u001b[1;32m     31\u001b[0m       \u001b[0mny\u001b[0m \u001b[0;34m=\u001b[0m \u001b[0my\u001b[0m \u001b[0;34m+\u001b[0m \u001b[0mdy\u001b[0m\u001b[0;34m[\u001b[0m\u001b[0mi\u001b[0m\u001b[0;34m]\u001b[0m\u001b[0;34m\u001b[0m\u001b[0;34m\u001b[0m\u001b[0m\n\u001b[1;32m     32\u001b[0m       \u001b[0;32mif\u001b[0m \u001b[0;36m0\u001b[0m \u001b[0;34m<=\u001b[0m \u001b[0mnx\u001b[0m \u001b[0;34m<\u001b[0m \u001b[0mn\u001b[0m \u001b[0;32mand\u001b[0m \u001b[0;36m0\u001b[0m \u001b[0;34m<=\u001b[0m \u001b[0mny\u001b[0m \u001b[0;34m<\u001b[0m \u001b[0mn\u001b[0m \u001b[0;32mand\u001b[0m \u001b[0munion\u001b[0m\u001b[0;34m[\u001b[0m\u001b[0mnx\u001b[0m\u001b[0;34m]\u001b[0m\u001b[0;34m[\u001b[0m\u001b[0mny\u001b[0m\u001b[0;34m]\u001b[0m\u001b[0;34m==\u001b[0m\u001b[0;34m-\u001b[0m\u001b[0;36m1\u001b[0m\u001b[0;34m:\u001b[0m\u001b[0;34m\u001b[0m\u001b[0;34m\u001b[0m\u001b[0m\n\u001b[0;32m---> 33\u001b[0;31m         \u001b[0;32mif\u001b[0m \u001b[0;36m1\u001b[0m \u001b[0;34m<=\u001b[0m \u001b[0mabs\u001b[0m\u001b[0;34m(\u001b[0m\u001b[0mgraph\u001b[0m\u001b[0;34m[\u001b[0m\u001b[0mnx\u001b[0m\u001b[0;34m]\u001b[0m\u001b[0;34m[\u001b[0m\u001b[0mny\u001b[0m\u001b[0;34m]\u001b[0m\u001b[0;34m-\u001b[0m\u001b[0mgraph\u001b[0m\u001b[0;34m[\u001b[0m\u001b[0mx\u001b[0m\u001b[0;34m]\u001b[0m\u001b[0;34m[\u001b[0m\u001b[0my\u001b[0m\u001b[0;34m]\u001b[0m\u001b[0;34m)\u001b[0m \u001b[0;34m<=\u001b[0m \u001b[0mr\u001b[0m\u001b[0;34m:\u001b[0m\u001b[0;34m\u001b[0m\u001b[0;34m\u001b[0m\u001b[0m\n\u001b[0m\u001b[1;32m     34\u001b[0m           \u001b[0mq\u001b[0m\u001b[0;34m.\u001b[0m\u001b[0mappend\u001b[0m\u001b[0;34m(\u001b[0m\u001b[0;34m(\u001b[0m\u001b[0mnx\u001b[0m\u001b[0;34m,\u001b[0m\u001b[0mny\u001b[0m\u001b[0;34m)\u001b[0m\u001b[0;34m)\u001b[0m\u001b[0;34m\u001b[0m\u001b[0;34m\u001b[0m\u001b[0m\n\u001b[1;32m     35\u001b[0m           \u001b[0munion\u001b[0m\u001b[0;34m[\u001b[0m\u001b[0mnx\u001b[0m\u001b[0;34m]\u001b[0m\u001b[0;34m[\u001b[0m\u001b[0mny\u001b[0m\u001b[0;34m]\u001b[0m \u001b[0;34m=\u001b[0m \u001b[0mindex\u001b[0m\u001b[0;34m\u001b[0m\u001b[0;34m\u001b[0m\u001b[0m\n",
            "\u001b[0;31mKeyboardInterrupt\u001b[0m: "
          ]
        }
      ]
    },
    {
      "cell_type": "code",
      "source": [
        "# #22 블록 이동\n",
        "# from collections import deque\n",
        "# def get_next_pos(pos,board):\n",
        "#   next_pos = []\n",
        "#   pos = list(pos)\n",
        "#   pos1_x,pos1_y,pos2_x,pos2_y = pos[0][0], pos[0][1],pos[1][0], pos[1][1]\n",
        "\n",
        "#   dx=[-1,1,0,0]\n",
        "#   dy=[0,0,-1,1]\n",
        "\n",
        "#   for i in range(4):\n",
        "#     pos1_next_x,pos1_next_y,pos2_next_x,pos2_next_y= pos1_x +dx[i],pos1_y+dy[i],pos2_x+dx[i],pos2_y+dy[i]\n",
        "#       if board[pos1_next_x][pos1_next_y] == 0 and board[pos2_next_x][pos2_next_y] ==0:\n",
        "#         next_pos.apped({(pos1_next_x,pos1_next_y),(pos2_next_x,pos2_next_y)})\n",
        "\n",
        "#   if pos1_x ==pos2_x:\n",
        "#     for i in [-1,1]:\n",
        "#       if board[pos1_x+i][pos1_y]==0 and board[pos2_x+i][pos2_y]==0:\n",
        "#         next_pos.apped({(pos1_x,pos1_y),(pos1_x+i,pos1_y)})\n",
        "\n"
      ],
      "metadata": {
        "id": "WwEY2aMjcYfC"
      },
      "execution_count": null,
      "outputs": []
    },
    {
      "cell_type": "code",
      "source": [
        "\n",
        "# 23번 국영수\n",
        "n = int(input())\n",
        "students = []\n",
        "\n",
        "for _ in range(n):\n",
        "  students.apped(input().split())\n",
        "\n",
        "students.sort(key=lambda x: (-int(x[1]),int(x[2]),-int(x[3]),x[0]))\n",
        "for student in students:\n",
        "  print(student[0])\n"
      ],
      "metadata": {
        "id": "AixWeX5IcQrr"
      },
      "execution_count": null,
      "outputs": []
    },
    {
      "cell_type": "code",
      "source": [
        "# 24번 안테나\n",
        "\n",
        "n = int(input())\n",
        "data = list(map(int,input().split()))\n",
        "data.sort()\n",
        "\n",
        "# 중간값 출력\n",
        "print(data[(n-1)//2])\n"
      ],
      "metadata": {
        "id": "aaNOkIy-blHY"
      },
      "execution_count": null,
      "outputs": []
    },
    {
      "cell_type": "code",
      "source": [
        "# 25번 실패율\n",
        "\n",
        "def solution(N,stages):\n",
        "  answer = []\n",
        "  length = len(stages)\n",
        "\n",
        "  # 스테이지 번호 1부터 n 까지 증가시키며\n",
        "  for i in range(1,N+1):\n",
        "    # 해당 스테이지에 머물러 있는사람의 수 계산\n",
        "    count = stages.count(i)\n",
        "\n",
        "    # 실패율 계산\n",
        "    if length ==0:\n",
        "      fail = 0\n",
        "    else :\n",
        "      fail =count/length\n",
        "    # 리스트 삽입\n",
        "    answer.append((i,fail))\n",
        "    length -= count\n",
        "  # 실패율 내림차순\n",
        "  answer = sorted(answer,key=lambda t: t[1],reverse=True)\n",
        "\n",
        "  answer = [i[0] for i in answer]\n",
        "  return answer\n",
        "\n",
        "\n"
      ],
      "metadata": {
        "id": "oKZk7r0mdtfb"
      },
      "execution_count": null,
      "outputs": []
    },
    {
      "cell_type": "code",
      "source": [
        "# 카드정렬\n",
        "\n",
        "import heapq\n",
        "n = int(input())\n",
        "\n",
        "# 힙에 초기 카드 묶음을 모두 삽입\n",
        "heap = []\n",
        "for i in range(n):\n",
        "  data = int(input())\n",
        "  heapq.heappush(heap,data)\n",
        "\n",
        "result = 0\n",
        "\n",
        "while len(heap) !=1:\n",
        "  one = heapq.heappop(heap)\n",
        "  two = heapq.heappop(heap)\n",
        "  sum_value = one + two\n",
        "  result += sum_value\n",
        "  heapq.heappush(heap,sum_value)\n",
        "\n",
        "print(result)"
      ],
      "metadata": {
        "id": "J1pJk5BxfF1h"
      },
      "execution_count": null,
      "outputs": []
    }
  ]
}