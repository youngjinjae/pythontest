{
  "nbformat": 4,
  "nbformat_minor": 0,
  "metadata": {
    "colab": {
      "provenance": [],
      "authorship_tag": "ABX9TyOLGuioRFcPyai2xzAXiuAD",
      "include_colab_link": true
    },
    "kernelspec": {
      "name": "python3",
      "display_name": "Python 3"
    },
    "language_info": {
      "name": "python"
    }
  },
  "cells": [
    {
      "cell_type": "markdown",
      "metadata": {
        "id": "view-in-github",
        "colab_type": "text"
      },
      "source": [
        "<a href=\"https://colab.research.google.com/github/youngjinjae/pythontest/blob/main/0802_(%EC%9D%B4%EC%A7%84%ED%83%90%EC%83%89(27~30)%2C%EB%8B%A4%EC%9D%B4%EB%82%98%EB%AF%B9(31~36))_27~36.ipynb\" target=\"_parent\"><img src=\"https://colab.research.google.com/assets/colab-badge.svg\" alt=\"Open In Colab\"/></a>"
      ]
    },
    {
      "cell_type": "code",
      "execution_count": null,
      "metadata": {
        "colab": {
          "base_uri": "https://localhost:8080/"
        },
        "id": "zJkIzzE1f8gp",
        "outputId": "b85f3e0d-ff3b-4b6f-b7f9-179c133a3e15"
      },
      "outputs": [
        {
          "output_type": "stream",
          "name": "stdout",
          "text": [
            "7 2\n",
            "1 1 2 2 2 2 3\n",
            "4\n"
          ]
        }
      ],
      "source": [
        "def count_by_value(array,x):\n",
        "  n = len(array)\n",
        "\n",
        "  a = first(array,x,0,n-1)\n",
        "\n",
        "  if a == None:\n",
        "    return 0\n",
        "  b = last(array,x,0,n-1)\n",
        "\n",
        "  return b - a + 1\n",
        "def first(array,target,start,end):\n",
        "  if start > end :\n",
        "    return None\n",
        "\n",
        "  mid = (start + end)//2\n",
        "  if (mid == 0 or target > array[mid -1]) and array[mid] == target:\n",
        "    return mid\n",
        "\n",
        "  elif array[mid] >= target:\n",
        "    return first(array,target,start,mid-1)\n",
        "  else:\n",
        "    return first(array,target,mid+1,end)\n",
        "\n",
        "def last(array,target,start,end):\n",
        "  if start > end :\n",
        "    return None\n",
        "  mid = (start+end)//2\n",
        "  if(mid == n-1 or target < array[mid+1])and array[mid]==target:\n",
        "    return mid\n",
        "  elif array[mid]>target:\n",
        "    return last(array,target,start,md-1)\n",
        "  else:\n",
        "    return last(array,target,mid+1,end)\n",
        "\n",
        "n,x = map(int, input().split())\n",
        "array = list(map(int,input().split()))\n",
        "\n",
        "count =count_by_value(array,x)\n",
        "if count == 0 :\n",
        "  print(-1)\n",
        "else:\n",
        "  print(count)\n"
      ]
    },
    {
      "cell_type": "code",
      "source": [
        "# 28 고정점 찾기\n",
        "def binary_search(array,start,end):\n",
        "  if start>end:\n",
        "    return None\n",
        "  mid = (start + end) //2\n",
        "  if array[mid]==mid:\n",
        "    return mid\n",
        "  elif array[mid]>mid:\n",
        "    return binary_search(array,start,mid-1)\n",
        "  else:\n",
        "    return binary_search(array,mid+1,end)\n",
        "\n",
        "n = int(input())\n",
        "array = list(map(int,input().split()))\n",
        "\n",
        "index = binary_search(array,0,n-1)\n",
        "\n",
        "if index == None:\n",
        "  print(-1)\n",
        "else :\n",
        "  print(index)\n"
      ],
      "metadata": {
        "id": "Shbtu3qgkF63"
      },
      "execution_count": null,
      "outputs": []
    },
    {
      "cell_type": "code",
      "source": [
        "# 29 공유기 설치\n",
        "n , c = list(map(int,input().split(' ')))\n",
        "array =[]\n",
        "\n",
        "for _ in range(n):\n",
        "  array.append(int(input()))\n",
        "array.sort()\n",
        "\n",
        "start = 1\n",
        "end = array[-1]-array[0]\n",
        "result = 0\n",
        "\n",
        "while(start <= end):\n",
        "  mid = (start+end)//2\n",
        "  value = array[0]\n",
        "  count = 1\n",
        "  for i in range(1,n):\n",
        "    if array[i] >= value + mid:\n",
        "      value == array[i]\n",
        "      count += 1\n",
        "  if count >= c:\n",
        "    start = mid + 1\n",
        "    result = mid\n",
        "  else:\n",
        "    end = mid -1\n",
        "\n",
        "print(result)\n"
      ],
      "metadata": {
        "colab": {
          "base_uri": "https://localhost:8080/"
        },
        "id": "shQJy2ChkK0O",
        "outputId": "67637134-ac76-40a8-acb7-998ffaddda09"
      },
      "execution_count": null,
      "outputs": [
        {
          "output_type": "stream",
          "name": "stdout",
          "text": [
            "5 3\n",
            "1\n",
            "2\n",
            "8\n",
            "4\n",
            "9\n",
            "7\n"
          ]
        }
      ]
    },
    {
      "cell_type": "code",
      "source": [
        "# 30 가사 검색\n",
        "from bisect import bisect_left, bisect_right\n",
        "\n",
        "def count_by_range(a, left_value, right_value):\n",
        "  right_index = bisect_right(a,right_value)\n",
        "  left_index = bisect_left(a,left_value)\n",
        "  return right_index - left_index\n",
        "array = [[]for _ in range(10001)]\n",
        "\n",
        "reversed_array = [[]for _ in range(10001)]\n",
        "\n",
        "def solution(words,queries):\n",
        "  answer = []\n",
        "  for word in words:\n",
        "    array[len(word).append(word)]\n",
        "    reversed_array[len(word)].append(word[::-1])\n",
        "\n",
        "  for i  in range(10001):\n",
        "    array[i].sort()\n",
        "    reversed_array[i].sort()\n",
        "\n",
        "  for q in queries:\n",
        "    if q[0] != '?':\n",
        "      res = count_by_range(array[len(q)],q.replace('?','a'),q.replace('?','z'))\n",
        "    else:\n",
        "      res = count_by_range(reversed_array[len(q)],q[::-1].replace('?','a'),q[::-1].replace('?','z'))\n",
        "\n",
        "    answer.append(res)\n",
        "  return answer\n",
        "\n",
        "\n"
      ],
      "metadata": {
        "id": "QyfYFqhhkLGV"
      },
      "execution_count": 1,
      "outputs": []
    },
    {
      "cell_type": "code",
      "source": [
        "#  다이나믹문제\n",
        "# 31번 금광\n",
        "for tc in range(int(input())):\n",
        "  n,m = map(int,input().split())\n",
        "  array = list(map(int,input().split()))\n",
        "\n",
        "  dp = []\n",
        "  index = 0\n",
        "  for i in range(n):\n",
        "    dp.append(array[index:index+m])\n",
        "    index +=m\n",
        "  for j in range(1,m):\n",
        "    for i in range(n):\n",
        "      if i == 0:\n",
        "        left_up = 0\n",
        "      else:\n",
        "        left_up = dp[i-1][j-1]\n",
        "      if i == n-1:\n",
        "        left_down =0\n",
        "      else :\n",
        "        left_down = dp[i+1][j-1]\n",
        "\n",
        "      left = dp[i][j-1]\n",
        "      dp[i][j] = dp[i][j] + max(left_up, left_down, left)\n",
        "  result = 0\n",
        "  for i in range(n):\n",
        "    result = max(result, dp[i][m-1])\n",
        "\n",
        "  print(result)\n",
        "\n"
      ],
      "metadata": {
        "id": "U3av366NkLMn",
        "colab": {
          "base_uri": "https://localhost:8080/",
          "height": 303
        },
        "outputId": "d3b8ae55-8cea-4b7e-9ada-16addde5ebe2"
      },
      "execution_count": 2,
      "outputs": [
        {
          "name": "stdout",
          "output_type": "stream",
          "text": [
            "2\n",
            "3 4\n",
            "1 3 3 2 2 1 41 0 6 4 7\n"
          ]
        },
        {
          "output_type": "error",
          "ename": "IndexError",
          "evalue": "ignored",
          "traceback": [
            "\u001b[0;31m---------------------------------------------------------------------------\u001b[0m",
            "\u001b[0;31mIndexError\u001b[0m                                Traceback (most recent call last)",
            "\u001b[0;32m<ipython-input-2-00c934e1af9e>\u001b[0m in \u001b[0;36m<cell line: 3>\u001b[0;34m()\u001b[0m\n\u001b[1;32m     22\u001b[0m \u001b[0;34m\u001b[0m\u001b[0m\n\u001b[1;32m     23\u001b[0m       \u001b[0mleft\u001b[0m \u001b[0;34m=\u001b[0m \u001b[0mdp\u001b[0m\u001b[0;34m[\u001b[0m\u001b[0mi\u001b[0m\u001b[0;34m]\u001b[0m\u001b[0;34m[\u001b[0m\u001b[0mj\u001b[0m\u001b[0;34m-\u001b[0m\u001b[0;36m1\u001b[0m\u001b[0;34m]\u001b[0m\u001b[0;34m\u001b[0m\u001b[0;34m\u001b[0m\u001b[0m\n\u001b[0;32m---> 24\u001b[0;31m       \u001b[0mdp\u001b[0m\u001b[0;34m[\u001b[0m\u001b[0mi\u001b[0m\u001b[0;34m]\u001b[0m\u001b[0;34m[\u001b[0m\u001b[0mj\u001b[0m\u001b[0;34m]\u001b[0m \u001b[0;34m=\u001b[0m \u001b[0mdp\u001b[0m\u001b[0;34m[\u001b[0m\u001b[0mi\u001b[0m\u001b[0;34m]\u001b[0m\u001b[0;34m[\u001b[0m\u001b[0mj\u001b[0m\u001b[0;34m]\u001b[0m \u001b[0;34m+\u001b[0m \u001b[0mmax\u001b[0m\u001b[0;34m(\u001b[0m\u001b[0mleft_up\u001b[0m\u001b[0;34m,\u001b[0m\u001b[0mleft_down\u001b[0m\u001b[0;34m,\u001b[0m\u001b[0mleft\u001b[0m\u001b[0;34m)\u001b[0m\u001b[0;34m\u001b[0m\u001b[0;34m\u001b[0m\u001b[0m\n\u001b[0m\u001b[1;32m     25\u001b[0m   \u001b[0mresult\u001b[0m \u001b[0;34m=\u001b[0m \u001b[0;36m0\u001b[0m\u001b[0;34m\u001b[0m\u001b[0;34m\u001b[0m\u001b[0m\n\u001b[1;32m     26\u001b[0m   \u001b[0;32mfor\u001b[0m \u001b[0mi\u001b[0m \u001b[0;32min\u001b[0m \u001b[0mrange\u001b[0m\u001b[0;34m(\u001b[0m\u001b[0mn\u001b[0m\u001b[0;34m)\u001b[0m\u001b[0;34m:\u001b[0m\u001b[0;34m\u001b[0m\u001b[0;34m\u001b[0m\u001b[0m\n",
            "\u001b[0;31mIndexError\u001b[0m: list index out of range"
          ]
        }
      ]
    },
    {
      "cell_type": "code",
      "source": [
        "# 32 정수 삼각형\n",
        "n = int(input())\n",
        "dp = []\n",
        "\n",
        "for _ in range(n):\n",
        "  dp.append(list(map(int,input().split())))\n",
        "\n",
        "for i in range(1,n):\n",
        "  for j in range(i+1):\n",
        "    if j==0:\n",
        "      up_left = 0\n",
        "    else :\n",
        "      up_left= dp[i-1][j-1]\n",
        "\n",
        "    if j == i :\n",
        "      up = 0\n",
        "    else :\n",
        "      up = dp[i-1][j]\n",
        "    dp[i][j] = dp[i][j] + max(up_left,up)\n",
        "\n",
        "print(max(dp[n-1]))\n"
      ],
      "metadata": {
        "id": "R_LoPMiGkLUE",
        "colab": {
          "base_uri": "https://localhost:8080/"
        },
        "outputId": "cfaa2616-8c61-47fb-9dc7-3397fe6fe931"
      },
      "execution_count": 3,
      "outputs": [
        {
          "output_type": "stream",
          "name": "stdout",
          "text": [
            "5\n",
            "7\n",
            "3 8\n",
            "8 1 0\n",
            "2 7 4 4\n",
            "4 5 2 6 5\n",
            "30\n"
          ]
        }
      ]
    },
    {
      "cell_type": "code",
      "source": [
        "# 33 퇴사\n",
        "n = int(input())\n",
        "t = []\n",
        "p = []\n",
        "dp = [0]*(n+1)\n",
        "max_value=0\n",
        "\n",
        "for _ in range(n):\n",
        "  x,y = map(int,input().split())\n",
        "  t.append(x)\n",
        "  p.append(y)\n",
        "\n",
        "for i in range(n-1,-1,-1):\n",
        "  time = t[i] +i\n",
        "\n",
        "  if time <= n :\n",
        "    dp[i]=max(p[i]+dp[time],max_value)\n",
        "    max_value = dp[i]\n",
        "\n",
        "  else:\n",
        "    dp[i] = max_value\n",
        "print(max_value)"
      ],
      "metadata": {
        "id": "R3T5j6JIkXwR",
        "colab": {
          "base_uri": "https://localhost:8080/"
        },
        "outputId": "bcc0072d-6835-442c-9bcf-e5dcca6dd204"
      },
      "execution_count": 4,
      "outputs": [
        {
          "output_type": "stream",
          "name": "stdout",
          "text": [
            "7\n",
            "3 10\n",
            "5 20\n",
            "1 10\n",
            "1 20\n",
            "2 15\n",
            "4 40\n",
            "2 200\n",
            "45\n"
          ]
        }
      ]
    },
    {
      "cell_type": "code",
      "source": [
        "# 34 병사 배치하기\n",
        "n = int(input())\n",
        "array = list(map(int,input().split()))\n",
        "array.reverse()\n",
        "\n",
        "dp =[1]* n\n",
        "\n",
        "for i in range(1,n):\n",
        "  for j in range(0,i):\n",
        "    if array[j]< array[i]:\n",
        "      dp[i] = max(dp[i],dp[j]+1)\n",
        "print(n-max(dp))"
      ],
      "metadata": {
        "id": "nTvXpFEdkZSV",
        "colab": {
          "base_uri": "https://localhost:8080/"
        },
        "outputId": "c28093de-4d8f-42d8-e7d0-928883d72f5a"
      },
      "execution_count": 5,
      "outputs": [
        {
          "output_type": "stream",
          "name": "stdout",
          "text": [
            "7\n",
            "15 11 4 8 5 2 4\n",
            "2\n"
          ]
        }
      ]
    },
    {
      "cell_type": "code",
      "source": [
        "# 35 못생긴 수\n",
        "n = int(input())\n",
        "ugly = [0] * n\n",
        "ugly[0] = 1\n",
        "\n",
        "i2 = i3 = i5 = 0\n",
        "next2,next3,next5 =2,3,5\n",
        "\n",
        "for l in range(1,n):\n",
        "  ugly[l]=min(next2,next3,next5)\n",
        "  if ugly[l]==next2:\n",
        "    i2 +=1\n",
        "    next2 = ugly[i2]*2\n",
        "  if ugly[l]==next3:\n",
        "    i3 +=1\n",
        "    next3 = ugly[i3]*3\n",
        "  if ugly[l]==next5:\n",
        "    i5 +=1\n",
        "    next5 = ugly[i5]*5\n",
        "\n",
        "print(ugly[n-1])\n",
        "\n",
        "\n",
        "\n",
        "\n",
        "\n"
      ],
      "metadata": {
        "id": "olbbD8pwkcA4",
        "colab": {
          "base_uri": "https://localhost:8080/"
        },
        "outputId": "08e1fcd4-fa85-4925-9b10-0def3dbfc2c2"
      },
      "execution_count": 6,
      "outputs": [
        {
          "output_type": "stream",
          "name": "stdout",
          "text": [
            "14\n",
            "20\n"
          ]
        }
      ]
    },
    {
      "cell_type": "code",
      "source": [
        "# 36 편집거리\n",
        "def edit_dist(str1,str2):\n",
        "  n = len(str1)\n",
        "  m = len(str2)\n",
        "\n",
        "  # 다이나믹 프로그램\n",
        "  dp = [[0]*(m+1)for _ in range(n+1)]\n",
        "\n",
        "  for i in range(1,n+1):\n",
        "    dp[i][0] = i\n",
        "  for j in range(1,m+1):\n",
        "    dp[0][j]= j\n",
        "\n",
        "  for i in range(1,n+1):\n",
        "    for j in range(1,m+1):\n",
        "      if str1[i-1] == str2[j-1]:\n",
        "        dp[i][j] = dp[i-1][j-1]\n",
        "      else :\n",
        "        dp[i][j] = 1 + min(dp[i][j-1,dp[i-1][j],dp[i-1][j-1]])\n",
        "\n",
        "  return dp[n][m]\n",
        "\n",
        "  str1 = input()\n",
        "  str2 = input()\n",
        "\n",
        "  print(edit_dist(str1,str2))\n",
        "\n"
      ],
      "metadata": {
        "id": "MVOD4Zf9keao"
      },
      "execution_count": 8,
      "outputs": []
    }
  ]
}